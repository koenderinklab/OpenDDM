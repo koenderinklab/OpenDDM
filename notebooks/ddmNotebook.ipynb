{
 "cells": [
  {
   "cell_type": "code",
   "execution_count": 1,
   "metadata": {},
   "outputs": [],
   "source": [
    "import numpy as np\n",
    "import pyfftw\n",
    "import scipy.fft\n",
    "import matplotlib\n",
    "import matplotlib.pyplot as pl\n",
    "import nd2reader as nd2\n",
    "import time"
   ]
  },
  {
   "cell_type": "code",
   "execution_count": 2,
   "metadata": {},
   "outputs": [],
   "source": [
    "#define the filename\n",
    "files = \"../data/A1_s3001.nd2\""
   ]
  },
  {
   "cell_type": "code",
   "execution_count": 3,
   "metadata": {},
   "outputs": [],
   "source": [
    "def radial_profile(data, centre):\n",
    "    x, y = np.indices((data.shape))\n",
    "    r = np.sqrt((x-centre[0])**2 + (y-centre[1])**2)\n",
    "    r = r.astype(np.int)\n",
    "    tbin = np.bincount(r.ravel(),data.ravel())\n",
    "    nr = np.bincount(r.ravel())\n",
    "    radialprofile = tbin/nr\n",
    "    return radialprofile"
   ]
  },
  {
   "cell_type": "code",
   "execution_count": 4,
   "metadata": {},
   "outputs": [
    {
     "name": "stdout",
     "output_type": "stream",
     "text": [
      "5000\n"
     ]
    }
   ],
   "source": [
    "#reading in files based on their filetype\n",
    "if files[-4:] == \".nd2\":\n",
    "    #read an nd2 file\n",
    "    images = nd2.ND2Reader(files)\n",
    "    width = images.metadata['width'] #the width of the image in pixels\n",
    "    height = images.metadata['height'] #the height of the image in pixels\n",
    "    # duration = images.metadata['experiment']['loops'][0]['duration'] #length of the video in milliseconds\n",
    "    numberOfFrames = len(images) #number of frames in image\n",
    "    print(numberOfFrames)\n",
    "    images.iter_axes = 't' #this may need checked and may need to be changed to 't', the reader thinks z is time here though for my test data\n",
    "elif files[-4:] == \".lif\":\n",
    "    #read a lif file\n",
    "    print(\"foo\")\n",
    "else:\n",
    "    print(\"unrecognised file type\")\n",
    "    exit()"
   ]
  },
  {
   "cell_type": "code",
   "execution_count": 5,
   "metadata": {},
   "outputs": [
    {
     "name": "stdout",
     "output_type": "stream",
     "text": [
      "[1 2]\n"
     ]
    }
   ],
   "source": [
    "taus = np.arange(1,3) #range(int(numberOfFrames/2)) #the unit of tau is currently frames, we will convert it to s at the end\n",
    "print(taus)"
   ]
  },
  {
   "cell_type": "code",
   "execution_count": 6,
   "metadata": {},
   "outputs": [
    {
     "name": "stderr",
     "output_type": "stream",
     "text": [
      "C:\\Users\\Maurits\\AppData\\Local\\Temp\\ipykernel_14432\\197703533.py:4: DeprecationWarning: `np.int` is a deprecated alias for the builtin `int`. To silence this warning, use `int` by itself. Doing this will not modify any behavior and is safe. When replacing `np.int`, you may wish to use e.g. `np.int64` or `np.int32` to specify the precision. If you wish to review your current use, check the release note link for additional information.\n",
      "Deprecated in NumPy 1.20; for more details and guidance: https://numpy.org/devdocs/release/1.20.0-notes.html#deprecations\n",
      "  r = r.astype(np.int)\n"
     ]
    },
    {
     "name": "stdout",
     "output_type": "stream",
     "text": [
      "333910033202007.0\n",
      "95.30523324012756\n",
      "389235327097185.4\n",
      "193.70307445526123\n"
     ]
    }
   ],
   "source": [
    "'''\n",
    "This is the main bit which does all the looping over frames and lag times\n",
    "'''\n",
    "iTime = time.time()\n",
    "for i in taus: #i is the lag time, generally labelled as tau or delta t\n",
    "    gTau = np.zeros([width, height]) #initialise gTau to hold g(vec(q), tau) which will be radially averaged then saved\n",
    "    imageDiffFTSquared = np.zeros([width, height]) #initialise zeros to hold the squared of the fourier transformed differences\n",
    "    for j in range(numberOfFrames-i): #j is the initial frame in the difference calculation, usually labelled as t\n",
    "        imageDiff = images[j+i] - images[j] #calculate the difference in pixel intensities between images\n",
    "        imageDiffFT = np.fft.fft2(imageDiff) #fourier transform the difference\n",
    "        imageDiffFTSquared += np.abs(imageDiffFT)**2 #for averaging this, add the square of the fourier transform to itself\n",
    "\n",
    "    imageDiffFTSquared = np.fft.fftshift(imageDiffFTSquared)\n",
    "    gTau = imageDiffFTSquared/(numberOfFrames-i)\n",
    "    gTauRadial = radial_profile(gTau, (width/2., height/2.))\n",
    "    #np.savetxt(\"gData/testExperimentRadial/test_tau{}.txt\".format(i),gTauRadial)\n",
    "    print(gTauRadial[10])\n",
    "    print(time.time()-iTime) #benchmarking different fft algorithms"
   ]
  },
  {
   "cell_type": "code",
   "execution_count": 7,
   "metadata": {},
   "outputs": [
    {
     "name": "stderr",
     "output_type": "stream",
     "text": [
      "C:\\Users\\Maurits\\AppData\\Local\\Temp\\ipykernel_14432\\197703533.py:4: DeprecationWarning: `np.int` is a deprecated alias for the builtin `int`. To silence this warning, use `int` by itself. Doing this will not modify any behavior and is safe. When replacing `np.int`, you may wish to use e.g. `np.int64` or `np.int32` to specify the precision. If you wish to review your current use, check the release note link for additional information.\n",
      "Deprecated in NumPy 1.20; for more details and guidance: https://numpy.org/devdocs/release/1.20.0-notes.html#deprecations\n",
      "  r = r.astype(np.int)\n"
     ]
    },
    {
     "name": "stdout",
     "output_type": "stream",
     "text": [
      "333910001828891.1\n",
      "50.75640797615051\n",
      "389235289416347.5\n",
      "99.31342220306396\n"
     ]
    }
   ],
   "source": [
    "'''\n",
    "This is the main bit which does all the looping over frames and lag times\n",
    "'''\n",
    "iTime = time.time()\n",
    "pyfftw.interfaces.cache.enable()\n",
    "imageDiff = pyfftw.empty_aligned((height,width), dtype='complex64')\n",
    "fft_object = pyfftw.builders.fft2(imageDiff, threads = 8,overwrite_input=True, planner_effort = 'FFTW_ESTIMATE')\n",
    "for i in taus: #i is the lag time, generally labelled as tau or delta t\n",
    "\n",
    "    gTau = np.zeros([width, height]) #initialise gTau to hold g(vec(q), tau) which will be radially averaged then saved\n",
    "    imageDiffFTSquared = np.zeros([width, height]) #initialise zeros to hold the squared of the fourier transformed differences\n",
    "    for j in range(numberOfFrames-i): #j is the initial frame in the difference calculation, usually labelled as t\n",
    "        imageDiff = images[j+i] - images[j] #calculate the difference in pixel intensities between images\n",
    "        imageDiffFTSquared += np.abs(fft_object(imageDiff))**2 #for averaging this, add the square of the fourier transform to itself\n",
    "\n",
    "    imageDiffFTSquared = np.fft.fftshift(imageDiffFTSquared)\n",
    "    gTau = imageDiffFTSquared/(numberOfFrames-i)\n",
    "    gTauRadial = radial_profile(gTau, (width/2., height/2.))\n",
    "    #np.savetxt(\"gData/testExperimentRadial/test_tau{}.txt\".format(i),gTauRadial)\n",
    "    print(gTauRadial[10])\n",
    "    print(time.time()-iTime) #benchmarking different fft algorithms"
   ]
  },
  {
   "cell_type": "code",
   "execution_count": null,
   "metadata": {},
   "outputs": [],
   "source": []
  }
 ],
 "metadata": {
  "interpreter": {
   "hash": "5d3ba36e63629f58b0b91fca6dd69f41cc067643cf698e645db0540ff966b8cd"
  },
  "kernelspec": {
   "display_name": "Python 3.8.13 ('ddm_env')",
   "language": "python",
   "name": "python3"
  },
  "language_info": {
   "codemirror_mode": {
    "name": "ipython",
    "version": 3
   },
   "file_extension": ".py",
   "mimetype": "text/x-python",
   "name": "python",
   "nbconvert_exporter": "python",
   "pygments_lexer": "ipython3",
   "version": "3.8.13"
  },
  "latex_envs": {
   "LaTeX_envs_menu_present": true,
   "autoclose": false,
   "autocomplete": true,
   "bibliofile": "biblio.bib",
   "cite_by": "apalike",
   "current_citInitial": 1,
   "eqLabelWithNumbers": true,
   "eqNumInitial": 1,
   "hotkeys": {
    "equation": "Ctrl-E",
    "itemize": "Ctrl-I"
   },
   "labels_anchors": false,
   "latex_user_defs": false,
   "report_style_numbering": false,
   "user_envs_cfg": false
  }
 },
 "nbformat": 4,
 "nbformat_minor": 4
}
