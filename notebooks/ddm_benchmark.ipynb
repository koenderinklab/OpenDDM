{
 "cells": [
  {
   "cell_type": "code",
   "execution_count": 35,
   "metadata": {},
   "outputs": [],
   "source": [
    "import numpy as np\n",
    "from dask import delayed\n",
    "from numba import jit\n",
    "import nd2\n",
    "import matplotlib.pyplot as plt\n",
    "import pyfftw\n",
    "\n",
    "# Local imports\n",
    "from ddm.processing import radial_profile, radial_profile_jit"
   ]
  },
  {
   "cell_type": "code",
   "execution_count": 26,
   "metadata": {},
   "outputs": [],
   "source": [
    "# Load dataset\n",
    "def load_data(file: str = \"../data/A1_s3001.nd2\", num_frames: str = 500):\n",
    "    data = nd2.imread(file, xarray=True, dask=False)\n",
    "    data = data[:num_frames,:,:]\n",
    "    return data.astype(\"complex64\")\n",
    "\n",
    "def load_data_delayed(file: str = \"../data/A1_s3001.nd2\", num_frames: str = 500):\n",
    "    data = nd2.imread(file, xarray=True, dask=True)\n",
    "    data = data[:num_frames,:,:]\n",
    "    return data.astype(\"complex64\")\n"
   ]
  },
  {
   "cell_type": "code",
   "execution_count": 87,
   "metadata": {},
   "outputs": [],
   "source": [
    "# Helper functions\n",
    "def get_diff_images(data, tau: int):\n",
    "    \"\"\"_summary_\n",
    "\n",
    "    Parameters\n",
    "    ----------\n",
    "    data : _type_\n",
    "        _description_\n",
    "    tau : _type_\n",
    "        _description_\n",
    "\n",
    "    Returns\n",
    "    -------\n",
    "    _type_\n",
    "        _description_\n",
    "    \"\"\"\n",
    "    num_frames, height, width = data.shape\n",
    "    image_fft_squared = np.zeros([width, height])\n",
    "    for jj in range(num_frames - tau):\n",
    "        image_diff = data[jj+tau] - data[jj]\n",
    "        image_fft = np.fft.fft2(image_diff)\n",
    "        image_fft_squared += np.abs(image_fft)**2\n",
    "    \n",
    "    fft_shift = np.fft.fftshift(image_fft_squared)\n",
    "    return fft_shift\n",
    "\n",
    "@jit(nopython=True, nogil=True)\n",
    "def get_diff_images_jit(data: np.ndarray, tau: int):\n",
    "    \"\"\"_summary_\n",
    "\n",
    "    Parameters\n",
    "    ----------\n",
    "    data : _type_\n",
    "        _description_\n",
    "    tau : _type_\n",
    "        _description_\n",
    "\n",
    "    Returns\n",
    "    -------\n",
    "    _type_\n",
    "        _description_\n",
    "    \"\"\"\n",
    "    num_frames, height, width = data.shape\n",
    "    image_fft_squared = np.zeros([width, height])\n",
    "    for jj in range(num_frames - tau):\n",
    "        image_diff = data[jj+tau] - data[jj]\n",
    "        image_fft = np.fft.fft2(image_diff)\n",
    "        image_fft_squared += np.abs(image_fft)**2\n",
    "    \n",
    "    fft_shift = np.fft.fftshift(image_fft_squared)\n",
    "    return fft_shift\n",
    "\n",
    "def calc_correlation(image_fft_squared: np.ndarray, num_frames: int, tau: int):\n",
    "    \"\"\"_summary_\n",
    "\n",
    "    Parameters\n",
    "    ----------\n",
    "    image_diff_squared : _type_\n",
    "        _description_\n",
    "    num_frames : _type_\n",
    "        _description_\n",
    "\n",
    "    Returns\n",
    "    -------\n",
    "    _type_\n",
    "        _description_\n",
    "    \"\"\"\n",
    "    height, width = image_fft_squared.shape\n",
    "    fft_shift = np.fft.fftshift(image_fft_squared)\n",
    "    gTau = fft_shift/(num_frames-tau)\n",
    "    gTau_radial = radial_profile(gTau, (width/2., height/2.))\n",
    "    return gTau_radial\n"
   ]
  },
  {
   "cell_type": "code",
   "execution_count": 66,
   "metadata": {},
   "outputs": [],
   "source": [
    "def ddm_numpy(data, tau):\n",
    "    \"\"\"_summary_\n",
    "\n",
    "    Parameters\n",
    "    ----------\n",
    "    data : _type_\n",
    "        _description_\n",
    "    tau : _type_\n",
    "        _description_\n",
    "\n",
    "    Returns\n",
    "    -------\n",
    "    _type_\n",
    "        _description_\n",
    "    \"\"\"\n",
    "    num_frames, height, width = data.shape\n",
    "\n",
    "    gTau = np.zeros([width, height]) #initialise gTau to hold g(vec(q), tau) which will be radially averaged then saved\n",
    "    imageDiffFTSquared = np.zeros([width, height]) #initialise zeros to hold the squared of the fourier transformed differences\n",
    "    \n",
    "    for jj in range(num_frames-tau): #j is the initial frame in the difference calculation, usually labelled as t\n",
    "        imageDiff = data[jj+tau] - data[jj] #calculate the difference in pixel intensities between images\n",
    "        imageDiffFT = np.fft.fft2(imageDiff) #fourier transform the difference\n",
    "        imageDiffFTSquared += np.abs(imageDiffFT)**2 #for averaging this, add the square of the fourier transform to itself\n",
    "\n",
    "    imageDiffFTSquared = np.fft.fftshift(imageDiffFTSquared)\n",
    "    gTau = imageDiffFTSquared/(num_frames-tau)\n",
    "    gTauRadial = radial_profile(gTau, (width/2., height/2.))\n",
    "    return gTauRadial, imageDiffFTSquared    \n",
    "\n",
    "def ddm_fftw(data, tau):\n",
    "    \"\"\"_summary_\n",
    "\n",
    "    Parameters\n",
    "    ----------\n",
    "    data : _type_\n",
    "        _description_\n",
    "    tau : _type_\n",
    "        _description_\n",
    "\n",
    "    Returns\n",
    "    -------\n",
    "    _type_\n",
    "        _description_\n",
    "    \"\"\"\n",
    "    num_frames, height, width = data.shape\n",
    "\n",
    "    pyfftw.interfaces.cache.enable()\n",
    "    imageDiff = pyfftw.empty_aligned((height,width), dtype='complex64')\n",
    "    fft_object = pyfftw.builders.fft2(imageDiff, threads = 8,overwrite_input=True, planner_effort = 'FFTW_ESTIMATE')\n",
    "\n",
    "    gTau = np.zeros([width, height]) #initialise gTau to hold g(vec(q), tau) which will be radially averaged then saved\n",
    "    imageDiffFTSquared = np.zeros([width, height]) #initialise zeros to hold the squared of the fourier transformed differences\n",
    "    \n",
    "    for jj in range(num_frames-tau): #j is the initial frame in the difference calculation, usually labelled as t\n",
    "        imageDiff = data[jj+tau] - data[jj] #calculate the difference in pixel intensities between images        \n",
    "        imageDiffFTSquared += np.abs(fft_object(imageDiff))**2 #for averaging this, add the square of the fourier transform to itself\n",
    "\n",
    "    imageDiffFTSquared = np.fft.fftshift(imageDiffFTSquared)\n",
    "    gTau = imageDiffFTSquared/(num_frames-tau)\n",
    "    gTauRadial = radial_profile(gTau, (width/2., height/2.))\n",
    "    return gTauRadial    \n",
    "\n",
    "def ddm(data, tau: int):\n",
    "    num_frames, _, _ = data.shape\n",
    "    image_diff_squared = get_diff_images(data, tau)\n",
    "    gTau_radial = calc_correlation(image_diff_squared, num_frames)\n",
    "    return gTau_radial\n",
    "\n",
    "\n"
   ]
  },
  {
   "cell_type": "markdown",
   "metadata": {},
   "source": [
    "## Benchmark without optimization"
   ]
  },
  {
   "cell_type": "code",
   "execution_count": null,
   "metadata": {},
   "outputs": [],
   "source": [
    "data = load_data()"
   ]
  },
  {
   "cell_type": "code",
   "execution_count": 67,
   "metadata": {},
   "outputs": [
    {
     "name": "stdout",
     "output_type": "stream",
     "text": [
      "CPU times: total: 7.89 s\n",
      "Wall time: 9.89 s\n"
     ]
    },
    {
     "data": {
      "text/plain": [
       "[<matplotlib.lines.Line2D at 0x1c76fcdb2b0>]"
      ]
     },
     "execution_count": 67,
     "metadata": {},
     "output_type": "execute_result"
    },
    {
     "data": {
      "image/png": "[encoded data removed]",
      "text/plain": [
       "<Figure size 432x288 with 1 Axes>"
      ]
     },
     "metadata": {
      "needs_background": "light"
     },
     "output_type": "display_data"
    }
   ],
   "source": [
    "%%time\n",
    "r1, image_diff_squared = ddm_numpy(data, 2)\n",
    "plt.plot(r1);"
   ]
  },
  {
   "cell_type": "code",
   "execution_count": 62,
   "metadata": {},
   "outputs": [
    {
     "name": "stdout",
     "output_type": "stream",
     "text": [
      "CPU times: total: 5.77 s\n",
      "Wall time: 5.13 s\n"
     ]
    },
    {
     "data": {
      "text/plain": [
       "[<matplotlib.lines.Line2D at 0x1c770090430>]"
      ]
     },
     "execution_count": 62,
     "metadata": {},
     "output_type": "execute_result"
    },
    {
     "data": {
      "image/png": "[encoded data removed]",
      "text/plain": [
       "<Figure size 432x288 with 1 Axes>"
      ]
     },
     "metadata": {
      "needs_background": "light"
     },
     "output_type": "display_data"
    }
   ],
   "source": [
    "%%time\n",
    "r2 = ddm_fftw(data, 2)\n",
    "plt.plot(r2);"
   ]
  },
  {
   "cell_type": "markdown",
   "metadata": {},
   "source": [
    "## Refactoring of functions"
   ]
  },
  {
   "cell_type": "code",
   "execution_count": 79,
   "metadata": {},
   "outputs": [
    {
     "name": "stdout",
     "output_type": "stream",
     "text": [
      "CPU times: total: 8.33 s\n",
      "Wall time: 10.4 s\n"
     ]
    }
   ],
   "source": [
    "%%time\n",
    "images_diff = get_diff_images(data, 1)"
   ]
  },
  {
   "cell_type": "code",
   "execution_count": 88,
   "metadata": {},
   "outputs": [
    {
     "ename": "TypingError",
     "evalue": "Failed in nopython mode pipeline (step: nopython frontend)\n\u001b[1m\u001b[1m\u001b[1mNo implementation of function Function(<built-in function zeros>) found for signature:\n \n >>> zeros(list(int64)<iv=None>)\n \nThere are 2 candidate implementations:\n\u001b[1m    - Of which 2 did not match due to:\n    Overload of function 'zeros': File: numba\\core\\typing\\npydecl.py: Line 511.\n      With argument(s): '(list(int64)<iv=None>)':\u001b[0m\n\u001b[1m     No match.\u001b[0m\n\u001b[0m\n\u001b[0m\u001b[1mDuring: resolving callee type: Function(<built-in function zeros>)\u001b[0m\n\u001b[0m\u001b[1mDuring: typing of call at C:\\Users\\Maurits\\AppData\\Local\\Temp\\ipykernel_12964\\551801932.py (44)\n\u001b[0m\n\u001b[1m\nFile \"..\\..\\..\\AppData\\Local\\Temp\\ipykernel_12964\\551801932.py\", line 44:\u001b[0m\n\u001b[1m<source missing, REPL/exec in use?>\u001b[0m\n",
     "output_type": "error",
     "traceback": [
      "\u001b[1;31m---------------------------------------------------------------------------\u001b[0m",
      "\u001b[1;31mTypingError\u001b[0m                               Traceback (most recent call last)",
      "File \u001b[1;32m<timed exec>:1\u001b[0m, in \u001b[0;36m<module>\u001b[1;34m\u001b[0m\n",
      "File \u001b[1;32mc:\\Users\\Maurits\\miniconda3\\envs\\ddm_env\\lib\\site-packages\\numba\\core\\dispatcher.py:420\u001b[0m, in \u001b[0;36m_DispatcherBase._compile_for_args\u001b[1;34m(self, *args, **kws)\u001b[0m\n\u001b[0;32m    <a href='file:///c%3A/Users/Maurits/miniconda3/envs/ddm_env/lib/site-packages/numba/core/dispatcher.py?line=413'>414</a>\u001b[0m         msg \u001b[39m=\u001b[39m \u001b[39mstr\u001b[39m(e)\u001b[39m.\u001b[39mrstrip() \u001b[39m+\u001b[39m (\n\u001b[0;32m    <a href='file:///c%3A/Users/Maurits/miniconda3/envs/ddm_env/lib/site-packages/numba/core/dispatcher.py?line=414'>415</a>\u001b[0m             \u001b[39m\"\u001b[39m\u001b[39m\\n\u001b[39;00m\u001b[39m\\n\u001b[39;00m\u001b[39mThis error may have been caused by the following argument(s):\u001b[39m\u001b[39m\\n\u001b[39;00m\u001b[39m%s\u001b[39;00m\u001b[39m\\n\u001b[39;00m\u001b[39m\"\u001b[39m\n\u001b[0;32m    <a href='file:///c%3A/Users/Maurits/miniconda3/envs/ddm_env/lib/site-packages/numba/core/dispatcher.py?line=415'>416</a>\u001b[0m             \u001b[39m%\u001b[39m \u001b[39m\"\u001b[39m\u001b[39m\\n\u001b[39;00m\u001b[39m\"\u001b[39m\u001b[39m.\u001b[39mjoin(\u001b[39m\"\u001b[39m\u001b[39m- argument \u001b[39m\u001b[39m%d\u001b[39;00m\u001b[39m: \u001b[39m\u001b[39m%s\u001b[39;00m\u001b[39m\"\u001b[39m \u001b[39m%\u001b[39m (i, err)\n\u001b[0;32m    <a href='file:///c%3A/Users/Maurits/miniconda3/envs/ddm_env/lib/site-packages/numba/core/dispatcher.py?line=416'>417</a>\u001b[0m                         \u001b[39mfor\u001b[39;00m i, err \u001b[39min\u001b[39;00m failed_args))\n\u001b[0;32m    <a href='file:///c%3A/Users/Maurits/miniconda3/envs/ddm_env/lib/site-packages/numba/core/dispatcher.py?line=417'>418</a>\u001b[0m         e\u001b[39m.\u001b[39mpatch_message(msg)\n\u001b[1;32m--> <a href='file:///c%3A/Users/Maurits/miniconda3/envs/ddm_env/lib/site-packages/numba/core/dispatcher.py?line=419'>420</a>\u001b[0m     error_rewrite(e, \u001b[39m'\u001b[39;49m\u001b[39mtyping\u001b[39;49m\u001b[39m'\u001b[39;49m)\n\u001b[0;32m    <a href='file:///c%3A/Users/Maurits/miniconda3/envs/ddm_env/lib/site-packages/numba/core/dispatcher.py?line=420'>421</a>\u001b[0m \u001b[39mexcept\u001b[39;00m errors\u001b[39m.\u001b[39mUnsupportedError \u001b[39mas\u001b[39;00m e:\n\u001b[0;32m    <a href='file:///c%3A/Users/Maurits/miniconda3/envs/ddm_env/lib/site-packages/numba/core/dispatcher.py?line=421'>422</a>\u001b[0m     \u001b[39m# Something unsupported is present in the user code, add help info\u001b[39;00m\n\u001b[0;32m    <a href='file:///c%3A/Users/Maurits/miniconda3/envs/ddm_env/lib/site-packages/numba/core/dispatcher.py?line=422'>423</a>\u001b[0m     error_rewrite(e, \u001b[39m'\u001b[39m\u001b[39munsupported_error\u001b[39m\u001b[39m'\u001b[39m)\n",
      "File \u001b[1;32mc:\\Users\\Maurits\\miniconda3\\envs\\ddm_env\\lib\\site-packages\\numba\\core\\dispatcher.py:361\u001b[0m, in \u001b[0;36m_DispatcherBase._compile_for_args.<locals>.error_rewrite\u001b[1;34m(e, issue_type)\u001b[0m\n\u001b[0;32m    <a href='file:///c%3A/Users/Maurits/miniconda3/envs/ddm_env/lib/site-packages/numba/core/dispatcher.py?line=358'>359</a>\u001b[0m     \u001b[39mraise\u001b[39;00m e\n\u001b[0;32m    <a href='file:///c%3A/Users/Maurits/miniconda3/envs/ddm_env/lib/site-packages/numba/core/dispatcher.py?line=359'>360</a>\u001b[0m \u001b[39melse\u001b[39;00m:\n\u001b[1;32m--> <a href='file:///c%3A/Users/Maurits/miniconda3/envs/ddm_env/lib/site-packages/numba/core/dispatcher.py?line=360'>361</a>\u001b[0m     \u001b[39mraise\u001b[39;00m e\u001b[39m.\u001b[39mwith_traceback(\u001b[39mNone\u001b[39;00m)\n",
      "\u001b[1;31mTypingError\u001b[0m: Failed in nopython mode pipeline (step: nopython frontend)\n\u001b[1m\u001b[1m\u001b[1mNo implementation of function Function(<built-in function zeros>) found for signature:\n \n >>> zeros(list(int64)<iv=None>)\n \nThere are 2 candidate implementations:\n\u001b[1m    - Of which 2 did not match due to:\n    Overload of function 'zeros': File: numba\\core\\typing\\npydecl.py: Line 511.\n      With argument(s): '(list(int64)<iv=None>)':\u001b[0m\n\u001b[1m     No match.\u001b[0m\n\u001b[0m\n\u001b[0m\u001b[1mDuring: resolving callee type: Function(<built-in function zeros>)\u001b[0m\n\u001b[0m\u001b[1mDuring: typing of call at C:\\Users\\Maurits\\AppData\\Local\\Temp\\ipykernel_12964\\551801932.py (44)\n\u001b[0m\n\u001b[1m\nFile \"..\\..\\..\\AppData\\Local\\Temp\\ipykernel_12964\\551801932.py\", line 44:\u001b[0m\n\u001b[1m<source missing, REPL/exec in use?>\u001b[0m\n"
     ]
    }
   ],
   "source": [
    "%%time\n",
    "images_diff = get_diff_images_jit(data.to_numpy(), 1)"
   ]
  },
  {
   "cell_type": "code",
   "execution_count": 65,
   "metadata": {},
   "outputs": [
    {
     "data": {
      "text/plain": [
       "[<matplotlib.lines.Line2D at 0x1c7700fc490>]"
      ]
     },
     "execution_count": 65,
     "metadata": {},
     "output_type": "execute_result"
    },
    {
     "data": {
      "image/png": "[encoded data removed]",
      "text/plain": [
       "<Figure size 432x288 with 1 Axes>"
      ]
     },
     "metadata": {
      "needs_background": "light"
     },
     "output_type": "display_data"
    }
   ],
   "source": [
    "num_frames, height, width = data.shape\n",
    "gtau = calc_correlation(images_diff, num_frames, 1)\n",
    "plt.plot(gtau)"
   ]
  },
  {
   "cell_type": "code",
   "execution_count": 58,
   "metadata": {},
   "outputs": [
    {
     "data": {
      "image/png": "[encoded data removed]",
      "text/plain": [
       "<Figure size 432x288 with 1 Axes>"
      ]
     },
     "metadata": {
      "needs_background": "light"
     },
     "output_type": "display_data"
    }
   ],
   "source": [
    "r3 = ddm(data, 2)\n",
    "plt.plot(r3);"
   ]
  },
  {
   "cell_type": "code",
   "execution_count": null,
   "metadata": {},
   "outputs": [],
   "source": []
  }
 ],
 "metadata": {
  "interpreter": {
   "hash": "5d3ba36e63629f58b0b91fca6dd69f41cc067643cf698e645db0540ff966b8cd"
  },
  "kernelspec": {
   "display_name": "Python 3.8.13 ('ddm_env')",
   "language": "python",
   "name": "python3"
  },
  "language_info": {
   "codemirror_mode": {
    "name": "ipython",
    "version": 3
   },
   "file_extension": ".py",
   "mimetype": "text/x-python",
   "name": "python",
   "nbconvert_exporter": "python",
   "pygments_lexer": "ipython3",
   "version": "3.8.13"
  },
  "orig_nbformat": 4
 },
 "nbformat": 4,
 "nbformat_minor": 2
}
