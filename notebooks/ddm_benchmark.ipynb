{
 "cells": [
  {
   "cell_type": "code",
   "execution_count": null,
   "metadata": {},
   "outputs": [],
   "source": [
    "import numpy as np\n",
    "from dask import delayed\n",
    "\n",
    "import dask.array as da\n",
    "from numba import jit\n",
    "import nd2\n",
    "import matplotlib.pyplot as plt\n",
    "import pyfftw\n",
    "# Local imports\n",
    "from ddm.processing import ddm_fftw, ddm_numpy, get_diff_images, radial_profile_jit"
   ]
  },
  {
   "cell_type": "code",
   "execution_count": null,
   "metadata": {},
   "outputs": [],
   "source": [
    "# from dask.distributed import Client\n",
    "# client = Client()"
   ]
  },
  {
   "cell_type": "code",
   "execution_count": null,
   "metadata": {},
   "outputs": [],
   "source": [
    "# client.cluster"
   ]
  },
  {
   "cell_type": "code",
   "execution_count": null,
   "metadata": {},
   "outputs": [],
   "source": [
    "# client.close()"
   ]
  },
  {
   "cell_type": "code",
   "execution_count": null,
   "metadata": {},
   "outputs": [],
   "source": [
    "# Load dataset\n",
    "# def load_data(file: str = \"../data/A1_s3001.nd2\", num_frames: str = 500):\n",
    "#     data = nd2.imread(file, xarray=True, dask=False)\n",
    "#     data = data[:num_frames,:,:]\n",
    "#     return data.astype(\"float64\")\n",
    "\n",
    "# def load_data_delayed(file: str = \"../data/A1_s3001.nd2\", num_frames: str = 500):\n",
    "#     data = nd2.imread(file, xarray=False, dask=True)\n",
    "#     data = data[:num_frames,:,:]\n",
    "#     return data.astype(\"float64\")\n",
    "\n",
    "def load_data(file: str = \"../data/A1_s3001.nd2\", num_frames: int = 5000):\n",
    "    f = nd2.ND2File(file)\n",
    "    data = f.to_xarray(delayed=True)\n",
    "    # data = data.chunk({\"T\": \"auto\"})\n",
    "    data = data[:num_frames,:,:]\n",
    "    return data.astype(\"float64\")"
   ]
  },
  {
   "cell_type": "code",
   "execution_count": null,
   "metadata": {},
   "outputs": [],
   "source": [
    "# Helper functions\n",
    "@delayed\n",
    "def calc_fft(data, tau: int):\n",
    "    \"\"\"_summary_\n",
    "\n",
    "    Parameters\n",
    "    ----------\n",
    "    data : _type_\n",
    "        _description_\n",
    "    tau : _type_\n",
    "        _description_\n",
    "\n",
    "    Returns\n",
    "    -------\n",
    "    _type_\n",
    "        _description_\n",
    "    \"\"\"\n",
    "    num_frames, height, width = data.shape\n",
    "    image_fft_squared = np.zeros((width, height))\n",
    "    for jj in range(num_frames - tau):\n",
    "        image_diff = data[jj+tau] - data[jj]\n",
    "        image_fft = np.fft.fft2(image_diff)\n",
    "        image_fft_squared += np.abs(image_fft)**2\n",
    "    \n",
    "    fft_shift = np.fft.fftshift(image_fft_squared)\n",
    "    return fft_shift\n",
    "\n",
    "@delayed\n",
    "def calc_fft_pyfftw(data, tau: int):\n",
    "    \"\"\"_summary_\n",
    "\n",
    "    Parameters\n",
    "    ----------\n",
    "    data : _type_\n",
    "        _description_\n",
    "    tau : _type_\n",
    "        _description_\n",
    "\n",
    "    Returns\n",
    "    -------\n",
    "    _type_\n",
    "        _description_\n",
    "    \"\"\"\n",
    "    num_frames, height, width = data.shape\n",
    "    image_fft_squared = np.zeros((width, height))\n",
    "\n",
    "    pyfftw.interfaces.cache.enable()\n",
    "    image_diff = pyfftw.empty_aligned((height,width), dtype='complex64')\n",
    "    fft_object = pyfftw.builders.fft2(image_diff, threads=8, overwrite_input=True, planner_effort='FFTW_ESTIMATE')\n",
    "\n",
    "    for jj in range(num_frames - tau):\n",
    "        image_diff = data[jj+tau] - data[jj]\n",
    "        image_fft_squared += np.abs(fft_object(image_diff))**2\n",
    "    \n",
    "    fft_shift = np.fft.fftshift(image_fft_squared)\n",
    "    return fft_shift\n",
    "\n",
    "\n",
    "\n",
    "\n",
    "@delayed\n",
    "def calc_correlation(fft_shift: np.ndarray, tau: int):\n",
    "    \"\"\"_summary_\n",
    "\n",
    "    Parameters\n",
    "    ----------\n",
    "    image_diff_squared : _type_\n",
    "        _description_\n",
    "    num_frames : _type_\n",
    "        _description_\n",
    "\n",
    "    Returns\n",
    "    -------\n",
    "    _type_\n",
    "        _description_\n",
    "    \"\"\"\n",
    "    # num_frames, height, width = image_fft_squared.shape\n",
    "    # fft_shift = np.fft.fftshift(image_fft_squared)\n",
    "    gTau = fft_shift/(num_frames-tau)\n",
    "    # gTau_radial = radial_profile(gTau, (width/2., height/2.))\n",
    "    return gTau\n"
   ]
  },
  {
   "cell_type": "code",
   "execution_count": null,
   "metadata": {},
   "outputs": [],
   "source": [
    "def ddm(data, tau: int):\n",
    "    num_frames, height, width = data.shape\n",
    "    fft_shift = calc_fft_pyfftw(data, tau=tau)\n",
    "    gTau = fft_shift/(num_frames-tau)\n",
    "    x, y = np.indices((width, height))\n",
    "    gTau_radial = delayed(radial_profile_jit)(gTau, (width/2., height/2.), x, y)\n",
    "    return gTau_radial"
   ]
  },
  {
   "cell_type": "markdown",
   "metadata": {},
   "source": [
    "## Benchmark without optimization"
   ]
  },
  {
   "cell_type": "code",
   "execution_count": null,
   "metadata": {},
   "outputs": [],
   "source": [
    "data = load_data()"
   ]
  },
  {
   "cell_type": "code",
   "execution_count": null,
   "metadata": {},
   "outputs": [],
   "source": [
    "%%time\n",
    "gtau1 = ddm_numpy(data, 2)\n",
    "r1 = gtau1.compute()\n",
    "# plt.plot(r1)"
   ]
  },
  {
   "cell_type": "code",
   "execution_count": null,
   "metadata": {},
   "outputs": [],
   "source": [
    "%%time\n",
    "gtau2 = ddm_fftw(data, 2)\n",
    "r2 = gtau2.compute()\n",
    "# plt.plot(r2)"
   ]
  },
  {
   "cell_type": "code",
   "execution_count": null,
   "metadata": {},
   "outputs": [],
   "source": [
    "np.testing.assert_allclose(r1, r2, rtol=1e-6)"
   ]
  },
  {
   "cell_type": "markdown",
   "metadata": {},
   "source": [
    "## Refactoring of functions"
   ]
  },
  {
   "cell_type": "code",
   "execution_count": null,
   "metadata": {},
   "outputs": [],
   "source": [
    "%%time\n",
    "tau = 2\n",
    "num_frames, height, width = data.shape\n",
    "# fft_shift = calc_fft(data, tau=tau)\n",
    "fft_shift = calc_fft_pyfftw(data, tau=tau)\n",
    "gTau = fft_shift/(num_frames-tau)\n",
    "\n",
    "x, y = np.indices((width, height))\n",
    "\n",
    "gTau_radial = delayed(radial_profile_jit)(gTau, (width/2., height/2.), x, y)\n",
    "result = gTau_radial.compute()"
   ]
  },
  {
   "cell_type": "code",
   "execution_count": null,
   "metadata": {},
   "outputs": [],
   "source": [
    "np.testing.assert_allclose(r1, result, rtol=1e-6)"
   ]
  },
  {
   "cell_type": "code",
   "execution_count": null,
   "metadata": {},
   "outputs": [],
   "source": [
    "%%time\n",
    "out = ddm(data, 2)\n",
    "r4 = out.compute()"
   ]
  },
  {
   "cell_type": "code",
   "execution_count": null,
   "metadata": {},
   "outputs": [],
   "source": [
    "np.testing.assert_allclose(r1, r4, rtol=1e-6)"
   ]
  },
  {
   "cell_type": "markdown",
   "metadata": {},
   "source": [
    "## Explore map blocks for pytorch compatibility"
   ]
  },
  {
   "cell_type": "code",
   "execution_count": null,
   "metadata": {},
   "outputs": [],
   "source": [
    "from torchvision import transforms\n",
    "import torch\n",
    "\n",
    "@delayed\n",
    "def transform(img):\n",
    "    array = np.asarray(img)\n",
    "    trn = transforms.Compose([\n",
    "            transforms.ToTensor(),\n",
    "    ])\n",
    "    return trn(array)\n",
    "\n",
    "@delayed\n",
    "def calc_fft_torch(data, tau: int):\n",
    "    \"\"\"_summary_\n",
    "\n",
    "    Parameters\n",
    "    ----------\n",
    "    data : _type_\n",
    "        _description_\n",
    "    tau : _type_\n",
    "        _description_\n",
    "\n",
    "    Returns\n",
    "    -------\n",
    "    _type_\n",
    "        _description_\n",
    "    \"\"\"\n",
    "    num_frames, height, width = data.shape\n",
    "    image_fft_squared = torch.zeros(width, height)\n",
    "    tensor = transform(data)\n",
    "    for jj in range(num_frames - tau):\n",
    "        image_diff = tensor[:,jj+tau,:] - tensor[:,jj,:]\n",
    "        image_fft = torch.fft.fft2(image_diff)\n",
    "        image_fft_squared += torch.abs(image_fft)**2\n",
    "    \n",
    "    fft_shift = torch.fft.fftshift(image_fft_squared)\n",
    "    return fft_shift\n"
   ]
  },
  {
   "cell_type": "code",
   "execution_count": null,
   "metadata": {},
   "outputs": [],
   "source": [
    "@jit(nopython=True, nogil=True)\n",
    "def radial_profile_tensor(data, centre, x, y):\n",
    "    # x, y = np.indices((data.shape))\n",
    "    r = torch.sqrt((x-centre[0])**2 + (y-centre[1])**2)\n",
    "    r = r.astype(np.int64)\n",
    "    tbin = tensor.bincount(r.ravel(),data.ravel())\n",
    "    nr = tensor.bincount(r.ravel())\n",
    "    radialprofile = tbin/nr\n",
    "    return radialprofile"
   ]
  },
  {
   "cell_type": "code",
   "execution_count": null,
   "metadata": {},
   "outputs": [],
   "source": [
    "%%time\n",
    "tensor = transform(data)\n"
   ]
  },
  {
   "cell_type": "code",
   "execution_count": null,
   "metadata": {},
   "outputs": [],
   "source": [
    "tensor_0 = np.asarray(tensor[:,0,:])\n",
    "tensor_0.shape"
   ]
  },
  {
   "cell_type": "code",
   "execution_count": null,
   "metadata": {},
   "outputs": [],
   "source": [
    "tensor.shape"
   ]
  },
  {
   "cell_type": "code",
   "execution_count": null,
   "metadata": {},
   "outputs": [],
   "source": [
    "%%time\n",
    "tau = 2\n",
    "num_frames, height, width = data.shape\n",
    "fft_shift = calc_fft_torch(data, tau=tau)\n",
    "gTau = fft_shift/(num_frames-tau)\n",
    "x, y = np.indices((width, height))\n",
    "\n",
    "\n",
    "gTau = np.asarray(gTau.compute())\n",
    "gTau_radial = radial_profile_jit(gTau, (width/2., height/2.), x, y)\n",
    "# result = gTau_radial.compute()\n",
    "# fft_shift = fft_shift.compute()"
   ]
  },
  {
   "cell_type": "code",
   "execution_count": null,
   "metadata": {},
   "outputs": [],
   "source": [
    "np.testing.assert_allclose(r1, gTau_radial, rtol=1e-6)"
   ]
  },
  {
   "cell_type": "code",
   "execution_count": null,
   "metadata": {},
   "outputs": [],
   "source": []
  }
 ],
 "metadata": {
  "interpreter": {
   "hash": "5d3ba36e63629f58b0b91fca6dd69f41cc067643cf698e645db0540ff966b8cd"
  },
  "kernelspec": {
   "display_name": "Python 3.8.13 ('ddm_env')",
   "language": "python",
   "name": "python3"
  },
  "language_info": {
   "codemirror_mode": {
    "name": "ipython",
    "version": 3
   },
   "file_extension": ".py",
   "mimetype": "text/x-python",
   "name": "python",
   "nbconvert_exporter": "python",
   "pygments_lexer": "ipython3",
   "version": "3.8.13"
  },
  "orig_nbformat": 4
 },
 "nbformat": 4,
 "nbformat_minor": 2
}
