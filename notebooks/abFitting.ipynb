{
 "cells": [
  {
   "cell_type": "code",
   "execution_count": 1,
   "id": "ad08c58d",
   "metadata": {},
   "outputs": [],
   "source": [
    "import numpy as np\n",
    "import matplotlib.pyplot as pl\n",
    "import dask.array as da"
   ]
  },
  {
   "cell_type": "code",
   "execution_count": 26,
   "id": "232964c4",
   "metadata": {},
   "outputs": [],
   "source": [
    "def radial_profile(data: np.ndarray, centre: tuple):\n",
    "    \"\"\"_summary_\n",
    "\n",
    "    Parameters\n",
    "    ----------\n",
    "    data : np.ndarray\n",
    "        _description_\n",
    "    centre : tuple\n",
    "        _description_\n",
    "\n",
    "    Returns\n",
    "    -------\n",
    "    _type_\n",
    "        _description_\n",
    "    \"\"\"\n",
    "    \n",
    "    x, y = np.indices((data.shape))\n",
    "    r = np.sqrt((x - centre[0]) ** 2 + (y - centre[1]) ** 2)\n",
    "    r = r.astype(int)\n",
    "    tbin = np.bincount(np.ravel(r), np.ravel(data))\n",
    "    nr = np.bincount(np.ravel(r))\n",
    "    radialprofile = tbin / nr\n",
    "    return radialprofile"
   ]
  },
  {
   "cell_type": "code",
   "execution_count": 8,
   "id": "4ce62183",
   "metadata": {},
   "outputs": [
    {
     "name": "stdout",
     "output_type": "stream",
     "text": [
      "The datafile contains the following experiments:\n",
      "0 : well1_ha_4mg-ml_fg_2mg-ml\n",
      "1 : well2_ha_2mg-ml_fg_2mg-ml\n",
      "2 : well4_ha_2mg-ml\n",
      "Please select the experiment you want to process [0, 1, 2] \n",
      "1\n"
     ]
    }
   ],
   "source": [
    "#read in data\n",
    "from ddm.data_handling import readLIF\n",
    "dData = readLIF('../tests/data/testData3series.lif')\n",
    "\n",
    "from ddm.data_handling import readTIF\n",
    "dData3 = readTIF('../tests/data/21-03-31_ddm_water_control_sample.tif')\n",
    "\n",
    "from ddm.data_handling import readND2\n",
    "dData2 = readND2('../tests/data/testData10frames.nd2')"
   ]
  },
  {
   "cell_type": "code",
   "execution_count": null,
   "id": "58dfe955",
   "metadata": {},
   "outputs": [],
   "source": [
    "#dummy data for testing\n",
    "dData = np.random.randint(0, 256, size = (20, 512, 512))"
   ]
  },
  {
   "cell_type": "code",
   "execution_count": 51,
   "id": "9016f91c",
   "metadata": {},
   "outputs": [],
   "source": [
    "#method 1 - high q for A = 0 - rework to optimise the FFTs???\n",
    "def findMeanSqFFT(dumData):\n",
    "    sqFFT = 2*da.abs(da.fft.fft2(dumData))*np.abs(da.fft.fft2(dumData))\n",
    "    sqFFT = da.fft.fftshift(sqFFT)\n",
    "    sqFFTmean = da.mean(sqFFT, axis = 0)\n",
    "    return sqFFTmean/(np.shape(sqFFTmean)[0]*np.shape(sqFFTmean[1]))"
   ]
  },
  {
   "cell_type": "code",
   "execution_count": 52,
   "id": "d3e75e5a",
   "metadata": {},
   "outputs": [],
   "source": [
    "def computeAB(sqFFTmean):\n",
    "    sqFFTrad = radial_profile(sqFFTmean, (np.shape(sqFFTmean)[0]/2, np.shape(sqFFTmean)[1]/2))\n",
    "    b = np.mean(sqFFTrad[-100:-50]) #change depending on size of array\n",
    "    a = sqFFTrad - b\n",
    "    return a, b"
   ]
  },
  {
   "cell_type": "code",
   "execution_count": 53,
   "id": "5e99fa70",
   "metadata": {},
   "outputs": [],
   "source": [
    "meanSQ = findMeanSqFFT(dData2.data)"
   ]
  },
  {
   "cell_type": "code",
   "execution_count": 54,
   "id": "de784dae",
   "metadata": {},
   "outputs": [],
   "source": [
    "meanSQ = meanSQ.compute()"
   ]
  },
  {
   "cell_type": "code",
   "execution_count": 55,
   "id": "82888c8b",
   "metadata": {},
   "outputs": [],
   "source": [
    "A, B = computeAB(meanSQ)"
   ]
  },
  {
   "cell_type": "code",
   "execution_count": 56,
   "id": "62ba0b7f",
   "metadata": {},
   "outputs": [
    {
     "data": {
      "text/plain": [
       "<matplotlib.lines.Line2D at 0x7f421d03f460>"
      ]
     },
     "execution_count": 56,
     "metadata": {},
     "output_type": "execute_result"
    },
    {
     "data": {
      "image/png": "[encoded data removed]",
      "text/plain": [
       "<Figure size 432x288 with 1 Axes>"
      ]
     },
     "metadata": {
      "needs_background": "light"
     },
     "output_type": "display_data"
    },
    {
     "data": {
      "image/png": "[encoded data removed]",
      "text/plain": [
       "<Figure size 432x288 with 1 Axes>"
      ]
     },
     "metadata": {
      "needs_background": "light"
     },
     "output_type": "display_data"
    }
   ],
   "source": [
    "#method 2 - delay time is zero then A = real part of squared stuff\n",
    "fTFt = np.fft.fftshift(2*np.fft.fft2(dData2)*np.conj(np.fft.fft2(dData2, axes = (0,1))))\n",
    "aFull = np.real(np.mean(fTFt, axis = 0))\n",
    "c = radial_profile(aFull, (512, 512))\n",
    "pl.figure(0)\n",
    "#pl.plot(c[10:], color = 'r')\n",
    "pl.plot(A[10:], color = 'b')\n",
    "\n",
    "SqFFT = 2*np.abs(np.fft.fft2(dData2)**2)\n",
    "SqFFT = np.fft.fftshift(SqFFT)\n",
    "SqFFTmean = np.mean(SqFFT, axis = 0)\n",
    "SqFFTrad = radial_profile(SqFFTmean, (512, 512))\n",
    "\n",
    "d = SqFFTrad - c\n",
    "\n",
    "pl.figure(1)\n",
    "#pl.plot(d[10:], color = 'm')\n",
    "pl.axhline(B, color = 'c')"
   ]
  }
 ],
 "metadata": {
  "kernelspec": {
   "display_name": "Python 3 (ipykernel)",
   "language": "python",
   "name": "python3"
  },
  "language_info": {
   "codemirror_mode": {
    "name": "ipython",
    "version": 3
   },
   "file_extension": ".py",
   "mimetype": "text/x-python",
   "name": "python",
   "nbconvert_exporter": "python",
   "pygments_lexer": "ipython3",
   "version": "3.8.13"
  }
 },
 "nbformat": 4,
 "nbformat_minor": 5
}
