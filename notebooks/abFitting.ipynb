{
 "cells": [
  {
   "cell_type": "code",
   "execution_count": 1,
   "id": "ad08c58d",
   "metadata": {},
   "outputs": [],
   "source": [
    "import numpy as np\n",
    "import matplotlib.pyplot as pl"
   ]
  },
  {
   "cell_type": "code",
   "execution_count": 41,
   "id": "232964c4",
   "metadata": {},
   "outputs": [],
   "source": [
    "def radial_profile(data: np.ndarray, centre: tuple):\n",
    "    \"\"\"_summary_\n",
    "\n",
    "    Parameters\n",
    "    ----------\n",
    "    data : np.ndarray\n",
    "        _description_\n",
    "    centre : tuple\n",
    "        _description_\n",
    "\n",
    "    Returns\n",
    "    -------\n",
    "    _type_\n",
    "        _description_\n",
    "    \"\"\"\n",
    "    \n",
    "    x, y = np.indices((data.shape))\n",
    "    r = np.sqrt((x - centre[0]) ** 2 + (y - centre[1]) ** 2)\n",
    "    r = r.astype(int)\n",
    "    \n",
    "    tbin = np.bincount(r.ravel(), data.ravel())\n",
    "    nr = np.bincount(r.ravel())\n",
    "    radialprofile = tbin / nr\n",
    "    return radialprofile"
   ]
  },
  {
   "cell_type": "code",
   "execution_count": 72,
   "id": "4ce62183",
   "metadata": {},
   "outputs": [
    {
     "ename": "AttributeError",
     "evalue": "'BioformatsReader' object has no attribute 'shape'",
     "output_type": "error",
     "traceback": [
      "\u001b[0;31m---------------------------------------------------------------------------\u001b[0m",
      "\u001b[0;31mAttributeError\u001b[0m                            Traceback (most recent call last)",
      "\u001b[0;32m<ipython-input-72-00f1779cd547>\u001b[0m in \u001b[0;36m<module>\u001b[0;34m\u001b[0m\n\u001b[1;32m      1\u001b[0m \u001b[0;31m#read in data\u001b[0m\u001b[0;34m\u001b[0m\u001b[0;34m\u001b[0m\u001b[0;34m\u001b[0m\u001b[0m\n\u001b[1;32m      2\u001b[0m \u001b[0;32mfrom\u001b[0m \u001b[0mddm\u001b[0m\u001b[0;34m.\u001b[0m\u001b[0mdata_handling\u001b[0m \u001b[0;32mimport\u001b[0m \u001b[0mreadLIF\u001b[0m\u001b[0;34m\u001b[0m\u001b[0;34m\u001b[0m\u001b[0m\n\u001b[0;32m----> 3\u001b[0;31m \u001b[0mdData\u001b[0m \u001b[0;34m=\u001b[0m \u001b[0mreadLIF\u001b[0m\u001b[0;34m(\u001b[0m\u001b[0;34m'../tests/data/testData1series.lif'\u001b[0m\u001b[0;34m)\u001b[0m\u001b[0;34m\u001b[0m\u001b[0;34m\u001b[0m\u001b[0m\n\u001b[0m",
      "\u001b[0;32m~/gitProjects/ddmPilotCode/ddm/data_handling.py\u001b[0m in \u001b[0;36mreadLIF\u001b[0;34m(filename, xscale, tscale)\u001b[0m\n\u001b[1;32m     63\u001b[0m     \u001b[0mxscale\u001b[0m \u001b[0;34m=\u001b[0m \u001b[0mlifSeq\u001b[0m\u001b[0;34m.\u001b[0m\u001b[0mmetadata\u001b[0m\u001b[0;34m.\u001b[0m\u001b[0mPixelsPhysicalSizeX\u001b[0m\u001b[0;34m(\u001b[0m\u001b[0;36m0\u001b[0m\u001b[0;34m)\u001b[0m \u001b[0;32mif\u001b[0m \u001b[0mxscale\u001b[0m \u001b[0;32mis\u001b[0m \u001b[0;32mNone\u001b[0m \u001b[0;32melse\u001b[0m \u001b[0mxscale\u001b[0m\u001b[0;34m\u001b[0m\u001b[0;34m\u001b[0m\u001b[0m\n\u001b[1;32m     64\u001b[0m     \u001b[0mtscale\u001b[0m \u001b[0;34m=\u001b[0m \u001b[0mlifSeq\u001b[0m\u001b[0;34m.\u001b[0m\u001b[0mmetadata\u001b[0m\u001b[0;34m.\u001b[0m\u001b[0mPlaneDeltaT\u001b[0m\u001b[0;34m(\u001b[0m\u001b[0;36m0\u001b[0m\u001b[0;34m,\u001b[0m \u001b[0;36m1\u001b[0m\u001b[0;34m)\u001b[0m \u001b[0;34m*\u001b[0m \u001b[0;36m1000.0\u001b[0m \u001b[0;32mif\u001b[0m \u001b[0mtscale\u001b[0m \u001b[0;32mis\u001b[0m \u001b[0;32mNone\u001b[0m \u001b[0;32melse\u001b[0m \u001b[0mtscale\u001b[0m\u001b[0;34m\u001b[0m\u001b[0;34m\u001b[0m\u001b[0m\n\u001b[0;32m---> 65\u001b[0;31m     \u001b[0mlifXCoords\u001b[0m \u001b[0;34m=\u001b[0m \u001b[0mnp\u001b[0m\u001b[0;34m.\u001b[0m\u001b[0marange\u001b[0m\u001b[0;34m(\u001b[0m\u001b[0;36m0.0\u001b[0m\u001b[0;34m,\u001b[0m \u001b[0mlifSeq\u001b[0m\u001b[0;34m.\u001b[0m\u001b[0mshape\u001b[0m\u001b[0;34m[\u001b[0m\u001b[0;36m1\u001b[0m\u001b[0;34m]\u001b[0m \u001b[0;34m*\u001b[0m \u001b[0mxscale\u001b[0m\u001b[0;34m,\u001b[0m \u001b[0mxscale\u001b[0m\u001b[0;34m)\u001b[0m\u001b[0;34m\u001b[0m\u001b[0;34m\u001b[0m\u001b[0m\n\u001b[0m\u001b[1;32m     66\u001b[0m     \u001b[0mlifYCoords\u001b[0m \u001b[0;34m=\u001b[0m \u001b[0mnp\u001b[0m\u001b[0;34m.\u001b[0m\u001b[0marange\u001b[0m\u001b[0;34m(\u001b[0m\u001b[0;36m0.0\u001b[0m\u001b[0;34m,\u001b[0m \u001b[0mlifSeq\u001b[0m\u001b[0;34m.\u001b[0m\u001b[0mshape\u001b[0m\u001b[0;34m[\u001b[0m\u001b[0;36m2\u001b[0m\u001b[0;34m]\u001b[0m \u001b[0;34m*\u001b[0m \u001b[0mxscale\u001b[0m\u001b[0;34m,\u001b[0m \u001b[0mxscale\u001b[0m\u001b[0;34m)\u001b[0m\u001b[0;34m\u001b[0m\u001b[0;34m\u001b[0m\u001b[0m\n\u001b[1;32m     67\u001b[0m     \u001b[0mlifTCoords\u001b[0m \u001b[0;34m=\u001b[0m \u001b[0mnp\u001b[0m\u001b[0;34m.\u001b[0m\u001b[0marange\u001b[0m\u001b[0;34m(\u001b[0m\u001b[0;36m0.0\u001b[0m\u001b[0;34m,\u001b[0m \u001b[0mlifSeq\u001b[0m\u001b[0;34m.\u001b[0m\u001b[0mshape\u001b[0m\u001b[0;34m[\u001b[0m\u001b[0;36m0\u001b[0m\u001b[0;34m]\u001b[0m \u001b[0;34m*\u001b[0m \u001b[0mtscale\u001b[0m\u001b[0;34m,\u001b[0m \u001b[0mtscale\u001b[0m\u001b[0;34m)\u001b[0m\u001b[0;34m\u001b[0m\u001b[0;34m\u001b[0m\u001b[0m\n",
      "\u001b[0;31mAttributeError\u001b[0m: 'BioformatsReader' object has no attribute 'shape'"
     ]
    }
   ],
   "source": [
    "#read in data\n",
    "from ddm.data_handling import readLIF\n",
    "dData = readLIF('../tests/data/testData1series.lif')"
   ]
  },
  {
   "cell_type": "code",
   "execution_count": null,
   "id": "58dfe955",
   "metadata": {},
   "outputs": [],
   "source": [
    "#dummy data for testing\n",
    "dData = np.random.randint(0, 256, size = (20, 512, 512))"
   ]
  },
  {
   "cell_type": "code",
   "execution_count": 65,
   "id": "9016f91c",
   "metadata": {},
   "outputs": [],
   "source": [
    "#method 1 - high q for A = 0 - rework to optimise the FFTs???\n",
    "def fitABhighQ(dumData):\n",
    "    sqFFT = 2*np.abs(np.fft.fft2(dumData)**2)\n",
    "    sqFFT = np.fft.fftshift(sqFFT)\n",
    "    sqFFTmean = np.mean(sqFFT, axis = 0)\n",
    "    sqFFTrad = radial_profile(sqFFTmean, (np.shape(dumData)[0]/2, np.shape(dumData)[1]/2))\n",
    "    b = np.mean(sqFFTrad[-100:-50]) #change depending on size of array\n",
    "    a = sqFFTrad - b\n",
    "    return a, b"
   ]
  },
  {
   "cell_type": "code",
   "execution_count": 66,
   "id": "5e99fa70",
   "metadata": {},
   "outputs": [
    {
     "name": "stdout",
     "output_type": "stream",
     "text": [
      "<class 'xarray.core.dataarray.DataArray'>\n",
      "(0,)\n",
      "(1,)\n",
      "(2,)\n",
      "(3,)\n",
      "(4,)\n",
      "(5,)\n",
      "(6,)\n",
      "(7,)\n",
      "(8,)\n",
      "(9,)\n"
     ]
    }
   ],
   "source": [
    "print(type(dData))\n",
    "A, B = fitABhighQ(dData)"
   ]
  },
  {
   "cell_type": "code",
   "execution_count": 32,
   "id": "62ba0b7f",
   "metadata": {},
   "outputs": [
    {
     "name": "stdout",
     "output_type": "stream",
     "text": [
      "(0,)\n",
      "(1,)\n",
      "(2,)\n",
      "(3,)\n",
      "(4,)\n",
      "(5,)\n",
      "(6,)\n",
      "(7,)\n",
      "(8,)\n",
      "(9,)\n",
      "(0,)\n",
      "(1,)\n",
      "(2,)\n",
      "(3,)\n",
      "(4,)\n",
      "(5,)\n",
      "(6,)\n",
      "(7,)\n",
      "(8,)\n",
      "(9,)\n",
      "(0,)\n",
      "(1,)\n",
      "(2,)\n",
      "(3,)\n",
      "(4,)\n",
      "(5,)\n",
      "(6,)\n",
      "(7,)\n",
      "(8,)\n",
      "(9,)\n"
     ]
    },
    {
     "data": {
      "text/plain": [
       "[<matplotlib.lines.Line2D at 0x7f2ddc1db730>]"
      ]
     },
     "execution_count": 32,
     "metadata": {},
     "output_type": "execute_result"
    },
    {
     "data": {
      "image/png": "[encoded data removed]",
      "text/plain": [
       "<Figure size 432x288 with 1 Axes>"
      ]
     },
     "metadata": {
      "needs_background": "light"
     },
     "output_type": "display_data"
    },
    {
     "data": {
      "image/png": "[encoded data removed]",
      "text/plain": [
       "<Figure size 432x288 with 1 Axes>"
      ]
     },
     "metadata": {
      "needs_background": "light"
     },
     "output_type": "display_data"
    }
   ],
   "source": [
    "#method 2 - delay time is zero then A = real part of squared stuff\n",
    "fTFt = np.fft.fftshift(2*np.fft.fft2(dData)*np.conj(np.fft.fft2(dData, axes = (0,1))))\n",
    "aFull = np.real(np.mean(fTFt, axis = 0))\n",
    "c = radial_profile(aFull, (512, 512))\n",
    "pl.figure(0)\n",
    "pl.plot(c[10:], color = 'r')\n",
    "pl.plot(A[10:], color = 'b')\n",
    "\n",
    "SqFFT = 2*np.abs(np.fft.fft2(dData)**2)\n",
    "SqFFT = np.fft.fftshift(SqFFT)\n",
    "SqFFTmean = np.mean(SqFFT, axis = 0)\n",
    "SqFFTrad = radial_profile(SqFFTmean, (512, 512))\n",
    "\n",
    "d = SqFFTrad - c\n",
    "\n",
    "pl.figure(1)\n",
    "pl.plot(d[10:], color = 'm')\n",
    "pl.plot(sqFFTrad[10:], color = 'c')"
   ]
  },
  {
   "cell_type": "code",
   "execution_count": 13,
   "id": "81ad5a68",
   "metadata": {},
   "outputs": [],
   "source": [
    "from ddm.processing import ddm"
   ]
  },
  {
   "cell_type": "code",
   "execution_count": 40,
   "id": "ab81acbb",
   "metadata": {},
   "outputs": [
    {
     "name": "stdout",
     "output_type": "stream",
     "text": [
      "(0,)\n",
      "(1,)\n",
      "(2,)\n",
      "(3,)\n",
      "(4,)\n",
      "(5,)\n",
      "(6,)\n",
      "(7,)\n",
      "(8,)\n",
      "(9,)\n",
      "(0,)\n",
      "(1,)\n",
      "(2,)\n",
      "(3,)\n",
      "(4,)\n",
      "(5,)\n",
      "(6,)\n",
      "(7,)\n",
      "(8,)\n",
      "(9,)\n",
      "(0,)\n",
      "(1,)\n",
      "(2,)\n",
      "(3,)\n",
      "(4,)\n",
      "(5,)\n",
      "(6,)\n",
      "(7,)\n",
      "(8,)\n",
      "(9,)\n",
      "(0,)\n",
      "(1,)\n",
      "(2,)\n",
      "(3,)\n",
      "(4,)\n",
      "(5,)\n",
      "(6,)\n",
      "(7,)\n",
      "(8,)\n",
      "(9,)\n",
      "(0,)\n",
      "(1,)\n",
      "(2,)\n",
      "(3,)\n",
      "(4,)\n",
      "(5,)\n",
      "(6,)\n",
      "(7,)\n",
      "(8,)\n",
      "(9,)\n",
      "(0,)\n",
      "(1,)\n",
      "(2,)\n",
      "(3,)\n",
      "(4,)\n",
      "(5,)\n",
      "(6,)\n",
      "(7,)\n",
      "(8,)\n",
      "(9,)\n",
      "(0,)\n",
      "(1,)\n",
      "(2,)\n",
      "(3,)\n",
      "(4,)\n",
      "(5,)\n",
      "(6,)\n",
      "(7,)\n",
      "(8,)\n",
      "(9,)\n",
      "(0,)\n",
      "(1,)\n",
      "(2,)\n",
      "(3,)\n",
      "(4,)\n",
      "(5,)\n",
      "(6,)\n",
      "(7,)\n",
      "(8,)\n",
      "(9,)\n",
      "(0,)\n",
      "(1,)\n",
      "(2,)\n",
      "(3,)\n",
      "(4,)\n",
      "(5,)\n",
      "(6,)\n",
      "(7,)\n",
      "(8,)\n",
      "(9,)\n",
      "(0,)\n",
      "(1,)\n",
      "(2,)\n",
      "(3,)\n",
      "(4,)\n",
      "(5,)\n",
      "(6,)\n",
      "(7,)\n",
      "(8,)\n",
      "(9,)\n"
     ]
    }
   ],
   "source": [
    "result = np.array([None for i in range(10)])\n",
    "for delay in range(10):\n",
    "    result[delay] = ddm(dData, delay).compute()"
   ]
  },
  {
   "cell_type": "code",
   "execution_count": 71,
   "id": "4cdfdec3",
   "metadata": {},
   "outputs": [
    {
     "data": {
      "text/plain": [
       "Text(0.5, 0, 'tau')"
      ]
     },
     "execution_count": 71,
     "metadata": {},
     "output_type": "execute_result"
    },
    {
     "data": {
      "image/png": "[encoded data removed]",
      "text/plain": [
       "<Figure size 432x288 with 1 Axes>"
      ]
     },
     "metadata": {
      "needs_background": "light"
     },
     "output_type": "display_data"
    }
   ],
   "source": [
    "result2 = np.dstack(result)[0]\n",
    "\n",
    "q = 200\n",
    "\n",
    "f = 1.-(result2[q]-B)/A[q]\n",
    "\n",
    "pl.figure(2)\n",
    "pl.plot(f)\n",
    "pl.xlabel('tau')"
   ]
  }
 ],
 "metadata": {
  "kernelspec": {
   "display_name": "Python 3",
   "language": "python",
   "name": "python3"
  },
  "language_info": {
   "codemirror_mode": {
    "name": "ipython",
    "version": 3
   },
   "file_extension": ".py",
   "mimetype": "text/x-python",
   "name": "python",
   "nbconvert_exporter": "python",
   "pygments_lexer": "ipython3",
   "version": "3.8.8"
  }
 },
 "nbformat": 4,
 "nbformat_minor": 5
}
