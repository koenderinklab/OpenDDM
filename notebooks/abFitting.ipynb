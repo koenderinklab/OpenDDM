{
 "cells": [
  {
   "cell_type": "code",
   "execution_count": null,
   "id": "ad08c58d",
   "metadata": {},
   "outputs": [],
   "source": [
    "import numpy as np\n",
    "import matplotlib.pyplot as plt\n",
    "import dask.array as da\n",
    "from dask import compute, delayed\n",
    "from dask.distributed import Client\n",
    "from dask.diagnostics import ResourceProfiler\n",
    "import nd2\n",
    "from ddm.processing import radial_profile\n",
    "from typing import Tuple"
   ]
  },
  {
   "cell_type": "code",
   "execution_count": null,
   "id": "ee7dc6a9",
   "metadata": {},
   "outputs": [],
   "source": [
    "# client.close()"
   ]
  },
  {
   "cell_type": "code",
   "execution_count": null,
   "id": "d3115b02",
   "metadata": {},
   "outputs": [],
   "source": [
    "client = Client(n_workers=4, threads_per_worker=1, memory_limit='2GB', processes=False)\n",
    "client"
   ]
  },
  {
   "cell_type": "code",
   "execution_count": null,
   "id": "4ce62183",
   "metadata": {},
   "outputs": [],
   "source": [
    "# #read in data\n",
    "from ddm.data_handling import read_file\n",
    "# # from ddm.data_handling import readLIF\n",
    "# # dData = readLIF('../tests/data/testData3series.lif')\n",
    "\n",
    "# # from ddm.data_handling import readTIF\n",
    "# # dData3 = readTIF('../tests/data/21-03-31_ddm_water_control_sample.tif')\n",
    "\n",
    "# # from ddm.data_handling import readND2\n",
    "# # dData2 = readND2('../tests/data/testData10frames.nd2')\n",
    "\n",
    "\n",
    "# dData = read_file('../tests/data/testData3series.lif', experiment=0)\n",
    "dData = read_file('../tests/data/testData10frames.nd2')\n",
    "# dData = read_file('../data/A1_s3001.nd2')\n",
    "# dData = read_file('../tests/data/21-03-31_ddm_water_control_sample.tif')\n",
    "\n",
    "#dummy data for testing\n",
    "# dData = np.random.randint(0, 256, size = (20, 512, 512))\n",
    "# dData = da.random.randint(0, 256, size=(5000, 512, 512), chunks=(10, 512, 512), dtype='uint8')"
   ]
  },
  {
   "cell_type": "code",
   "execution_count": null,
   "id": "f91ed502",
   "metadata": {},
   "outputs": [],
   "source": [
    "dData"
   ]
  },
  {
   "cell_type": "code",
   "execution_count": null,
   "id": "03f10674",
   "metadata": {},
   "outputs": [],
   "source": [
    "# import threading\n",
    "# from typing import Tuple, cast\n",
    "\n",
    "# def _dask_block(copy: bool, block_id: Tuple[int]) -> np.ndarray:\n",
    "#         if isinstance(block_id, np.ndarray):\n",
    "#             return\n",
    "#         with threading.RLock():\n",
    "#             was_closed = self.closed\n",
    "#             if self.closed:\n",
    "#                 self.open()\n",
    "#             try:\n",
    "#                 ncoords = len(self._coord_shape)\n",
    "#                 idx = self._seq_index_from_coords(block_id[:ncoords])\n",
    "\n",
    "#                 if idx == self._NO_IDX:\n",
    "#                     if any(block_id):\n",
    "#                         raise ValueError(\n",
    "#                             f\"Cannot get chunk {block_id} for single frame image.\"\n",
    "#                         )\n",
    "#                     idx = 0\n",
    "#                 data = _get_frame(cast(int, idx))\n",
    "#                 data = data.copy() if copy else data\n",
    "#                 return data[(np.newaxis,) * ncoords]\n",
    "#             finally:\n",
    "#                 if was_closed:\n",
    "#                     self.close()\n",
    "\n",
    "# def _get_frame(self, index: int) -> np.ndarray:\n",
    "#     frame = self._rdr._read_image(index)\n",
    "#     frame.shape = self._raw_frame_shape\n",
    "#     return frame.transpose((2, 0, 1, 3)).squeeze()\n",
    "\n",
    "# def _seq_index_from_coords(\n",
    "#         self, coords: Sequence\n",
    "#     ) -> Union[Sequence[int], SupportsInt]:\n",
    "#         if not self._coord_shape:\n",
    "#             return self._NO_IDX\n",
    "        # return np.ravel_multi_index(coords, self._coord_shape)\n"
   ]
  },
  {
   "cell_type": "code",
   "execution_count": null,
   "id": "74453665",
   "metadata": {},
   "outputs": [],
   "source": []
  },
  {
   "cell_type": "code",
   "execution_count": null,
   "id": "86f13e4d",
   "metadata": {},
   "outputs": [],
   "source": [
    "def to_dask(f, chunk_size = 10, wrapper = False):\n",
    "    \"\"\"Convert data to dask array\n",
    "    \"\"\"\n",
    "    shape = (int(f._coord_shape[0]/chunk_size), )\n",
    "    chunks = [(chunk_size,) * x for x in shape]\n",
    "    chunks += [(x,) for x in f._frame_shape]\n",
    "    dask_arr = da.map_blocks(\n",
    "        f._dask_block,\n",
    "        copy=True,\n",
    "        chunks=chunks,\n",
    "        dtype=f.dtype,\n",
    "    )\n",
    "   \n",
    "    if wrapper:\n",
    "        from resource_backed_dask_array import ResourceBackedDaskArray\n",
    "\n",
    "        # this subtype allows the dask array to re-open the underlying\n",
    "        # nd2 file on compute.\n",
    "        return ResourceBackedDaskArray.from_array(dask_arr, f)\n",
    "    return dask_arr\n"
   ]
  },
  {
   "cell_type": "code",
   "execution_count": null,
   "id": "00226b17",
   "metadata": {},
   "outputs": [],
   "source": [
    "filename = '../data/A1_s3001.nd2'\n",
    "# filename = '../tests/data/testData10frames.nd2'\n",
    "f = nd2.ND2File(filename)\n",
    "dData = to_dask(f)\n",
    "# f.close()"
   ]
  },
  {
   "cell_type": "code",
   "execution_count": null,
   "id": "b129ced3",
   "metadata": {},
   "outputs": [],
   "source": [
    "dData"
   ]
  },
  {
   "cell_type": "markdown",
   "id": "b50f53cd",
   "metadata": {},
   "source": [
    "### Observations\n",
    "- Rechunking a loaded nd2 file through the `nd2` package, will result in significant overhead. The array is rechunked prior to executing the any computation. The default behaviour of `nd2` is to create chunks with a single image."
   ]
  },
  {
   "cell_type": "code",
   "execution_count": null,
   "id": "9016f91c",
   "metadata": {},
   "outputs": [],
   "source": [
    "#method 1 - high q for A = 0 - rework to optimise the FFTs???\n",
    "def findMeanSqFFT(dumData):\n",
    "    # sqFFT = 2*da.abs(da.fft.fft2(dumData))*np.abs(da.fft.fft2(dumData))\n",
    "    sqFFT = 2*(da.abs(da.fft.fft2(dumData)))**2\n",
    "    sqFFT_shift = da.fft.fftshift(sqFFT)\n",
    "    sqFFTmean = da.mean(sqFFT_shift, axis = 0)\n",
    "    return sqFFTmean/(np.shape(sqFFTmean)[0]*np.shape(sqFFTmean[1]))\n",
    "\n",
    "def computeAB(sqFFTmean):\n",
    "    sqFFTrad = radial_profile(sqFFTmean, (np.shape(sqFFTmean)[0]/2, np.shape(sqFFTmean)[1]/2))\n",
    "    b = np.mean(sqFFTrad[-100:-50]) #change depending on size of array\n",
    "    a = sqFFTrad - b\n",
    "    return (a, b)"
   ]
  },
  {
   "cell_type": "code",
   "execution_count": null,
   "id": "5e99fa70",
   "metadata": {},
   "outputs": [],
   "source": [
    "meanSQ = findMeanSqFFT(dData)\n",
    "meanSQ"
   ]
  },
  {
   "cell_type": "code",
   "execution_count": null,
   "id": "5dfce650",
   "metadata": {},
   "outputs": [],
   "source": [
    "%%time\n",
    "out = meanSQ.compute()"
   ]
  },
  {
   "cell_type": "code",
   "execution_count": null,
   "id": "82888c8b",
   "metadata": {},
   "outputs": [],
   "source": [
    "a, b = computeAB(out)"
   ]
  },
  {
   "cell_type": "code",
   "execution_count": null,
   "id": "0119d731",
   "metadata": {},
   "outputs": [],
   "source": [
    "plt.plot(a[10:])\n",
    "plt.show()\n"
   ]
  },
  {
   "cell_type": "code",
   "execution_count": null,
   "id": "4cbf4d1f",
   "metadata": {},
   "outputs": [],
   "source": [
    "plt.plot(a)"
   ]
  },
  {
   "cell_type": "code",
   "execution_count": null,
   "id": "64e48239",
   "metadata": {},
   "outputs": [],
   "source": [
    "# client.restart()\n",
    "client.close()"
   ]
  },
  {
   "cell_type": "code",
   "execution_count": null,
   "id": "62ba0b7f",
   "metadata": {},
   "outputs": [],
   "source": [
    "#method 2 - delay time is zero then A = real part of squared stuff\n",
    "# fTFt = np.fft.fftshift(2*np.fft.fft2(dData2)*np.conj(np.fft.fft2(dData2, axes = (0,1))))\n",
    "# aFull = np.real(np.mean(fTFt, axis = 0))\n",
    "# c = radial_profile(aFull, (512, 512))\n",
    "# pl.figure(0)\n",
    "# #pl.plot(c[10:], color = 'r')\n",
    "# pl.plot(A[10:], color = 'b')\n",
    "\n",
    "# SqFFT = 2*np.abs(np.fft.fft2(dData2)**2)\n",
    "# SqFFT = np.fft.fftshift(SqFFT)\n",
    "# SqFFTmean = np.mean(SqFFT, axis = 0)\n",
    "# SqFFTrad = radial_profile(SqFFTmean, (512, 512))\n",
    "\n",
    "# d = SqFFTrad - c\n",
    "\n",
    "# pl.figure(1)\n",
    "# #pl.plot(d[10:], color = 'm')\n",
    "# pl.axhline(B, color = 'c')"
   ]
  },
  {
   "cell_type": "code",
   "execution_count": null,
   "id": "8c8275ca",
   "metadata": {},
   "outputs": [],
   "source": []
  }
 ],
 "metadata": {
  "kernelspec": {
   "display_name": "Python 3.8.13 ('ddm_env')",
   "language": "python",
   "name": "python3"
  },
  "language_info": {
   "codemirror_mode": {
    "name": "ipython",
    "version": 3
   },
   "file_extension": ".py",
   "mimetype": "text/x-python",
   "name": "python",
   "nbconvert_exporter": "python",
   "pygments_lexer": "ipython3",
   "version": "3.8.13"
  },
  "vscode": {
   "interpreter": {
    "hash": "683584f1dfa387d13346b6ef2515f86bf9d1a1f881018b0cc1bd7386ea26c61e"
   }
  }
 },
 "nbformat": 4,
 "nbformat_minor": 5
}
