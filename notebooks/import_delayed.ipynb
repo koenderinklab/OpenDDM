{
 "cells": [
  {
   "cell_type": "code",
   "execution_count": null,
   "metadata": {},
   "outputs": [],
   "source": [
    "import pims\n",
    "import dask.array as da\n",
    "from dask import delayed, compute\n",
    "import numpy as np"
   ]
  },
  {
   "cell_type": "code",
   "execution_count": null,
   "metadata": {},
   "outputs": [],
   "source": [
    "filename = '../tests/data/testData3series.lif'"
   ]
  },
  {
   "cell_type": "code",
   "execution_count": null,
   "metadata": {},
   "outputs": [],
   "source": [
    "def get_lif_metadata(filename):\n",
    "    with pims.Bioformats(filename, read_mode=\"jpype\") as lifSeq:\n",
    "        xscale = lifSeq.metadata.PixelsPhysicalSizeX(0)\n",
    "        tscale = lifSeq.metadata.PlaneDeltaT(0, 1) * 1000.0\n",
    "        lifXCoords = np.arange(0.0, lifSeq.shape[1] * xscale, xscale)\n",
    "        lifYCoords = np.arange(0.0, lifSeq.shape[2] * xscale, xscale)\n",
    "        lifTCoords = np.arange(0.0, lifSeq.shape[0] * tscale, tscale)\n",
    "        return (lifXCoords, lifYCoords, lifTCoords)"
   ]
  },
  {
   "cell_type": "code",
   "execution_count": null,
   "metadata": {},
   "outputs": [],
   "source": [
    "get_lif_metadata(filename)"
   ]
  },
  {
   "cell_type": "code",
   "execution_count": null,
   "metadata": {},
   "outputs": [],
   "source": [
    "lifSeq = pims.Bioformats(filename, read_mode=\"jpype\")"
   ]
  },
  {
   "cell_type": "code",
   "execution_count": null,
   "metadata": {},
   "outputs": [],
   "source": [
    "lifSeq.get_frame(1)"
   ]
  },
  {
   "cell_type": "code",
   "execution_count": null,
   "metadata": {},
   "outputs": [],
   "source": [
    "def get_frame(filename, frame, chunk):\n",
    "    frames = range(frame, frame+chunk)\n",
    "    with pims.Bioformats(filename, read_mode=\"jpype\") as lifSeq:\n",
    "        arr = [lifSeq.get_frame(frame) for frame in frames]\n",
    "        d_arr = da.from_array(arr, chunks=(chunk, -1, -1))\n",
    "        return d_arr"
   ]
  },
  {
   "cell_type": "code",
   "execution_count": null,
   "metadata": {},
   "outputs": [],
   "source": [
    "arr = get_frame(filename, 3, 2)\n",
    "arr"
   ]
  },
  {
   "cell_type": "code",
   "execution_count": null,
   "metadata": {},
   "outputs": [],
   "source": [
    "chunk_size = 2\n",
    "arr = [get_frame(filename, frame, chunk_size) for frame in range(1,10,chunk_size)]\n",
    "out = da.stack(arr)"
   ]
  },
  {
   "cell_type": "code",
   "execution_count": 1,
   "metadata": {},
   "outputs": [],
   "source": [
    "from dask.array import map_blocks"
   ]
  },
  {
   "cell_type": "code",
   "execution_count": 2,
   "metadata": {},
   "outputs": [],
   "source": [
    "from nd2 import ND2File\n",
    "f = ND2File('../data/A1_s3001.nd2')"
   ]
  },
  {
   "cell_type": "code",
   "execution_count": 8,
   "metadata": {},
   "outputs": [],
   "source": [
    "filename = '../data/A1_s3001.nd2'\n",
    "def to_dask(filename, chunk_size = 5):\n",
    "    f = ND2File(filename)\n",
    "    shape = (int(f._coord_shape[0]/chunk_size), )\n",
    "    chunks = [(chunk_size,) * x for x in shape]\n",
    "    chunks += [(x,) for x in f._frame_shape]\n",
    "    dask_arr = map_blocks(\n",
    "        f._dask_block,\n",
    "        copy=True,\n",
    "        chunks=chunks,\n",
    "        dtype=f.dtype,\n",
    "    )\n",
    "    return dask_arr"
   ]
  },
  {
   "cell_type": "code",
   "execution_count": 9,
   "metadata": {},
   "outputs": [
    {
     "data": {
      "text/html": [
       "<table>\n",
       "    <tr>\n",
       "        <td>\n",
       "            <table>\n",
       "                <thead>\n",
       "                    <tr>\n",
       "                        <td> </td>\n",
       "                        <th> Array </th>\n",
       "                        <th> Chunk </th>\n",
       "                    </tr>\n",
       "                </thead>\n",
       "                <tbody>\n",
       "                    \n",
       "                    <tr>\n",
       "                        <th> Bytes </th>\n",
       "                        <td> 2.44 GiB </td>\n",
       "                        <td> 2.50 MiB </td>\n",
       "                    </tr>\n",
       "                    \n",
       "                    <tr>\n",
       "                        <th> Shape </th>\n",
       "                        <td> (5000, 512, 512) </td>\n",
       "                        <td> (5, 512, 512) </td>\n",
       "                    </tr>\n",
       "                    <tr>\n",
       "                        <th> Count </th>\n",
       "                        <td> 2000 Tasks </td>\n",
       "                        <td> 1000 Chunks </td>\n",
       "                    </tr>\n",
       "                    <tr>\n",
       "                    <th> Type </th>\n",
       "                    <td> uint16 </td>\n",
       "                    <td> numpy.ndarray </td>\n",
       "                    </tr>\n",
       "                </tbody>\n",
       "            </table>\n",
       "        </td>\n",
       "        <td>\n",
       "        <svg width=\"169\" height=\"159\" style=\"stroke:rgb(0,0,0);stroke-width:1\" >\n",
       "\n",
       "  <!-- Horizontal lines -->\n",
       "  <line x1=\"10\" y1=\"0\" x2=\"80\" y2=\"70\" style=\"stroke-width:2\" />\n",
       "  <line x1=\"10\" y1=\"38\" x2=\"80\" y2=\"109\" style=\"stroke-width:2\" />\n",
       "\n",
       "  <!-- Vertical lines -->\n",
       "  <line x1=\"10\" y1=\"0\" x2=\"10\" y2=\"38\" style=\"stroke-width:2\" />\n",
       "  <line x1=\"13\" y1=\"3\" x2=\"13\" y2=\"42\" />\n",
       "  <line x1=\"17\" y1=\"7\" x2=\"17\" y2=\"46\" />\n",
       "  <line x1=\"21\" y1=\"11\" x2=\"21\" y2=\"49\" />\n",
       "  <line x1=\"24\" y1=\"14\" x2=\"24\" y2=\"53\" />\n",
       "  <line x1=\"28\" y1=\"18\" x2=\"28\" y2=\"57\" />\n",
       "  <line x1=\"32\" y1=\"22\" x2=\"32\" y2=\"60\" />\n",
       "  <line x1=\"35\" y1=\"25\" x2=\"35\" y2=\"64\" />\n",
       "  <line x1=\"39\" y1=\"29\" x2=\"39\" y2=\"68\" />\n",
       "  <line x1=\"43\" y1=\"33\" x2=\"43\" y2=\"72\" />\n",
       "  <line x1=\"47\" y1=\"37\" x2=\"47\" y2=\"75\" />\n",
       "  <line x1=\"50\" y1=\"40\" x2=\"50\" y2=\"79\" />\n",
       "  <line x1=\"54\" y1=\"44\" x2=\"54\" y2=\"83\" />\n",
       "  <line x1=\"58\" y1=\"48\" x2=\"58\" y2=\"87\" />\n",
       "  <line x1=\"61\" y1=\"51\" x2=\"61\" y2=\"90\" />\n",
       "  <line x1=\"65\" y1=\"55\" x2=\"65\" y2=\"94\" />\n",
       "  <line x1=\"69\" y1=\"59\" x2=\"69\" y2=\"98\" />\n",
       "  <line x1=\"73\" y1=\"63\" x2=\"73\" y2=\"101\" />\n",
       "  <line x1=\"76\" y1=\"66\" x2=\"76\" y2=\"105\" />\n",
       "  <line x1=\"80\" y1=\"70\" x2=\"80\" y2=\"109\" style=\"stroke-width:2\" />\n",
       "\n",
       "  <!-- Colored Rectangle -->\n",
       "  <polygon points=\"10.0,0.0 80.58823529411765,70.58823529411765 80.58823529411765,109.3161189988227 10.0,38.72788370470505\" style=\"fill:#8B4903A0;stroke-width:0\"/>\n",
       "\n",
       "  <!-- Horizontal lines -->\n",
       "  <line x1=\"10\" y1=\"0\" x2=\"48\" y2=\"0\" style=\"stroke-width:2\" />\n",
       "  <line x1=\"13\" y1=\"3\" x2=\"52\" y2=\"3\" />\n",
       "  <line x1=\"17\" y1=\"7\" x2=\"56\" y2=\"7\" />\n",
       "  <line x1=\"21\" y1=\"11\" x2=\"59\" y2=\"11\" />\n",
       "  <line x1=\"24\" y1=\"14\" x2=\"63\" y2=\"14\" />\n",
       "  <line x1=\"28\" y1=\"18\" x2=\"67\" y2=\"18\" />\n",
       "  <line x1=\"32\" y1=\"22\" x2=\"70\" y2=\"22\" />\n",
       "  <line x1=\"35\" y1=\"25\" x2=\"74\" y2=\"25\" />\n",
       "  <line x1=\"39\" y1=\"29\" x2=\"78\" y2=\"29\" />\n",
       "  <line x1=\"43\" y1=\"33\" x2=\"82\" y2=\"33\" />\n",
       "  <line x1=\"47\" y1=\"37\" x2=\"85\" y2=\"37\" />\n",
       "  <line x1=\"50\" y1=\"40\" x2=\"89\" y2=\"40\" />\n",
       "  <line x1=\"54\" y1=\"44\" x2=\"93\" y2=\"44\" />\n",
       "  <line x1=\"58\" y1=\"48\" x2=\"97\" y2=\"48\" />\n",
       "  <line x1=\"61\" y1=\"51\" x2=\"100\" y2=\"51\" />\n",
       "  <line x1=\"65\" y1=\"55\" x2=\"104\" y2=\"55\" />\n",
       "  <line x1=\"69\" y1=\"59\" x2=\"108\" y2=\"59\" />\n",
       "  <line x1=\"73\" y1=\"63\" x2=\"111\" y2=\"63\" />\n",
       "  <line x1=\"76\" y1=\"66\" x2=\"115\" y2=\"66\" />\n",
       "  <line x1=\"80\" y1=\"70\" x2=\"119\" y2=\"70\" style=\"stroke-width:2\" />\n",
       "\n",
       "  <!-- Vertical lines -->\n",
       "  <line x1=\"10\" y1=\"0\" x2=\"80\" y2=\"70\" style=\"stroke-width:2\" />\n",
       "  <line x1=\"48\" y1=\"0\" x2=\"119\" y2=\"70\" style=\"stroke-width:2\" />\n",
       "\n",
       "  <!-- Colored Rectangle -->\n",
       "  <polygon points=\"10.0,0.0 48.72788370470505,0.0 119.3161189988227,70.58823529411765 80.58823529411765,70.58823529411765\" style=\"fill:#8B4903A0;stroke-width:0\"/>\n",
       "\n",
       "  <!-- Horizontal lines -->\n",
       "  <line x1=\"80\" y1=\"70\" x2=\"119\" y2=\"70\" style=\"stroke-width:2\" />\n",
       "  <line x1=\"80\" y1=\"109\" x2=\"119\" y2=\"109\" style=\"stroke-width:2\" />\n",
       "\n",
       "  <!-- Vertical lines -->\n",
       "  <line x1=\"80\" y1=\"70\" x2=\"80\" y2=\"109\" style=\"stroke-width:2\" />\n",
       "  <line x1=\"119\" y1=\"70\" x2=\"119\" y2=\"109\" style=\"stroke-width:2\" />\n",
       "\n",
       "  <!-- Colored Rectangle -->\n",
       "  <polygon points=\"80.58823529411765,70.58823529411765 119.3161189988227,70.58823529411765 119.3161189988227,109.3161189988227 80.58823529411765,109.3161189988227\" style=\"fill:#ECB172A0;stroke-width:0\"/>\n",
       "\n",
       "  <!-- Text -->\n",
       "  <text x=\"99.952177\" y=\"129.316119\" font-size=\"1.0rem\" font-weight=\"100\" text-anchor=\"middle\" >512</text>\n",
       "  <text x=\"139.316119\" y=\"89.952177\" font-size=\"1.0rem\" font-weight=\"100\" text-anchor=\"middle\" transform=\"rotate(-90,139.316119,89.952177)\">512</text>\n",
       "  <text x=\"35.294118\" y=\"94.022001\" font-size=\"1.0rem\" font-weight=\"100\" text-anchor=\"middle\" transform=\"rotate(45,35.294118,94.022001)\">5000</text>\n",
       "</svg>\n",
       "        </td>\n",
       "    </tr>\n",
       "</table>"
      ],
      "text/plain": [
       "dask.array<_dask_block, shape=(5000, 512, 512), dtype=uint16, chunksize=(5, 512, 512), chunktype=numpy.ndarray>"
      ]
     },
     "execution_count": 9,
     "metadata": {},
     "output_type": "execute_result"
    }
   ],
   "source": [
    "to_dask(filename)"
   ]
  },
  {
   "cell_type": "code",
   "execution_count": null,
   "metadata": {},
   "outputs": [],
   "source": []
  }
 ],
 "metadata": {
  "kernelspec": {
   "display_name": "Python 3.8.13 ('ddm_env')",
   "language": "python",
   "name": "python3"
  },
  "language_info": {
   "codemirror_mode": {
    "name": "ipython",
    "version": 3
   },
   "file_extension": ".py",
   "mimetype": "text/x-python",
   "name": "python",
   "nbconvert_exporter": "python",
   "pygments_lexer": "ipython3",
   "version": "3.8.13"
  },
  "orig_nbformat": 4,
  "vscode": {
   "interpreter": {
    "hash": "5d3ba36e63629f58b0b91fca6dd69f41cc067643cf698e645db0540ff966b8cd"
   }
  }
 },
 "nbformat": 4,
 "nbformat_minor": 2
}
