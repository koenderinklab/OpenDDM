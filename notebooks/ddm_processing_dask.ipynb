{
 "cells": [
  {
   "cell_type": "code",
   "execution_count": null,
   "metadata": {},
   "outputs": [],
   "source": [
    "from ddm.data_handling import read_file\n",
    "from ddm.processing import ddm_dask\n",
    "from ddm.fitting import findMeanSqFFT_np, computeAB\n",
    "from ddm.plotting import plotSingleExpFit, plotISF\n",
    "from ddm.utils import print_available_ram, print_file_size\n",
    "\n",
    "import numpy as np\n",
    "import dask\n",
    "import dask.array as da\n",
    "from dask.diagnostics import ProgressBar"
   ]
  },
  {
   "cell_type": "code",
   "execution_count": null,
   "metadata": {},
   "outputs": [],
   "source": [
    "print_available_ram()\n",
    "print_file_size('../data/test_dataset_no_drift.tif')"
   ]
  },
  {
   "cell_type": "code",
   "execution_count": null,
   "metadata": {},
   "outputs": [],
   "source": [
    "filename = '../data/test_dataset_no_drift.tif'\n",
    "ddmData = read_file(filename, delayed=True, chunk_size=25)\n",
    "ddmData"
   ]
  },
  {
   "cell_type": "code",
   "execution_count": null,
   "metadata": {},
   "outputs": [],
   "source": [
    "from dask.distributed import Client"
   ]
  },
  {
   "cell_type": "code",
   "execution_count": null,
   "metadata": {},
   "outputs": [],
   "source": [
    "client = Client(n_workers=4, threads_per_worker=1, memory_limit='2GB', processes=True)\n",
    "client"
   ]
  },
  {
   "cell_type": "code",
   "execution_count": null,
   "metadata": {},
   "outputs": [],
   "source": [
    "def calc_matrix_loop(data, tau):\n",
    "    num_frames, height, width = data.shape\n",
    "    img_fft_sq = da.zeros((width, height))  \n",
    "\n",
    "    for jj in range(num_frames - tau):  \n",
    "        img_diff = (data[jj + tau] - data[jj])  \n",
    "        img_fft = da.fft.fft2(img_diff)\n",
    "        img_fft_sq += (da.abs(img_fft) ** 2)\n",
    "\n",
    "    fft_shift = da.fft.fftshift(img_fft_sq)\n",
    "    return fft_shift\n",
    "\n",
    "\n",
    "def calc_matrix_loop_opt(data, tau, num_frames):\n",
    "    img_fft_sq = []\n",
    "\n",
    "    for jj in range(num_frames - tau):  \n",
    "        out = calc_ISF(data[jj], data[jj + tau])\n",
    "        img_fft_sq.append(out)\n",
    "\n",
    "    fft_shift = da.fft.fftshift(np.asarray(img_fft_sq))\n",
    "    return fft_shift"
   ]
  },
  {
   "cell_type": "code",
   "execution_count": null,
   "metadata": {},
   "outputs": [],
   "source": [
    "# def calc_ISF(img_diff):\n",
    "#     \"\"\"Calculate the Image Structure Function\n",
    "#     \"\"\"\n",
    "#     return da.abs(da.fft.fft2(img_diff))**2\n",
    "\n",
    "# out = []\n",
    "# results = []\n",
    "# for tau in range(1,10):\n",
    "#     img_diff = ddmData.data[:-tau, :, :] - ddmData.data[tau:, :, :]\n",
    "#     ISF = da.stack([calc_ISF(img) for img in img_diff])\n",
    "#     out.append(da.fft.fftshift(da.sum(ISF, axis=0)))\n",
    "#     results.append(dask.compute(*out))"
   ]
  },
  {
   "cell_type": "code",
   "execution_count": null,
   "metadata": {},
   "outputs": [],
   "source": [
    "def calc_ddm(img_fft, tau):\n",
    "    # img_fft = da.fft.fft2(data).astype(\"complex64\")\n",
    "    img_diff = img_fft[:-tau, :, :] - img_fft[tau:, :, :]\n",
    "    img_fft_sq = da.abs(img_diff) ** 2\n",
    "    img_sum = da.sum(img_fft_sq, axis=0)\n",
    "    return da.fft.fftshift(img_sum)"
   ]
  },
  {
   "cell_type": "code",
   "execution_count": null,
   "metadata": {},
   "outputs": [],
   "source": [
    "%%time\n",
    "\n",
    "def calc_ddm(img_fft, tau):\n",
    "    # img_fft = da.fft.fft2(data).astype(\"complex64\")\n",
    "    img_diff = img_fft[:-tau, :, :] - img_fft[tau:, :, :]\n",
    "    img_fft_sq = da.abs(img_diff) ** 2\n",
    "    img_sum = da.sum(img_fft_sq, axis=0)\n",
    "    return da.fft.fftshift(img_sum)\n",
    "\n",
    "results = []\n",
    "img_fft = da.fft.fft2(ddmData.data).astype(\"complex64\")\n",
    "for tau in range(1,10):\n",
    "    results.append(calc_ddm(img_fft, tau))\n",
    "\n",
    "out = dask.compute(*results)"
   ]
  },
  {
   "cell_type": "code",
   "execution_count": null,
   "metadata": {},
   "outputs": [],
   "source": [
    "%%time\n",
    "\n",
    "def calc_ddm(data, tau):\n",
    "    img_fft = da.fft.fft2(data).astype(\"complex64\")\n",
    "    img_diff = img_fft[:-tau, :, :] - img_fft[tau:, :, :]\n",
    "    img_fft_sq = da.abs(img_diff) ** 2\n",
    "    img_sum = da.sum(img_fft_sq, axis=0)\n",
    "    return da.fft.fftshift(img_sum)\n",
    "\n",
    "results = []\n",
    "for tau in range(1,10):\n",
    "    results.append(calc_ddm(ddmData.data, tau))\n",
    "\n",
    "out = dask.compute(*results)"
   ]
  },
  {
   "cell_type": "code",
   "execution_count": null,
   "metadata": {},
   "outputs": [],
   "source": [
    "# out = dask.compute(*results)"
   ]
  },
  {
   "cell_type": "code",
   "execution_count": null,
   "metadata": {},
   "outputs": [],
   "source": [
    "np.asarray(out).shape"
   ]
  },
  {
   "cell_type": "code",
   "execution_count": null,
   "metadata": {},
   "outputs": [],
   "source": [
    "client.close()"
   ]
  },
  {
   "cell_type": "code",
   "execution_count": null,
   "metadata": {},
   "outputs": [],
   "source": []
  }
 ],
 "metadata": {
  "interpreter": {
   "hash": "5d3ba36e63629f58b0b91fca6dd69f41cc067643cf698e645db0540ff966b8cd"
  },
  "kernelspec": {
   "display_name": "Python 3.8.13 ('ddm_env')",
   "language": "python",
   "name": "python3"
  },
  "language_info": {
   "codemirror_mode": {
    "name": "ipython",
    "version": 3
   },
   "file_extension": ".py",
   "mimetype": "text/x-python",
   "name": "python",
   "nbconvert_exporter": "python",
   "pygments_lexer": "ipython3",
   "version": "3.8.13"
  },
  "orig_nbformat": 4
 },
 "nbformat": 4,
 "nbformat_minor": 2
}
