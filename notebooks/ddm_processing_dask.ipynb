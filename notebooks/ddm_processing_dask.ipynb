{
 "cells": [
  {
   "cell_type": "code",
   "execution_count": null,
   "metadata": {},
   "outputs": [],
   "source": [
    "import shutil\n",
    "import os\n",
    "import numpy as np\n",
    "import dask\n",
    "import dask.array as da\n",
    "from dask.diagnostics import ProgressBar, ResourceProfiler\n",
    "from dask.distributed import Client\n",
    "\n",
    "from ddm.data_handling import read_file\n",
    "from ddm.processing import ddm_dask\n",
    "from ddm.fitting import findMeanSqFFT_np, computeAB\n",
    "from ddm.plotting import plotSingleExpFit, plotISF"
   ]
  },
  {
   "cell_type": "code",
   "execution_count": null,
   "metadata": {},
   "outputs": [],
   "source": [
    "filename = '../data/test_dataset_drift.tif'\n",
    "ddmData = read_file(filename, delayed=True, chunk_size=25)"
   ]
  },
  {
   "cell_type": "code",
   "execution_count": null,
   "metadata": {},
   "outputs": [],
   "source": [
    "ddmData"
   ]
  },
  {
   "cell_type": "code",
   "execution_count": null,
   "metadata": {},
   "outputs": [],
   "source": [
    "def calc_ddm(img_fft, tau):\n",
    "    img_diff = img_fft[:-tau, :, :] - img_fft[tau:, :, :]\n",
    "    img_fft_sq = da.abs(img_diff) ** 2\n",
    "    img_sum = da.sum(img_fft_sq, axis=0)\n",
    "    return da.fft.fftshift(img_sum)\n",
    "\n",
    "def calc_ddm_numpy(img_fft, tau):\n",
    "    img_diff = img_fft[:-tau, :, :] - img_fft[tau:, :, :]\n",
    "    img_fft_sq = np.abs(img_diff) ** 2\n",
    "    img_sum = np.sum(img_fft_sq, axis=0)\n",
    "    return np.fft.fftshift(img_sum)"
   ]
  },
  {
   "cell_type": "code",
   "execution_count": null,
   "metadata": {},
   "outputs": [],
   "source": [
    "def get_taus(index, tau_step):\n",
    "    if index == 0:\n",
    "        return np.arange(1, (index + 1)*tau_step)\n",
    "    else:\n",
    "        return np.arange(index*tau_step, (index + 1)*tau_step)"
   ]
  },
  {
   "cell_type": "code",
   "execution_count": null,
   "metadata": {},
   "outputs": [],
   "source": [
    "%%time\n",
    "tau_step = 10\n",
    "with ProgressBar():\n",
    "    out = []\n",
    "    img_fft = da.fft.fft2(ddmData.data).astype(np.complex64)\n",
    "    for index in range(10):\n",
    "        result = [calc_ddm_numpy(img_fft, tau) for tau in get_taus(index, tau_step)]\n",
    "        out = dask.compute(result, scheduler=\"threads\")\n",
    "\n",
    "# out = np.asarray(out)"
   ]
  },
  {
   "cell_type": "code",
   "execution_count": null,
   "metadata": {},
   "outputs": [],
   "source": [
    "out.shape"
   ]
  },
  {
   "cell_type": "markdown",
   "metadata": {},
   "source": [
    "### Refactored"
   ]
  },
  {
   "cell_type": "code",
   "execution_count": null,
   "metadata": {},
   "outputs": [],
   "source": [
    "%%time\n",
    "taus = da.arange(1,10)\n",
    "ddmMatrix = ddm_dask(ddmData.data, taus)"
   ]
  },
  {
   "cell_type": "code",
   "execution_count": null,
   "metadata": {},
   "outputs": [],
   "source": []
  },
  {
   "cell_type": "code",
   "execution_count": null,
   "metadata": {},
   "outputs": [],
   "source": []
  }
 ],
 "metadata": {
  "kernelspec": {
   "display_name": "Python 3.8.13 ('ddm_env')",
   "language": "python",
   "name": "python3"
  },
  "language_info": {
   "codemirror_mode": {
    "name": "ipython",
    "version": 3
   },
   "file_extension": ".py",
   "mimetype": "text/x-python",
   "name": "python",
   "nbconvert_exporter": "python",
   "pygments_lexer": "ipython3",
   "version": "3.8.13"
  },
  "orig_nbformat": 4,
  "vscode": {
   "interpreter": {
    "hash": "683584f1dfa387d13346b6ef2515f86bf9d1a1f881018b0cc1bd7386ea26c61e"
   }
  }
 },
 "nbformat": 4,
 "nbformat_minor": 2
}
