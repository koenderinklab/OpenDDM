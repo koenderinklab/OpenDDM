{
 "cells": [
  {
   "cell_type": "code",
   "execution_count": 1,
   "id": "36da15a3",
   "metadata": {},
   "outputs": [],
   "source": [
    "import numpy as np\n",
    "import pims\n",
    "import nd2\n",
    "import xarray\n",
    "import dask.array as da"
   ]
  },
  {
   "cell_type": "code",
   "execution_count": null,
   "id": "c894e35d",
   "metadata": {},
   "outputs": [],
   "source": [
    "def readND2(filename):\n",
    "    \"\"\"\n",
    "    \n",
    "    \"\"\"\n",
    "    sequence = nd2.imread(filename, xarray = True, dask = True)\n",
    "    frameT = sequence.metadata['experiment'][0].parameters.periodDiff.avg #this is the time per frame in ms\n",
    "    scale = sequence.X[1] #this is the microns per pixel\n",
    "    sequence['T'] = np.arange(len(sequence['T']))*frameT\n",
    "    sequence.attrs = {'xyScale': float(scale),\n",
    "                      'tScale': frameT}\n",
    "    return(sequence)"
   ]
  },
  {
   "cell_type": "code",
   "execution_count": null,
   "id": "bca03188",
   "metadata": {},
   "outputs": [],
   "source": [
    "seq = readND2('data/A1_s3001.nd2')\n",
    "seq"
   ]
  },
  {
   "cell_type": "code",
   "execution_count": null,
   "id": "4a26a691",
   "metadata": {},
   "outputs": [],
   "source": [
    "def readLIF(filename):\n",
    "    \"\"\"\n",
    "    \n",
    "    \"\"\"\n",
    "    lifSeq = pims.Bioformats(filename, read_mode = 'jpype')\n",
    "    xscale = lifSeq.metadata.PixelsPhysicalSizeX(0)\n",
    "    tscale = lifSeq.metadata.PlaneDeltaT(0,1)\n",
    "    lifXCoords = np.arange(0., lifSeq.shape[1]*xscale, xscale)\n",
    "    lifYCoords = np.arange(0., lifSeq.shape[2]*xscale, xscale)\n",
    "    lifTCoords = np.arange(0., lifSeq.shape[0]*tscale, tscale)\n",
    "    ds = da.from_array(lifSeq)\n",
    "    sequence = xarray.DataArray(data = ds, dims = [\"T\", \"Y\", \"X\"], coords = (lifTCoords, lifYCoords, lifXCoords), attrs = dict(xyScale = xscale, tScale = tscale))\n",
    "    return sequence"
   ]
  },
  {
   "cell_type": "code",
   "execution_count": null,
   "id": "53375e21",
   "metadata": {},
   "outputs": [],
   "source": [
    "readLIF('data/21-03-31_ddm.lif')"
   ]
  },
  {
   "cell_type": "code",
   "execution_count": 3,
   "id": "7fe09dee",
   "metadata": {},
   "outputs": [
    {
     "data": {
      "text/plain": [
       "'/home/tud258930/anaconda3/lib/python3.8/site-packages/pims/loci_tools.jar'"
      ]
     },
     "execution_count": 3,
     "metadata": {},
     "output_type": "execute_result"
    }
   ],
   "source": [
    "pims.bioformats.download_jar(version='6.5')"
   ]
  },
  {
   "cell_type": "code",
   "execution_count": 2,
   "id": "2eb24e73",
   "metadata": {},
   "outputs": [],
   "source": [
    "lifSeq = pims.Bioformats('../data/21-03-31_ddm.lif', read_mode = 'jpype')"
   ]
  },
  {
   "cell_type": "code",
   "execution_count": 15,
   "id": "c90a4591",
   "metadata": {},
   "outputs": [
    {
     "name": "stdout",
     "output_type": "stream",
     "text": [
      "Do you want to run the analysis on the entire series? (y/n)a\n",
      "Please type y or n\n",
      "a\n",
      "Do you want to run the analysis on the entire series? (y/n)y\n"
     ]
    }
   ],
   "source": [
    "lifSeq.metadata.ImageCount() #gives the number of series in the .lif file\n",
    "readAll = ''\n",
    "if lifSeq != 1:\n",
    "    while readAll != 'y' and readAll != 'n':\n",
    "        readAll = input('Do you want to run the analysis on the entire series? (y/n)')\n",
    "        if readAll != 'y' and readAll != 'n':\n",
    "            print('Please type y or n')\n",
    "        else:\n",
    "            break"
   ]
  },
  {
   "cell_type": "code",
   "execution_count": null,
   "id": "fc68f731",
   "metadata": {},
   "outputs": [],
   "source": [
    "def readTIF(filename, xscale = 1., tscale = 1.):\n",
    "    \"\"\"\n",
    "    \n",
    "    \"\"\"\n",
    "    tifSeq = pims.Bioformats(filename, read_mode = 'jpype')\n",
    "    try:\n",
    "        xscale = tifSeq.metadata.PixelsPhysicalSizeX(0)\n",
    "    except:\n",
    "        xscale = xs\n",
    "    try:\n",
    "        tscale = tifSeq.metadata.PixelsTimeIncrement(0)*1000.\n",
    "    except:\n",
    "        tscale = ts\n",
    "    tifXCoords = np.arange(0., tifSeq.shape[1]*xscale, xscale)\n",
    "    tifYCoords = np.arange(0., tifSeq.shape[2]*xscale, xscale)\n",
    "    tifTCoords = np.arange(0., tifSeq.shape[0]*tscale, tscale)\n",
    "    ds = da.from_array(tifSeq)\n",
    "    sequence = xarray.DataArray(data = ds, dims = [\"T\", \"Y\", \"X\"], coords = (tifTCoords, tifYCoords, tifXCoords), attrs = dict(xyScale = xscale, tScale = tscale))\n",
    "    return sequence"
   ]
  },
  {
   "cell_type": "code",
   "execution_count": null,
   "id": "6f5557fb",
   "metadata": {},
   "outputs": [],
   "source": [
    "readTIF('data/A1_s3001.tif')"
   ]
  },
  {
   "cell_type": "code",
   "execution_count": null,
   "id": "ef32ac27",
   "metadata": {},
   "outputs": [],
   "source": [
    "def read_file(filename, xs = None, ts = None):\n",
    "    \"\"\"\n",
    "    \"\"\"\n",
    "    supported = ['.lif', '.nd2', '.tif', '.tiff']\n",
    "    if filename[:-4] not in supported:\n",
    "        print('Not a supported image format')\n",
    "        return None\n",
    "    if filename[:-4] == '.lif'\n",
    "        return readLIF(filename)\n",
    "    elif filename[:-4] == 'nd2'\n",
    "        return readND2(filename)\n",
    "    else:\n",
    "        return readTIF(filename, xscale = xs, tscale = ts)"
   ]
  },
  {
   "cell_type": "code",
   "execution_count": null,
   "id": "3372b0ac",
   "metadata": {},
   "outputs": [],
   "source": [
    "readfile('x.png')"
   ]
  }
 ],
 "metadata": {
  "kernelspec": {
   "display_name": "Python 3",
   "language": "python",
   "name": "python3"
  },
  "language_info": {
   "codemirror_mode": {
    "name": "ipython",
    "version": 3
   },
   "file_extension": ".py",
   "mimetype": "text/x-python",
   "name": "python",
   "nbconvert_exporter": "python",
   "pygments_lexer": "ipython3",
   "version": "3.8.8"
  }
 },
 "nbformat": 4,
 "nbformat_minor": 5
}
