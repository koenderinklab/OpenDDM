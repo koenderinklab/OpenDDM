{
 "cells": [
  {
   "cell_type": "code",
   "execution_count": null,
   "metadata": {},
   "outputs": [],
   "source": [
    "from ddm.data_handling import read_file\n",
    "from ddm.processing import ddm_numpy, radial_profile #need to make sure we use the proper ddm function with dask functionality\n",
    "from ddm.fitting import findMeanSqFFT_np, computeAB\n",
    "from ddm.plotting import plotSingleExpFit, plotISF\n",
    "import numpy as np\n",
    "import matplotlib.pyplot as plt\n",
    "from tqdm import tqdm"
   ]
  },
  {
   "cell_type": "code",
   "execution_count": null,
   "metadata": {},
   "outputs": [],
   "source": [
    "filename = '../data/test_dataset_drift.tif'\n",
    "\n",
    "ddmData = read_file(filename, delayed=False)"
   ]
  },
  {
   "cell_type": "code",
   "execution_count": null,
   "metadata": {},
   "outputs": [],
   "source": [
    "ddmData = ddmData[0:500,:,:]"
   ]
  },
  {
   "cell_type": "markdown",
   "metadata": {},
   "source": [
    "### Default algorithm"
   ]
  },
  {
   "cell_type": "code",
   "execution_count": null,
   "metadata": {},
   "outputs": [],
   "source": [
    "%%time\n",
    "intTaus = np.arange(1,len(ddmData)//2)\n",
    "# ddmMatrix = np.array([None for j in range(len(intTaus))])\n",
    "ddmMatrix = []\n",
    "for tau in tqdm(intTaus):\n",
    "    # ddmMatrix[tau] = ddm_numpy(ddmData, tau) #at this point we have the 0th axis as taus and the 1st axis as qs\n",
    "    ddmMatrix.append(ddm_numpy(ddmData, tau))\n",
    "ddmMatrix = np.asarray(ddmMatrix)"
   ]
  },
  {
   "cell_type": "code",
   "execution_count": null,
   "metadata": {},
   "outputs": [],
   "source": [
    "plt.plot(ddmMatrix[10,:])\n",
    "plt.plot(ddmMatrix[25,:])\n",
    "plt.plot(ddmMatrix[48,:])\n",
    "plt.xlim(0, 80)\n",
    "plt.show()"
   ]
  },
  {
   "cell_type": "markdown",
   "metadata": {},
   "source": [
    "### Faster algorithm with numpy"
   ]
  },
  {
   "cell_type": "code",
   "execution_count": null,
   "metadata": {},
   "outputs": [],
   "source": [
    "%%time\n",
    "intTaus = np.arange(1,len(ddmData)//2)\n",
    "num_frames, height, width = ddmData.shape\n",
    "ddmMatrix_fast = []\n",
    "\n",
    "img_fft = np.fft.fft2(ddmData).astype(\"complex64\")\n",
    "for tau in tqdm(intTaus):\n",
    "    img_diff = img_fft[:-tau, :, :] - img_fft[tau:, :, :]\n",
    "    img_fft_sq = np.abs(img_diff) ** 2\n",
    "    img_sum = np.sum(img_fft_sq, axis=0)\n",
    "    fft_shift = np.fft.fftshift(img_sum)\n",
    "    gTau = fft_shift / (num_frames - tau)\n",
    "    gTauRadial = radial_profile(gTau, (width / 2.0, height / 2.0))\n",
    "    ddmMatrix_fast.append(gTauRadial)\n",
    "ddmMatrix_fast = np.asarray(ddmMatrix_fast)\n"
   ]
  },
  {
   "cell_type": "code",
   "execution_count": null,
   "metadata": {},
   "outputs": [],
   "source": [
    "plt.plot(ddmMatrix_fast[10,:])\n",
    "plt.plot(ddmMatrix_fast[25,:])\n",
    "plt.plot(ddmMatrix_fast[48,:])\n",
    "plt.xlim(0, 80)\n",
    "plt.show()"
   ]
  },
  {
   "cell_type": "code",
   "execution_count": null,
   "metadata": {},
   "outputs": [],
   "source": [
    "np.testing.assert_allclose(ddmMatrix, ddmMatrix_fast, rtol=1e-3)"
   ]
  },
  {
   "cell_type": "markdown",
   "metadata": {},
   "source": [
    "### Optimize with dask delayed"
   ]
  },
  {
   "cell_type": "code",
   "execution_count": null,
   "metadata": {},
   "outputs": [],
   "source": [
    "def calc_matrix(img_fft, tau, num_frames, height, width):\n",
    "    img_diff = img_fft[:-tau, :, :] - img_fft[tau:, :, :]\n",
    "    img_fft_sq = np.abs(img_diff) ** 2\n",
    "    img_sum = np.sum(img_fft_sq, axis=0)\n",
    "    fft_shift = np.fft.fftshift(img_sum)\n",
    "    gTau = fft_shift / (num_frames - tau)\n",
    "    gTauRadial = radial_profile(gTau, (width / 2.0, height / 2.0))\n",
    "    return gTauRadial"
   ]
  },
  {
   "cell_type": "code",
   "execution_count": null,
   "metadata": {},
   "outputs": [],
   "source": [
    "import dask\n",
    "from dask.diagnostics import ProgressBar, ResourceProfiler"
   ]
  },
  {
   "cell_type": "code",
   "execution_count": null,
   "metadata": {},
   "outputs": [],
   "source": [
    "%%time\n",
    "taus = np.arange(1,len(ddmData)//2)\n",
    "num_frames, height, width = ddmData.shape\n",
    "results = []\n",
    "\n",
    "img_fft = np.fft.fft2(ddmData).astype(\"complex64\")\n",
    "for tau in taus:\n",
    "    result = dask.delayed(calc_matrix)(img_fft, tau, num_frames, height, width)\n",
    "    results.append(result)\n",
    "\n",
    "with ProgressBar() as prof, ResourceProfiler() as rprof:\n",
    "    out = dask.compute(*results)\n",
    "out = np.asarray(out)"
   ]
  },
  {
   "cell_type": "code",
   "execution_count": null,
   "metadata": {},
   "outputs": [],
   "source": [
    "rprof.results"
   ]
  },
  {
   "cell_type": "code",
   "execution_count": null,
   "metadata": {},
   "outputs": [],
   "source": [
    "del img_fft"
   ]
  },
  {
   "cell_type": "code",
   "execution_count": null,
   "metadata": {},
   "outputs": [],
   "source": [
    "for row in out:\n",
    "    plt.plot(row, color='k', alpha=0.1)\n",
    "    plt.xlim(0, 100)\n",
    "plt.show()"
   ]
  },
  {
   "cell_type": "markdown",
   "metadata": {},
   "source": [
    "### Store result"
   ]
  },
  {
   "cell_type": "code",
   "execution_count": null,
   "metadata": {},
   "outputs": [],
   "source": [
    "file_out = \"../data/test_dataset_drift_ddm.txt\"\n",
    "np.savetxt(file_out, out)"
   ]
  },
  {
   "cell_type": "code",
   "execution_count": null,
   "metadata": {},
   "outputs": [],
   "source": []
  }
 ],
 "metadata": {
  "interpreter": {
   "hash": "5d3ba36e63629f58b0b91fca6dd69f41cc067643cf698e645db0540ff966b8cd"
  },
  "kernelspec": {
   "display_name": "Python 3.8.13 ('ddm_env')",
   "language": "python",
   "name": "python3"
  },
  "language_info": {
   "codemirror_mode": {
    "name": "ipython",
    "version": 3
   },
   "file_extension": ".py",
   "mimetype": "text/x-python",
   "name": "python",
   "nbconvert_exporter": "python",
   "pygments_lexer": "ipython3",
   "version": "3.8.13"
  },
  "orig_nbformat": 4
 },
 "nbformat": 4,
 "nbformat_minor": 2
}
