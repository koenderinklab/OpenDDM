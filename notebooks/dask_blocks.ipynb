{
 "cells": [
  {
   "cell_type": "code",
   "execution_count": 3,
   "metadata": {},
   "outputs": [
    {
     "ename": "IndexError",
     "evalue": "list index out of range",
     "output_type": "error",
     "traceback": [
      "\u001b[1;31m---------------------------------------------------------------------------\u001b[0m",
      "\u001b[1;31mIndexError\u001b[0m                                Traceback (most recent call last)",
      "\u001b[1;32mc:\\Users\\mauritskok\\_projects\\ddm\\notebooks\\dask_blocks.ipynb Cell 1\u001b[0m in \u001b[0;36m<cell line: 15>\u001b[1;34m()\u001b[0m\n\u001b[0;32m     <a href='vscode-notebook-cell:/c%3A/Users/mauritskok/_projects/ddm/notebooks/dask_blocks.ipynb#ch0000000?line=11'>12</a>\u001b[0m     \u001b[39mreturn\u001b[39;00m np\u001b[39m.\u001b[39mexpand_dims(image, axis\u001b[39m=\u001b[39maxis)\n\u001b[0;32m     <a href='vscode-notebook-cell:/c%3A/Users/mauritskok/_projects/ddm/notebooks/dask_blocks.ipynb#ch0000000?line=13'>14</a>\u001b[0m \u001b[39m# load the first image (assume rest are same shape/dtype)\u001b[39;00m\n\u001b[1;32m---> <a href='vscode-notebook-cell:/c%3A/Users/mauritskok/_projects/ddm/notebooks/dask_blocks.ipynb#ch0000000?line=14'>15</a>\u001b[0m sample \u001b[39m=\u001b[39m skimage\u001b[39m.\u001b[39mio\u001b[39m.\u001b[39mimread(filenames[\u001b[39m0\u001b[39;49m])\n\u001b[0;32m     <a href='vscode-notebook-cell:/c%3A/Users/mauritskok/_projects/ddm/notebooks/dask_blocks.ipynb#ch0000000?line=16'>17</a>\u001b[0m stack \u001b[39m=\u001b[39m da\u001b[39m.\u001b[39mmap_blocks(\n\u001b[0;32m     <a href='vscode-notebook-cell:/c%3A/Users/mauritskok/_projects/ddm/notebooks/dask_blocks.ipynb#ch0000000?line=17'>18</a>\u001b[0m     read_one_image,\n\u001b[0;32m     <a href='vscode-notebook-cell:/c%3A/Users/mauritskok/_projects/ddm/notebooks/dask_blocks.ipynb#ch0000000?line=18'>19</a>\u001b[0m     dtype\u001b[39m=\u001b[39msample\u001b[39m.\u001b[39mdtype,\n\u001b[0;32m     <a href='vscode-notebook-cell:/c%3A/Users/mauritskok/_projects/ddm/notebooks/dask_blocks.ipynb#ch0000000?line=19'>20</a>\u001b[0m     chunks\u001b[39m=\u001b[39m((\u001b[39m1\u001b[39m,) \u001b[39m*\u001b[39m \u001b[39mlen\u001b[39m(filenames),  \u001b[39m*\u001b[39msample\u001b[39m.\u001b[39mshape)\n\u001b[0;32m     <a href='vscode-notebook-cell:/c%3A/Users/mauritskok/_projects/ddm/notebooks/dask_blocks.ipynb#ch0000000?line=20'>21</a>\u001b[0m )\n",
      "\u001b[1;31mIndexError\u001b[0m: list index out of range"
     ]
    }
   ],
   "source": [
    "import glob\n",
    "import skimage.io\n",
    "import numpy as np\n",
    "import dask.array as da\n",
    "\n",
    "filenames = sorted(glob.glob('../data/*.tif'))\n",
    "\n",
    "def read_one_file(block_id, filenames=filenames, axis=0):\n",
    "    # a function that reads in one chunk of data\n",
    "    print(block_id)\n",
    "    path = filenames[block_id[axis]]\n",
    "    image = skimage.io.imread(path)\n",
    "    return np.expand_dims(image, axis=axis)\n",
    "\n",
    "# load the first image (assume rest are same shape/dtype)\n",
    "sample = skimage.io.imread(filenames[0])\n",
    "\n",
    "stack = da.map_blocks(\n",
    "    read_one_file,\n",
    "    dtype=sample.dtype,\n",
    "    chunks=((1,) * len(filenames),  *sample.shape)\n",
    ")"
   ]
  },
  {
   "cell_type": "code",
   "execution_count": null,
   "metadata": {},
   "outputs": [],
   "source": []
  }
 ],
 "metadata": {
  "kernelspec": {
   "display_name": "Python 3.8.13 ('ddm_env')",
   "language": "python",
   "name": "python3"
  },
  "language_info": {
   "codemirror_mode": {
    "name": "ipython",
    "version": 3
   },
   "file_extension": ".py",
   "mimetype": "text/x-python",
   "name": "python",
   "nbconvert_exporter": "python",
   "pygments_lexer": "ipython3",
   "version": "3.8.13"
  },
  "orig_nbformat": 4,
  "vscode": {
   "interpreter": {
    "hash": "683584f1dfa387d13346b6ef2515f86bf9d1a1f881018b0cc1bd7386ea26c61e"
   }
  }
 },
 "nbformat": 4,
 "nbformat_minor": 2
}
