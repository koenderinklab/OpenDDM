{
 "cells": [
  {
   "cell_type": "code",
   "execution_count": null,
   "metadata": {},
   "outputs": [],
   "source": [
    "import pims\n",
    "import numpy as np\n",
    "import xarray\n",
    "import warnings\n",
    "import nd2\n",
    "import dask\n",
    "import dask_image.imread"
   ]
  },
  {
   "cell_type": "code",
   "execution_count": null,
   "metadata": {},
   "outputs": [],
   "source": [
    "file_nd2 = \"../tests/data/testData10frames.nd2\"\n",
    "# file_nd2 = \"../data/20210503_18_a_.nd2\"\n",
    "file_tif = \"../tests/data/21-03-31_ddm_water_control_sample.tif\"\n",
    "# file_tif = \"../data/sim_diffusion.tif\"\n",
    "file_lif = \"../tests/data/testData1series.lif\""
   ]
  },
  {
   "cell_type": "markdown",
   "metadata": {},
   "source": [
    "### Pims reader"
   ]
  },
  {
   "cell_type": "code",
   "execution_count": null,
   "metadata": {},
   "outputs": [],
   "source": [
    "def get_reader(path: str):\n",
    "    with open(path, \"rb\"):\n",
    "        return pims.Bioformats(path)"
   ]
  },
  {
   "cell_type": "code",
   "execution_count": null,
   "metadata": {},
   "outputs": [],
   "source": [
    "rdr = get_reader(file_nd2)"
   ]
  },
  {
   "cell_type": "code",
   "execution_count": null,
   "metadata": {},
   "outputs": [],
   "source": [
    "data = np.asarray(rdr.get_frame(0))\n",
    "type(data)"
   ]
  },
  {
   "cell_type": "markdown",
   "metadata": {},
   "source": [
    "### Import delayed image stacks"
   ]
  },
  {
   "cell_type": "code",
   "execution_count": null,
   "metadata": {},
   "outputs": [],
   "source": [
    "warnings.filterwarnings(\"ignore\", message=\"Due to an issue with JPype 0.6.0\")\n",
    "img_nd2 = dask_image.imread.imread(file_nd2, nframes=10)\n",
    "img_nd2.shape"
   ]
  },
  {
   "cell_type": "code",
   "execution_count": null,
   "metadata": {},
   "outputs": [],
   "source": [
    "img_tif = dask_image.imread.imread(file_tif, nframes=10)\n",
    "img_tif"
   ]
  },
  {
   "cell_type": "code",
   "execution_count": null,
   "metadata": {},
   "outputs": [],
   "source": [
    "img_lif = dask_image.imread.imread(file_lif, nframes=10)\n",
    "img_lif"
   ]
  },
  {
   "cell_type": "markdown",
   "metadata": {},
   "source": [
    "### Read metadata"
   ]
  },
  {
   "cell_type": "code",
   "execution_count": null,
   "metadata": {},
   "outputs": [],
   "source": [
    "def read_metadata_nd2(filename):\n",
    "    with nd2.ND2File(filename) as imgs:\n",
    "        tscale = imgs.experiment[0].parameters.periodDiff.avg\n",
    "        xscale = imgs.voxel_size().x\n",
    "    return xscale, tscale\n",
    "\n",
    "def read_metadata_lif(filename):\n",
    "    with pims.Bioformats(filename) as imgs:\n",
    "        xscale = imgs.metadata.PixelsPhysicalSizeX(0)\n",
    "        tscale = imgs.metadata.PlaneDeltaT(0, 1) * 1000.0\n",
    "    return xscale, tscale\n",
    "\n",
    "def read_metadata_tif(filename):\n",
    "    with pims.Bioformats(filename) as imgs:\n",
    "        try:\n",
    "            xscale = imgs.metadata.PixelsPhysicalSizeX(0)            \n",
    "        except AttributeError:\n",
    "            xscale = 1\n",
    "        try: \n",
    "            tscale = imgs.metadata.PixelsTimeIncrement(0) * 1000.0\n",
    "        except AttributeError:\n",
    "            tscale = 1\n",
    "        \n",
    "    return xscale, tscale"
   ]
  },
  {
   "cell_type": "code",
   "execution_count": null,
   "metadata": {},
   "outputs": [],
   "source": [
    "read_metadata_lif(file_lif)"
   ]
  },
  {
   "cell_type": "code",
   "execution_count": null,
   "metadata": {},
   "outputs": [],
   "source": [
    "read_metadata_nd2(file_nd2)"
   ]
  },
  {
   "cell_type": "code",
   "execution_count": null,
   "metadata": {},
   "outputs": [],
   "source": [
    "read_metadata_tif(file_tif)"
   ]
  },
  {
   "cell_type": "markdown",
   "metadata": {},
   "source": [
    "### Create xarray "
   ]
  },
  {
   "cell_type": "code",
   "execution_count": null,
   "metadata": {},
   "outputs": [],
   "source": [
    "def create_xarray(arr: dask.array.core.Array, xscale: float, tscale: float) -> xarray.DataArray:\n",
    "    # Create coordinates\n",
    "    t_coords = np.arange(0.0, arr.shape[0] * tscale, tscale)\n",
    "    x_coords = np.arange(0.0, arr.shape[1] * xscale, xscale)\n",
    "    y_coords = np.arange(0.0, arr.shape[2] * xscale, xscale)\n",
    "    x_arr = xarray.DataArray(\n",
    "        data=arr,\n",
    "        dims=[\"T\", \"Y\", \"X\"],\n",
    "        coords=(t_coords, y_coords, x_coords),\n",
    "        attrs=dict(xyScale=xscale, tScale=tscale),\n",
    "    )\n",
    "    return x_arr"
   ]
  },
  {
   "cell_type": "code",
   "execution_count": null,
   "metadata": {},
   "outputs": [],
   "source": [
    "img_nd2 = dask_image.imread.imread(file_nd2, nframes=10)\n",
    "xscale, tscale = read_metadata_nd2(file_nd2)\n",
    "out = create_xarray(img_nd2, xscale, tscale)\n",
    "out\n"
   ]
  },
  {
   "cell_type": "markdown",
   "metadata": {},
   "source": [
    "### Create single function call"
   ]
  },
  {
   "cell_type": "code",
   "execution_count": null,
   "metadata": {},
   "outputs": [],
   "source": [
    "def import_data(filename, nframes=5):\n",
    "    d_arr = dask_image.imread.imread(filename, nframes)\n",
    "    xscale, tscale = read_metadata_nd2(file_nd2)\n",
    "    return create_xarray(d_arr, xscale, tscale)\n"
   ]
  },
  {
   "cell_type": "code",
   "execution_count": null,
   "metadata": {},
   "outputs": [],
   "source": [
    "x_arr = import_data(file_nd2)\n",
    "x_arr"
   ]
  },
  {
   "cell_type": "code",
   "execution_count": null,
   "metadata": {},
   "outputs": [],
   "source": [
    "x_arr = import_data(file_lif)\n",
    "x_arr"
   ]
  },
  {
   "cell_type": "code",
   "execution_count": null,
   "metadata": {},
   "outputs": [],
   "source": [
    "x_arr = import_data(file_tif)\n",
    "x_arr"
   ]
  },
  {
   "cell_type": "markdown",
   "metadata": {},
   "source": [
    "### Lif multiple experiments support"
   ]
  },
  {
   "cell_type": "code",
   "execution_count": null,
   "metadata": {},
   "outputs": [],
   "source": [
    "import pims\n",
    "import numpy as np\n",
    "filename = \"../tests/data/testData3series.lif\"\n",
    "experiment = 3\n",
    "with pims.open(filename, series=experiment) as imgs:\n",
    "    # imgs.series = experiment\n",
    "    arr = np.asarray(imgs)\n",
    "arr.shape"
   ]
  },
  {
   "cell_type": "markdown",
   "metadata": {},
   "source": [
    "### Use refactored functions"
   ]
  },
  {
   "cell_type": "code",
   "execution_count": null,
   "metadata": {},
   "outputs": [],
   "source": [
    "import warnings\n",
    "from ddm.data_handling.read_metadata import read_metadata\n",
    "warnings.filterwarnings(\"ignore\", message=\"Due to an issue with JPype 0.6.0\")\n",
    "\n",
    "filename = \"../tests/data/testData1series.lif\"\n",
    "\n",
    "metadata = read_metadata(filename)\n",
    "\n",
    "# xscale = None\n",
    "# metadata[\"xscale\"] = metadata[\"xscale\"] if xscale is None else xscale\n",
    "type(metadata[\"tscale\"])"
   ]
  },
  {
   "cell_type": "code",
   "execution_count": null,
   "metadata": {},
   "outputs": [],
   "source": [
    "from ddm.data_handling.read_file import select_experiment\n",
    "out = select_experiment(metadata, experiment=0)\n",
    "out"
   ]
  },
  {
   "cell_type": "code",
   "execution_count": null,
   "metadata": {},
   "outputs": [],
   "source": [
    "from ddm.data_handling.dask_image import read_data_into_dask\n",
    "filename = \"../tests/data/testData3series.lif\"\n",
    "out = read_data_into_dask(filename, nframes=2, experiment=5)\n",
    "out"
   ]
  },
  {
   "cell_type": "code",
   "execution_count": null,
   "metadata": {},
   "outputs": [],
   "source": [
    "\n"
   ]
  },
  {
   "cell_type": "code",
   "execution_count": null,
   "metadata": {},
   "outputs": [],
   "source": [
    "from ddm.data_handling.read_file import load_data\n",
    "filename = \"../tests/data/testData1series.lif\"\n",
    "out = load_data(filename, 5, experiment=1)\n",
    "out"
   ]
  },
  {
   "cell_type": "code",
   "execution_count": null,
   "metadata": {},
   "outputs": [],
   "source": [
    "from ddm.data_handling.dask_image import _read_frame\n",
    "filename = \"../tests/data/testData3series.lif\"\n",
    "arr = _read_frame(filename, i=slice(0,5), experiment=4)\n",
    "# arr.shape\n"
   ]
  },
  {
   "cell_type": "code",
   "execution_count": null,
   "metadata": {},
   "outputs": [],
   "source": [
    "from ddm.data_handling.read_file import read_file\n",
    "filename = \"../tests/data/testData1series.lif\"\n",
    "out = read_file(filename, nframes=5)\n",
    "out"
   ]
  },
  {
   "cell_type": "code",
   "execution_count": null,
   "metadata": {},
   "outputs": [],
   "source": [
    "from ddm.data_handling.read_file import read_file\n",
    "filename = \"../data/sim_diffusion.tif\"\n",
    "out = read_file(filename, nframes=5)\n",
    "out"
   ]
  },
  {
   "cell_type": "code",
   "execution_count": null,
   "metadata": {},
   "outputs": [],
   "source": [
    "from ddm.data_handling.read_file import read_file\n",
    "filename = \"../data/A1_s3001.nd2\"\n",
    "out = read_file(filename, nframes=5)\n",
    "out"
   ]
  },
  {
   "cell_type": "code",
   "execution_count": null,
   "metadata": {},
   "outputs": [],
   "source": [
    "import pims\n",
    "import numpy as np\n",
    "\n",
    "filename = \"../tests/data/testData1series.lif\"\n",
    "sfname = str(filename)\n",
    "with pims.Bioformats(sfname, series=0) as imgs:\n",
    "    shape = (len(imgs),) + imgs.frame_shape\n",
    "    dtype = np.dtype(imgs.pixel_type)\n",
    "\n",
    "shape"
   ]
  },
  {
   "cell_type": "code",
   "execution_count": null,
   "metadata": {},
   "outputs": [],
   "source": []
  }
 ],
 "metadata": {
  "kernelspec": {
   "display_name": "Python 3.8.13 ('ddm_env')",
   "language": "python",
   "name": "python3"
  },
  "language_info": {
   "codemirror_mode": {
    "name": "ipython",
    "version": 3
   },
   "file_extension": ".py",
   "mimetype": "text/x-python",
   "name": "python",
   "nbconvert_exporter": "python",
   "pygments_lexer": "ipython3",
   "version": "3.8.13"
  },
  "orig_nbformat": 4,
  "vscode": {
   "interpreter": {
    "hash": "5d3ba36e63629f58b0b91fca6dd69f41cc067643cf698e645db0540ff966b8cd"
   }
  }
 },
 "nbformat": 4,
 "nbformat_minor": 2
}
