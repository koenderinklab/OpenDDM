{
 "cells": [
  {
   "cell_type": "code",
   "execution_count": null,
   "metadata": {},
   "outputs": [],
   "source": [
    "import nd2\n",
    "import numpy as np\n",
    "import scipy\n",
    "from numba import jit"
   ]
  },
  {
   "cell_type": "code",
   "execution_count": null,
   "metadata": {},
   "outputs": [],
   "source": [
    "def xarr_diff(file: str = \"../data/A1_s3001.nd2\"):\n",
    "    with nd2.ND2File(file) as f:\n",
    "        xarr = f.to_xarray()\n",
    "        # print(xarr.shape)\n",
    "        im_diff = xarr.diff('T')\n",
    "        # for index in range(0,10):\n",
    "            # im_fft = np.fft.fft2(im_diff[index])\n",
    "            # im_fft = scipy.fft.fft2(im_diff[index])\n",
    "\n",
    "    return im_diff\n",
    "\n",
    "def load_data(file: str = \"../data/A1_s3001.nd2\"):\n",
    "    f = nd2.ND2File(file)\n",
    "    return f.to_dask()"
   ]
  },
  {
   "cell_type": "code",
   "execution_count": null,
   "metadata": {},
   "outputs": [],
   "source": [
    "%timeit xarr_diff()"
   ]
  },
  {
   "cell_type": "code",
   "execution_count": null,
   "metadata": {},
   "outputs": [],
   "source": [
    "im_diff = xarr_diff()"
   ]
  },
  {
   "cell_type": "code",
   "execution_count": null,
   "metadata": {},
   "outputs": [],
   "source": [
    "im_diff"
   ]
  },
  {
   "cell_type": "code",
   "execution_count": null,
   "metadata": {},
   "outputs": [],
   "source": [
    "def dask_arr(file: str = \"./data/A1_s3001.nd2\"):\n",
    "    with nd2.ND2File(file) as f:\n",
    "        arr = f.to_dask()\n",
    "        print(arr.shape)\n",
    "        # im_diff = arr.diff('T')\n",
    "        # # for index in range(0,10):\n",
    "        #     # im_fft = np.fft.fft2(im_diff[index])\n",
    "        #     # im_fft = scipy.fft.fft2(im_diff[index])\n",
    "\n",
    "    # return im_diff"
   ]
  },
  {
   "cell_type": "code",
   "execution_count": null,
   "metadata": {},
   "outputs": [],
   "source": [
    "def test_1():\n",
    "    arr = nd2.imread(\"../data/A1_s3001.nd2\", xarray=True, dask=True)\n",
    "    d = np.diff(arr, axis=0)\n",
    "    im_squared = np.zeros([512, 512])\n",
    "    for frame in d:  \n",
    "        im_fft = np.fft.fft2(frame)\n",
    "        im_squared += np.abs(im_fft)**2\n",
    "    return im_squared\n",
    "\n",
    "def test_2():\n",
    "    arr = nd2.imread(\"../data/A1_s3001.nd2\", dask=True)\n",
    "    d = np.diff(arr, axis=0)\n",
    "    im_squared = np.zeros([512, 512])\n",
    "    for frame in d:  \n",
    "        im_fft = np.fft.fft2(frame)\n",
    "        im_squared += np.abs(im_fft)**2\n",
    "    return im_squared\n",
    "\n",
    "def test_3():\n",
    "    arr = nd2.imread(\"../data/A1_s3001.nd2\", dask=True)\n",
    "    arr.rechunk('auto')\n",
    "    d = np.diff(arr, axis=0)\n",
    "    im_fft = np.abs(np.fft.fft2(d))**2\n",
    "    im_squared = im_fft.cumsum(axis=0)\n",
    "    return im_squared.compute()"
   ]
  },
  {
   "cell_type": "code",
   "execution_count": null,
   "metadata": {},
   "outputs": [],
   "source": [
    "@jit(nopython=True)\n",
    "def test_numba(arr):    \n",
    "    d = arr.diff()\n",
    "    im_squared = np.zeros([512, 512])\n",
    "    for frame in d:  \n",
    "        im_fft = np.fft.fft2(frame)\n",
    "        im_squared += np.abs(im_fft)**2\n",
    "    return im_squared"
   ]
  },
  {
   "cell_type": "code",
   "execution_count": null,
   "metadata": {},
   "outputs": [],
   "source": [
    "%%time\n",
    "arr = nd2.imread(\"./data/A1_s3001.nd2\")\n",
    "d = np.diff(arr, axis=0)\n",
    "for frame in d:  \n",
    "    im_fft = np.fft.fft2(frame)"
   ]
  },
  {
   "cell_type": "code",
   "execution_count": null,
   "metadata": {},
   "outputs": [],
   "source": [
    "@jit\n",
    "def simple_numba(arr):\n",
    "\n",
    "    num_frames = arr.shape[0]    \n",
    "    for i in range(num_frames-1):\n",
    "        d = arr[i+1] - arr[i]\n",
    "        im_fft = np.fft.fft2(d)"
   ]
  },
  {
   "cell_type": "code",
   "execution_count": null,
   "metadata": {},
   "outputs": [],
   "source": [
    "%%timeit\n",
    "arr = nd2.imread(\"./data/A1_s3001.nd2\")\n",
    "simple_numba(arr)"
   ]
  },
  {
   "cell_type": "code",
   "execution_count": null,
   "metadata": {},
   "outputs": [],
   "source": [
    "%%time\n",
    "out_1 = test_1()"
   ]
  },
  {
   "cell_type": "code",
   "execution_count": null,
   "metadata": {},
   "outputs": [],
   "source": [
    "%%time\n",
    "out_2= test_2()"
   ]
  },
  {
   "cell_type": "code",
   "execution_count": null,
   "metadata": {},
   "outputs": [],
   "source": [
    "%%time\n",
    "out_3 = test_3()"
   ]
  },
  {
   "cell_type": "code",
   "execution_count": null,
   "metadata": {},
   "outputs": [],
   "source": [
    "out_1"
   ]
  },
  {
   "cell_type": "code",
   "execution_count": null,
   "metadata": {},
   "outputs": [],
   "source": [
    "out_3"
   ]
  }
 ],
 "metadata": {
  "interpreter": {
   "hash": "683584f1dfa387d13346b6ef2515f86bf9d1a1f881018b0cc1bd7386ea26c61e"
  },
  "kernelspec": {
   "display_name": "Python 3 (ipykernel)",
   "language": "python",
   "name": "python3"
  },
  "language_info": {
   "codemirror_mode": {
    "name": "ipython",
    "version": 3
   },
   "file_extension": ".py",
   "mimetype": "text/x-python",
   "name": "python",
   "nbconvert_exporter": "python",
   "pygments_lexer": "ipython3",
   "version": "3.8.13"
  }
 },
 "nbformat": 4,
 "nbformat_minor": 2
}
