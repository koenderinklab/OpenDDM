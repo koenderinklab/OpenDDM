{
 "cells": [
  {
   "cell_type": "code",
   "execution_count": null,
   "metadata": {},
   "outputs": [],
   "source": [
    "import os\n",
    "import shutil\n",
    "import numpy as np\n",
    "import matplotlib.pyplot as plt\n",
    "import xarray as xr\n",
    "from IPython.display import clear_output, display\n",
    "\n",
    "# Import ddm functions\n",
    "from openddm.data_handling import read_file, export_data\n",
    "from openddm.processing import ddm\n",
    "from openddm.fitting import compute_AB, compute_ISF, singleExp, genFit\n",
    "from openddm.plotting import plotSingleExpFit, plotISF"
   ]
  },
  {
   "cell_type": "code",
   "execution_count": null,
   "metadata": {},
   "outputs": [],
   "source": [
    "# Optional to show a progressbar for dask computations\n",
    "from openddm.utils import dask_progressbar\n",
    "dask_progressbar()"
   ]
  },
  {
   "cell_type": "code",
   "execution_count": null,
   "metadata": {},
   "outputs": [],
   "source": [
    "data_file = \"../data/test_dataset_drift.tif\"\n",
    "output_path = \"../results/\""
   ]
  },
  {
   "cell_type": "code",
   "execution_count": null,
   "metadata": {},
   "outputs": [],
   "source": [
    "# DEBUG: Remove previous results \n",
    "if os.path.exists(output_path):\n",
    "    shutil.rmtree(output_path)"
   ]
  },
  {
   "cell_type": "code",
   "execution_count": null,
   "metadata": {},
   "outputs": [],
   "source": [
    "ddmData = read_file(data_file, delayed=True, chunk_size=10)"
   ]
  },
  {
   "cell_type": "code",
   "execution_count": null,
   "metadata": {},
   "outputs": [],
   "source": [
    "A, B = compute_AB(ddmData)"
   ]
  },
  {
   "cell_type": "code",
   "execution_count": null,
   "metadata": {},
   "outputs": [],
   "source": [
    "tau_range = np.arange(1,50)\n",
    "tau_step = 5\n",
    "tau_split = np.round(np.array_split(tau_range, len(tau_range)/tau_step).astype(int))\n",
    "\n",
    "# Create figure\n",
    "fig,ax = plt.subplots(1,1)\n",
    "\n",
    "for taus in tau_split:\n",
    "    ddmMatrix = ddm(ddmData, taus)\n",
    "    ddmMatrix = export_data(output_path, ddmMatrix, taus, data_file)\n",
    "    isf = compute_ISF(ddmMatrix.data, A, B)\n",
    "    q = len(isf)//2\n",
    "    \n",
    "    # Plot result\n",
    "    clear_output(wait=True)\n",
    "    taus = ddmMatrix[\"tau\"]\n",
    "    ax.cla()\n",
    "    \n",
    "    ax.plot(taus, isf[q], ls = 'None', marker = 'o')\n",
    "\n",
    "    # Fit data with singleExp\n",
    "    try:\n",
    "        pExpFit, pExpErrs = genFit(isf[q], taus, 'singleExp')\n",
    "        ax.plot(taus, singleExp(taus, *pExpFit))\n",
    "    except:\n",
    "        pass\n",
    "    \n",
    "    ax.set_xlim(0,tau_range[-1]+1)\n",
    "    ax.set_ylim(-0.2,1)\n",
    "    ax.set_xlabel('lag time')\n",
    "    ax.set_ylabel('ISF')\n",
    "    display(fig)\n",
    "clear_output()"
   ]
  },
  {
   "cell_type": "markdown",
   "metadata": {},
   "source": [
    "### Interactive visualization with ipywidgets"
   ]
  },
  {
   "cell_type": "code",
   "execution_count": null,
   "metadata": {},
   "outputs": [],
   "source": [
    "%matplotlib widget\n",
    "import ipywidgets as widgets"
   ]
  },
  {
   "cell_type": "code",
   "execution_count": null,
   "metadata": {},
   "outputs": [],
   "source": [
    "# Reset and reload data\n",
    "data_file = \"../data/test_dataset_drift.tif\"\n",
    "output_path = \"../results/\"\n",
    "ddmData = read_file(data_file, delayed=True, chunk_size=10)\n",
    "A, B = compute_AB(ddmData)\n",
    "ddmMatrix = xr.open_dataarray(\"../results/test_dataset_drift_matrix.nc\")\n",
    "isf = compute_ISF(ddmMatrix.data, A, B)\n",
    "taus = ddmMatrix[\"tau\"]"
   ]
  },
  {
   "cell_type": "code",
   "execution_count": null,
   "metadata": {},
   "outputs": [],
   "source": [
    "# Create figure\n",
    "fig, ax = plt.subplots(figsize=(6, 4))\n",
    "\n",
    "@widgets.interact(q=(0, len(isf)))\n",
    "def update(q=len(isf)//2):\n",
    "    ax.cla()\n",
    "    ax.plot(taus, isf[q], color=\"b\", ls = 'None', marker = 'o')\n",
    "    try:\n",
    "        pExpFit, pExpErrs = genFit(isf[q], taus, 'singleExp')\n",
    "        ax.plot(taus, singleExp(taus, *pExpFit), color=\"r\")\n",
    "    except:\n",
    "        pass\n",
    "    ax.set_xlabel('lag time')\n",
    "    ax.set_ylabel('ISF')\n",
    "    ax.set_xlim(0,taus[-1])\n",
    "    ax.set_ylim(-0.2,1)\n"
   ]
  },
  {
   "cell_type": "code",
   "execution_count": null,
   "metadata": {},
   "outputs": [],
   "source": []
  }
 ],
 "metadata": {
  "kernelspec": {
   "display_name": "Python 3.8.13 ('ddm_env')",
   "language": "python",
   "name": "python3"
  },
  "language_info": {
   "codemirror_mode": {
    "name": "ipython",
    "version": 3
   },
   "file_extension": ".py",
   "mimetype": "text/x-python",
   "name": "python",
   "nbconvert_exporter": "python",
   "pygments_lexer": "ipython3",
   "version": "3.8.13"
  },
  "orig_nbformat": 4,
  "vscode": {
   "interpreter": {
    "hash": "5d3ba36e63629f58b0b91fca6dd69f41cc067643cf698e645db0540ff966b8cd"
   }
  }
 },
 "nbformat": 4,
 "nbformat_minor": 2
}
