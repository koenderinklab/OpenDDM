{
 "cells": [
  {
   "cell_type": "code",
   "execution_count": 1,
   "id": "630619cf",
   "metadata": {},
   "outputs": [],
   "source": [
    "from ddm.data_handling import read_file\n",
    "from ddm.processing import ddm_numpy #need to make sure we use the proper ddm function with dask functionality\n",
    "from ddm.fitting import findMeanSqFFT_np, computeAB\n",
    "from ddm.plotting import plotSingleExpFit, plotISF\n",
    "import numpy as np\n",
    "import matplotlib.pyplot as plt\n",
    "from tqdm import tqdm"
   ]
  },
  {
   "cell_type": "markdown",
   "id": "daa8589f",
   "metadata": {},
   "source": [
    "Begin by loading in data<br/>\n",
    "Run the ddm function on the loaded dataset<br/>\n",
    "From the resultant g(q, tau), determine A and B using findMeanSqFFT and computeAB - at this point move away from dask arrays.<br/>\n",
    "Determine the ISF for various q values<br/>\n",
    "Run fitting procedures on these with a few models and show the output<br/>\n",
    "\n",
    "Compare to traditional particle tracking algorithms"
   ]
  },
  {
   "cell_type": "markdown",
   "id": "e081eae2",
   "metadata": {},
   "source": [
    "**Loading in Data**<br/>\n",
    "At this point a user input may be required if the programme detects a multi-experiment file"
   ]
  },
  {
   "cell_type": "code",
   "execution_count": 2,
   "id": "da48c3e2",
   "metadata": {},
   "outputs": [
    {
     "name": "stderr",
     "output_type": "stream",
     "text": [
      "c:\\Users\\Maurits\\miniconda3\\envs\\ddm_env\\lib\\site-packages\\pims\\bioformats.py:410: UserWarning: Due to an issue with JPype 0.6.0, reading is slower. Please consider upgrading JPype to 0.6.1 or later.\n",
      "  warn('Due to an issue with JPype 0.6.0, reading is slower. '\n"
     ]
    }
   ],
   "source": [
    "data_file = '../data/test_dataset_drift.tif'\n",
    "output_file = \"../data/test_dataset_drift_matrix.txt\"\n",
    "ddmData = read_file(data_file)"
   ]
  },
  {
   "cell_type": "markdown",
   "id": "de8509f5",
   "metadata": {},
   "source": [
    "**Running the DDM Function**<br/>\n",
    "This part will determine the full DDM matrix as the square of the difference between Fourier transformed frames"
   ]
  },
  {
   "cell_type": "code",
   "execution_count": 4,
   "id": "425f30d3",
   "metadata": {},
   "outputs": [],
   "source": [
    "# ddmData = ddmData.data[0:500,:,:]\n",
    "# ddmData = np.asarray(ddmData)"
   ]
  },
  {
   "cell_type": "code",
   "execution_count": 5,
   "id": "ab5aae48",
   "metadata": {},
   "outputs": [
    {
     "name": "stdout",
     "output_type": "stream",
     "text": [
      "[########################################] | 100% Completed | 12m 21s\n"
     ]
    }
   ],
   "source": [
    "ddmMatrix = ddm_numpy(ddmData)"
   ]
  },
  {
   "cell_type": "code",
   "execution_count": null,
   "id": "129d4bd1",
   "metadata": {},
   "outputs": [],
   "source": [
    "# Save data\n",
    "np.savetxt(output_file, ddmMatrix)"
   ]
  },
  {
   "cell_type": "code",
   "execution_count": 3,
   "id": "7f5c0be6",
   "metadata": {},
   "outputs": [],
   "source": [
    "# Load data\n",
    "# ddmMatrix = np.loadtxt(output_file)"
   ]
  },
  {
   "cell_type": "code",
   "execution_count": 4,
   "id": "2a6bcaa7",
   "metadata": {},
   "outputs": [
    {
     "data": {
      "text/plain": [
       "(0.0, 100.0)"
      ]
     },
     "execution_count": 4,
     "metadata": {},
     "output_type": "execute_result"
    },
    {
     "data": {
      "image/png": "[encoded data removed]",
      "text/plain": [
       "<Figure size 432x288 with 1 Axes>"
      ]
     },
     "metadata": {
      "needs_background": "light"
     },
     "output_type": "display_data"
    }
   ],
   "source": [
    "plt.plot(ddmMatrix[10,:])\n",
    "plt.plot(ddmMatrix[25,:])\n",
    "plt.plot(ddmMatrix[100,:])\n",
    "plt.xlim(0, 100)"
   ]
  },
  {
   "cell_type": "markdown",
   "id": "fed51aa8",
   "metadata": {},
   "source": [
    "**Determining A and B**"
   ]
  },
  {
   "cell_type": "code",
   "execution_count": 5,
   "id": "0bef1d35",
   "metadata": {},
   "outputs": [],
   "source": [
    "meanSqFFT = findMeanSqFFT_np(ddmData)\n",
    "A, B = computeAB(meanSqFFT)"
   ]
  },
  {
   "cell_type": "code",
   "execution_count": 6,
   "id": "a05e841a",
   "metadata": {},
   "outputs": [
    {
     "data": {
      "image/png": "[encoded data removed]",
      "text/plain": [
       "<Figure size 432x288 with 1 Axes>"
      ]
     },
     "metadata": {
      "needs_background": "light"
     },
     "output_type": "display_data"
    }
   ],
   "source": [
    "plt.plot(A[10:])\n",
    "plt.axhline(B)\n",
    "plt.show()"
   ]
  },
  {
   "cell_type": "markdown",
   "id": "af2c9e9f",
   "metadata": {},
   "source": [
    "**Calculating the ISF**"
   ]
  },
  {
   "cell_type": "code",
   "execution_count": 7,
   "id": "703b9686",
   "metadata": {},
   "outputs": [],
   "source": [
    "isf = 1. - (ddmMatrix - B)/A\n",
    "\n",
    "isf = np.transpose(isf)"
   ]
  },
  {
   "cell_type": "markdown",
   "id": "f3f25e27",
   "metadata": {},
   "source": [
    "To access a specific q value (in units of 1/pixels) one can use regular indexing of the 0th axis of the ISF"
   ]
  },
  {
   "cell_type": "code",
   "execution_count": 8,
   "id": "c83180d6",
   "metadata": {},
   "outputs": [
    {
     "data": {
      "text/plain": [
       "array([-6.13247757e-01, -6.98628023e-01,  2.29125467e-01,  4.03676467e-01,\n",
       "        9.42796076e-02, -9.78129624e-02, -1.02844807e-01, -3.30160291e-01,\n",
       "       -1.46512170e-01, -1.26220143e-01, -2.53783248e-02,  4.22417957e-01,\n",
       "       -1.02655284e-01, -1.75174023e-01, -4.46301381e-01,  6.11242434e-01,\n",
       "       -7.52899217e-01,  6.28102904e-01,  1.09612046e-01, -1.51193397e-01,\n",
       "        1.63855132e-02,  5.29374591e-02,  3.12690183e-02, -1.58475831e-01,\n",
       "        2.62573104e-02,  5.56408592e-01,  1.46165177e-01,  3.34994712e-02,\n",
       "       -4.25847074e-01,  6.28262815e-01, -3.67197926e-03,  1.01787101e-01,\n",
       "       -4.73521671e-01, -4.62545900e-01,  6.76838797e-03, -2.00041534e-02,\n",
       "       -7.82912608e-01, -5.61557314e-02, -5.03077517e-02,  7.13449140e-02,\n",
       "        1.14125631e+00, -4.12387363e-01, -9.06766113e-01, -4.33653067e-01,\n",
       "       -1.95147414e-01, -1.97136225e-01, -3.36617114e-01, -2.46614847e-01,\n",
       "        2.19530848e-01,  6.89448057e-01,  7.04350515e-01, -2.98463696e-01,\n",
       "        2.96242790e-01,  5.42695394e-01,  4.37574222e-02, -1.13125415e+00,\n",
       "       -5.84454422e-01,  3.62073724e-01,  7.86436629e-01, -2.95556882e-01,\n",
       "        6.65698413e-01, -2.59052317e-01,  3.73860892e-01, -1.90379717e-01,\n",
       "        4.37283694e-01, -2.26378492e-01, -5.46305742e-01, -3.44102102e-01,\n",
       "        7.30565467e-02, -6.57698088e-01, -9.81214437e-01, -2.57306333e-01,\n",
       "        1.32903601e-02,  1.55280388e+00,  3.97487345e-01,  3.10650118e-01,\n",
       "       -1.51636408e-01,  4.07038137e-01, -6.68008158e-01,  2.30620332e-01,\n",
       "       -1.07480225e+00,  7.68602482e-01, -1.40485328e-01,  6.37993654e-01,\n",
       "       -6.68859828e-01, -5.17300379e-01,  8.91129324e-01,  1.38257315e-01,\n",
       "        1.35984220e-01, -4.34465648e-01, -6.60943675e-01, -2.79798016e-01,\n",
       "        6.55111485e-02,  8.26535350e-02,  1.07290946e+00,  7.66382690e-01,\n",
       "        9.79937594e-01, -2.51557853e-01, -3.40608950e-01,  4.47630804e-02,\n",
       "        4.67579001e-01,  7.03218113e-01, -1.98659518e-01, -3.92623632e-01,\n",
       "        9.79314856e-02, -5.60289876e-02,  6.54793714e-01, -2.26328742e-01,\n",
       "        2.52483035e-01,  2.39546017e-02,  1.73945745e-01,  2.08050471e-01,\n",
       "       -1.04429017e+00, -5.65616987e-01, -2.20536435e-01, -6.00019027e-01,\n",
       "       -5.24773521e-01, -9.01041004e-02, -3.76923991e-01,  3.65359585e-01,\n",
       "        7.45015117e-01,  6.98359208e-01, -7.34951357e-01,  1.62134887e-01,\n",
       "        2.96854003e-01, -1.95725460e-01,  2.26834604e-01, -1.04859946e+00,\n",
       "       -5.14712201e-01, -3.86177149e-02,  6.71354500e-01, -5.44199664e-01,\n",
       "        1.30697703e-01,  6.74591796e-01, -6.53382878e-01, -4.41457875e-01,\n",
       "       -6.10718804e-01, -4.61136320e-01, -6.98594537e-02, -2.09624628e-01,\n",
       "       -9.11705565e-01, -2.50285677e-01, -1.77264702e-01,  5.10260842e-01,\n",
       "        8.45378389e-01,  1.37930387e-01,  6.83199709e-01, -2.70146539e-01,\n",
       "        5.11417255e-02,  3.92932863e-01,  1.90829906e-01,  2.80032942e-02,\n",
       "       -1.32030218e-01, -1.62581381e-01,  5.85746806e-01, -7.53368288e-01,\n",
       "        1.22762597e-01,  2.20229715e-01,  4.33819290e-02, -1.89702171e-01,\n",
       "       -1.94105036e-01,  3.12358517e-02,  6.83539667e-01,  6.46265163e-01,\n",
       "       -9.96383091e-02,  6.49160132e-01,  1.06852791e+00, -3.33596586e-01,\n",
       "       -1.59449508e-01, -8.25183421e-01, -6.43310897e-01,  3.96378634e-01,\n",
       "       -4.78833063e-01,  2.72316653e-01, -6.92267146e-01,  1.57731159e-02,\n",
       "       -8.61815914e-01,  6.13111572e-03,  1.91339250e-01,  5.30318335e-01,\n",
       "        5.84279184e-01,  3.01471266e-01, -1.31781737e+00, -6.54339971e-01,\n",
       "       -1.35444394e+00, -1.03100344e-02, -3.18893128e-01, -7.43997223e-02,\n",
       "       -6.16120220e-01,  1.39992638e-01,  3.67006069e-01,  7.11932597e-04,\n",
       "        7.97609030e-01, -5.52661562e-02,  5.32612752e-01, -6.36034385e-01,\n",
       "       -3.27341131e-01, -6.51107414e-01, -6.00433609e-01, -2.27979964e-01,\n",
       "        9.31780032e-02,  5.11227731e-02, -1.73789318e-01,  2.19509526e-01,\n",
       "       -2.75296836e-01, -1.82428029e-01,  7.79663858e-02, -1.24547394e+00,\n",
       "        8.25568461e-01, -1.83622026e-01, -5.45642411e-01, -4.30608528e-02,\n",
       "        4.40981768e-01, -3.70644846e-01,  4.08092361e-01, -3.30724123e-01,\n",
       "       -6.62991712e-01, -4.33988286e-01, -2.39744626e-01, -6.85287949e-01,\n",
       "       -1.03687270e+00, -5.19488189e-01, -9.75744319e-01,  8.51407600e-01,\n",
       "        2.09072713e-01, -5.04770517e-01, -7.55396187e-01, -1.57084019e-01,\n",
       "        5.21606184e-01,  3.50934489e-01, -5.82209755e-01, -5.11527024e-01,\n",
       "       -4.30972496e-01, -5.21782606e-01,  5.01733476e-01,  3.31603108e-01,\n",
       "        2.02945186e-01,  3.62869722e-01, -7.95808487e-01, -4.41821523e-01,\n",
       "       -4.95406879e-01, -1.88585168e-01, -5.90576026e-01,  1.62327964e-01,\n",
       "       -2.05398258e-01,  2.80046836e-01, -2.70544538e-01,  8.55129685e-02,\n",
       "       -7.66479430e-02, -1.96536857e-01, -5.75819265e-01,  1.25766542e-01,\n",
       "        1.90595371e-01, -2.54004750e+00, -6.36434753e-01, -5.87129071e-01,\n",
       "        1.29302424e+00,  2.19214581e-01, -1.90695984e-01, -1.10038403e-01,\n",
       "       -1.63891461e-01,  2.58779948e-01,  8.76854663e-01, -9.27823022e-02,\n",
       "       -2.34121705e-01,  9.79895271e-02, -8.95194529e-01, -2.41409620e+00,\n",
       "       -4.62268722e-01, -6.51696120e-01, -6.66589102e-01,  3.94248865e-01,\n",
       "       -7.98058757e-02, -1.40834762e-01,  2.66340745e-01, -8.01581842e-01,\n",
       "       -8.53904499e-01, -1.05722988e+00, -4.33874572e-01,  6.97936334e-01,\n",
       "       -8.89432699e-02, -1.56228795e-01, -7.13093392e-01,  1.12792808e+00,\n",
       "       -2.50699075e-01,  1.31614522e-01, -1.13819188e+00, -1.40379938e+00,\n",
       "       -1.02065661e+00,  2.92975882e-01, -2.57467108e-02, -1.02161339e-01,\n",
       "        3.91365741e-01, -7.67095380e-02,  1.37118129e+00, -5.32577145e-01,\n",
       "       -8.28188550e-01, -3.05493828e-01, -8.48349096e-01, -2.64869499e-01,\n",
       "       -4.16118639e-03, -7.90724523e-01,  1.22450799e+00,  2.64364964e-01,\n",
       "        1.10461348e-01, -6.52129655e-01, -7.02108146e-01, -3.54814909e-01,\n",
       "        4.37254401e-02,  3.41737834e-03, -1.43626828e+00, -3.07794167e-01,\n",
       "       -9.39807139e-01, -1.13466320e+00,  1.20145991e-01, -3.32080399e-01,\n",
       "       -2.32798595e-01,  2.02387277e-01,  1.25363805e-01,  4.91076342e-01,\n",
       "       -9.77516362e-01, -3.38446015e-01,  5.08078955e-01, -8.91555680e-01,\n",
       "       -1.29670329e+00, -1.58183997e+00,  1.32457901e-01,  5.85462521e-01,\n",
       "        7.68889136e-01, -3.83800135e-01, -9.73852639e-01,  5.13706614e-01,\n",
       "       -8.58848369e-02, -4.86044106e-02, -7.62463904e-02,  5.33711987e-01,\n",
       "        6.11821664e-01,  3.02206853e-01,  4.31773303e-01, -7.59911581e-01,\n",
       "       -4.66440285e-02,  5.50303571e-01,  4.26707107e-01, -3.68798178e-01,\n",
       "       -5.18078609e-01, -3.72258164e-01, -4.09157174e-01, -2.58052581e-01,\n",
       "       -2.90901715e-01,  2.09824884e-01, -1.25526013e-01,  2.56640703e-01,\n",
       "       -8.91919328e-01, -6.50241529e-01, -6.81874159e-01,  4.70067679e-01,\n",
       "        9.53219860e-02, -9.86907244e-01, -3.65948221e-01, -2.78376591e-01,\n",
       "        1.10127281e+00,  1.01213793e-01,  1.13871551e+00, -2.51094385e-02,\n",
       "        1.15497069e+00,  3.21153265e-01,  5.50435053e-01, -1.99412874e-01,\n",
       "       -1.70311564e-01, -8.17401983e-02,  5.70979384e-01,  3.92794274e-01,\n",
       "        2.64740457e-01,  7.42118964e-01, -2.29785174e-01,  9.78959500e-02,\n",
       "       -9.79224441e-01, -9.94819524e-02, -1.79563857e-01,  7.71902557e-01,\n",
       "        2.74744921e-01, -2.23304660e-01,  5.29808991e-01,  2.96677510e-01,\n",
       "        9.52627600e-02, -2.26263594e-01, -4.72448495e-01,  1.13353948e-01,\n",
       "        4.89503618e-02, -3.29746893e-01, -4.59396259e-01, -5.91989160e-01,\n",
       "        1.92331014e-02, -1.08914292e-01, -5.19463314e-01, -1.63768271e-01,\n",
       "       -9.96696125e-01,  7.46973130e-01,  4.72929482e-01,  5.80630860e-01,\n",
       "        1.35576949e+00, -1.51136540e-01, -4.62859798e-01, -1.82443427e-01,\n",
       "       -3.61070364e-01, -1.49749261e+00,  5.25419156e-01,  1.46582128e-01,\n",
       "        4.41692481e-01, -5.38176375e-01, -1.10283275e+00,  1.21143357e-01,\n",
       "        6.55810352e-02,  1.40718718e+00,  7.49932383e-02, -1.04943100e+00,\n",
       "       -1.43113460e-02,  5.72183177e-02, -2.71368965e-01,  3.66390118e-01,\n",
       "       -8.14354566e-03,  2.80200824e-01,  4.37251712e-01, -4.12283125e-01,\n",
       "       -1.09094020e-02,  5.50115233e-01,  4.96180442e-01,  2.44603602e-01,\n",
       "       -2.41093795e-01, -1.42735918e-01,  1.62523410e-01,  1.13905666e+00,\n",
       "        2.29844471e-01, -8.40806067e-01,  4.60371191e-01,  5.69848166e-01,\n",
       "       -1.10412269e+00, -6.50555427e-01, -1.14415239e+00,  1.95823846e-01,\n",
       "       -1.08840766e+00, -1.98087075e-02, -3.99117175e-01, -7.92667137e-01,\n",
       "        2.59787975e-01,  3.21794091e-01,  3.65147556e-01,  1.73591574e-01,\n",
       "        3.84662538e-01, -1.05122318e+00,  1.10974687e+00,  9.90245295e-01,\n",
       "       -4.05647439e-01, -5.47352859e-01,  6.28459765e-02,  7.80746190e-01,\n",
       "        9.91027079e-01, -2.77317629e-01,  4.70768916e-01, -4.12045036e-01,\n",
       "       -6.04216969e-01, -1.13721347e+00, -2.97113022e-02, -2.10346002e-01,\n",
       "       -3.19924846e-01,  2.90834268e-01, -7.61458565e-01,  8.79672638e-01,\n",
       "        9.71747817e-01, -1.07107101e+00,  1.04595450e+00, -2.51785281e-01,\n",
       "        4.01079133e-02, -4.13883413e-01,  7.41589483e-01,  3.48764447e-01,\n",
       "       -4.86508758e-01, -3.07663870e-01, -6.48552402e-01,  1.07159345e+00,\n",
       "       -8.11832686e-01,  8.33097596e-02,  8.00250831e-02, -1.37014682e-01,\n",
       "       -8.02856386e-01, -1.19827315e+00, -1.27638638e+00, -5.89461392e-01,\n",
       "       -2.31598676e-01,  3.51129935e-01, -4.34270202e-01,  1.16443620e+00,\n",
       "        8.35016520e-02, -1.43150177e+00, -2.77079540e-01, -7.85833636e-01,\n",
       "       -4.78255017e-01,  2.71958927e-01, -9.70352380e-01])"
      ]
     },
     "execution_count": 8,
     "metadata": {},
     "output_type": "execute_result"
    }
   ],
   "source": [
    "#zero q\n",
    "isf[0]\n",
    "\n",
    "#medium q\n",
    "isf[len(isf)//2]\n",
    "\n",
    "#last q\n",
    "isf[len(isf)-1]"
   ]
  },
  {
   "cell_type": "markdown",
   "id": "a54d8c30",
   "metadata": {},
   "source": [
    "**Fitting/Plotting**<br/>\n",
    "An example to fit and plot to a single exponential. Supported fitting functions are double exponential and the Schultz model"
   ]
  },
  {
   "cell_type": "code",
   "execution_count": 9,
   "id": "d5e82a1c",
   "metadata": {},
   "outputs": [
    {
     "data": {
      "image/png": "[encoded data removed]",
      "text/plain": [
       "<Figure size 432x288 with 1 Axes>"
      ]
     },
     "metadata": {
      "needs_background": "light"
     },
     "output_type": "display_data"
    }
   ],
   "source": [
    "# taus = intTaus*ddmData.tScale #taus in milliseconds\n",
    "taus = np.arange(1, len(ddmData) // 2) * 10 # in milliseconds\n",
    "plotISF(isf, taus, q = len(isf)//2)\n",
    "plotSingleExpFit(isf, taus)\n",
    "plt.show()"
   ]
  },
  {
   "cell_type": "markdown",
   "id": "0db2f3a4",
   "metadata": {},
   "source": [
    "### Store results"
   ]
  },
  {
   "cell_type": "code",
   "execution_count": 12,
   "id": "c6fc2881",
   "metadata": {},
   "outputs": [],
   "source": [
    "np.savetxt(output_file, ddmMatrix)"
   ]
  }
 ],
 "metadata": {
  "kernelspec": {
   "display_name": "Python 3.8.13 ('ddm_env')",
   "language": "python",
   "name": "python3"
  },
  "language_info": {
   "codemirror_mode": {
    "name": "ipython",
    "version": 3
   },
   "file_extension": ".py",
   "mimetype": "text/x-python",
   "name": "python",
   "nbconvert_exporter": "python",
   "pygments_lexer": "ipython3",
   "version": "3.8.13"
  },
  "vscode": {
   "interpreter": {
    "hash": "5d3ba36e63629f58b0b91fca6dd69f41cc067643cf698e645db0540ff966b8cd"
   }
  }
 },
 "nbformat": 4,
 "nbformat_minor": 5
}
