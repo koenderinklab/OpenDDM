{
 "cells": [
  {
   "cell_type": "code",
   "execution_count": 1,
   "id": "630619cf",
   "metadata": {},
   "outputs": [],
   "source": [
    "from ddm.data_handling import read_file\n",
    "from ddm.processing import ddm_numpy #need to make sure we use the proper ddm function with dask functionality\n",
    "from ddm.fitting import findMeanSqFFT_np, computeAB\n",
    "from ddm.plotting import plotSingleExpFit, plotISF\n",
    "import numpy as np\n",
    "import matplotlib.pyplot as pl\n",
    "from tqdm import tqdm"
   ]
  },
  {
   "cell_type": "markdown",
   "id": "daa8589f",
   "metadata": {},
   "source": [
    "Begin by loading in data<br/>\n",
    "Run the ddm function on the loaded dataset<br/>\n",
    "From the resultant g(q, tau), determine A and B using findMeanSqFFT and computeAB - at this point move away from dask arrays.<br/>\n",
    "Determine the ISF for various q values<br/>\n",
    "Run fitting procedures on these with a few models and show the output<br/>\n",
    "\n",
    "Compare to traditional particle tracking algorithms"
   ]
  },
  {
   "cell_type": "markdown",
   "id": "e081eae2",
   "metadata": {},
   "source": [
    "**Loading in Data**<br/>\n",
    "At this point a user input may be required if the programme detects a multi-experiment file"
   ]
  },
  {
   "cell_type": "code",
   "execution_count": 2,
   "id": "da48c3e2",
   "metadata": {},
   "outputs": [
    {
     "name": "stderr",
     "output_type": "stream",
     "text": [
      "c:\\Users\\iainm\\anaconda3\\envs\\ddm_env\\lib\\site-packages\\pims\\bioformats.py:410: UserWarning: Due to an issue with JPype 0.6.0, reading is slower. Please consider upgrading JPype to 0.6.1 or later.\n",
      "  warn('Due to an issue with JPype 0.6.0, reading is slower. '\n"
     ]
    }
   ],
   "source": [
    "filename = '../data/test_dataset.tif'\n",
    "\n",
    "ddmData = read_file(filename)"
   ]
  },
  {
   "cell_type": "code",
   "execution_count": 3,
   "id": "089ad0eb",
   "metadata": {},
   "outputs": [
    {
     "data": {
      "text/html": [
       "<table>\n",
       "    <tr>\n",
       "        <td>\n",
       "            <table>\n",
       "                <thead>\n",
       "                    <tr>\n",
       "                        <td> </td>\n",
       "                        <th> Array </th>\n",
       "                        <th> Chunk </th>\n",
       "                    </tr>\n",
       "                </thead>\n",
       "                <tbody>\n",
       "                    \n",
       "                    <tr>\n",
       "                        <th> Bytes </th>\n",
       "                        <td> 1.46 GiB </td>\n",
       "                        <td> 512.00 kiB </td>\n",
       "                    </tr>\n",
       "                    \n",
       "                    <tr>\n",
       "                        <th> Shape </th>\n",
       "                        <td> (3000, 512, 512) </td>\n",
       "                        <td> (1, 512, 512) </td>\n",
       "                    </tr>\n",
       "                    <tr>\n",
       "                        <th> Count </th>\n",
       "                        <td> 3 Graph Layers </td>\n",
       "                        <td> 3000 Chunks </td>\n",
       "                    </tr>\n",
       "                    <tr>\n",
       "                    <th> Type </th>\n",
       "                    <td> float16 </td>\n",
       "                    <td> numpy.ndarray </td>\n",
       "                    </tr>\n",
       "                </tbody>\n",
       "            </table>\n",
       "        </td>\n",
       "        <td>\n",
       "        <svg width=\"171\" height=\"161\" style=\"stroke:rgb(0,0,0);stroke-width:1\" >\n",
       "\n",
       "  <!-- Horizontal lines -->\n",
       "  <line x1=\"10\" y1=\"0\" x2=\"80\" y2=\"70\" style=\"stroke-width:2\" />\n",
       "  <line x1=\"10\" y1=\"41\" x2=\"80\" y2=\"111\" style=\"stroke-width:2\" />\n",
       "\n",
       "  <!-- Vertical lines -->\n",
       "  <line x1=\"10\" y1=\"0\" x2=\"10\" y2=\"41\" style=\"stroke-width:2\" />\n",
       "  <line x1=\"13\" y1=\"3\" x2=\"13\" y2=\"45\" />\n",
       "  <line x1=\"17\" y1=\"7\" x2=\"17\" y2=\"48\" />\n",
       "  <line x1=\"21\" y1=\"11\" x2=\"21\" y2=\"52\" />\n",
       "  <line x1=\"24\" y1=\"14\" x2=\"24\" y2=\"56\" />\n",
       "  <line x1=\"28\" y1=\"18\" x2=\"28\" y2=\"59\" />\n",
       "  <line x1=\"32\" y1=\"22\" x2=\"32\" y2=\"63\" />\n",
       "  <line x1=\"36\" y1=\"26\" x2=\"36\" y2=\"67\" />\n",
       "  <line x1=\"39\" y1=\"29\" x2=\"39\" y2=\"71\" />\n",
       "  <line x1=\"43\" y1=\"33\" x2=\"43\" y2=\"74\" />\n",
       "  <line x1=\"47\" y1=\"37\" x2=\"47\" y2=\"78\" />\n",
       "  <line x1=\"50\" y1=\"40\" x2=\"50\" y2=\"82\" />\n",
       "  <line x1=\"54\" y1=\"44\" x2=\"54\" y2=\"85\" />\n",
       "  <line x1=\"58\" y1=\"48\" x2=\"58\" y2=\"89\" />\n",
       "  <line x1=\"62\" y1=\"52\" x2=\"62\" y2=\"93\" />\n",
       "  <line x1=\"65\" y1=\"55\" x2=\"65\" y2=\"97\" />\n",
       "  <line x1=\"69\" y1=\"59\" x2=\"69\" y2=\"100\" />\n",
       "  <line x1=\"73\" y1=\"63\" x2=\"73\" y2=\"104\" />\n",
       "  <line x1=\"76\" y1=\"66\" x2=\"76\" y2=\"108\" />\n",
       "  <line x1=\"80\" y1=\"70\" x2=\"80\" y2=\"111\" style=\"stroke-width:2\" />\n",
       "\n",
       "  <!-- Colored Rectangle -->\n",
       "  <polygon points=\"10.0,0.0 80.58823529411765,70.58823529411765 80.58823529411765,111.90089483180026 10.0,41.31265953768261\" style=\"fill:#8B4903A0;stroke-width:0\"/>\n",
       "\n",
       "  <!-- Horizontal lines -->\n",
       "  <line x1=\"10\" y1=\"0\" x2=\"51\" y2=\"0\" style=\"stroke-width:2\" />\n",
       "  <line x1=\"13\" y1=\"3\" x2=\"55\" y2=\"3\" />\n",
       "  <line x1=\"17\" y1=\"7\" x2=\"58\" y2=\"7\" />\n",
       "  <line x1=\"21\" y1=\"11\" x2=\"62\" y2=\"11\" />\n",
       "  <line x1=\"24\" y1=\"14\" x2=\"66\" y2=\"14\" />\n",
       "  <line x1=\"28\" y1=\"18\" x2=\"69\" y2=\"18\" />\n",
       "  <line x1=\"32\" y1=\"22\" x2=\"73\" y2=\"22\" />\n",
       "  <line x1=\"36\" y1=\"26\" x2=\"77\" y2=\"26\" />\n",
       "  <line x1=\"39\" y1=\"29\" x2=\"81\" y2=\"29\" />\n",
       "  <line x1=\"43\" y1=\"33\" x2=\"84\" y2=\"33\" />\n",
       "  <line x1=\"47\" y1=\"37\" x2=\"88\" y2=\"37\" />\n",
       "  <line x1=\"50\" y1=\"40\" x2=\"92\" y2=\"40\" />\n",
       "  <line x1=\"54\" y1=\"44\" x2=\"95\" y2=\"44\" />\n",
       "  <line x1=\"58\" y1=\"48\" x2=\"99\" y2=\"48\" />\n",
       "  <line x1=\"62\" y1=\"52\" x2=\"103\" y2=\"52\" />\n",
       "  <line x1=\"65\" y1=\"55\" x2=\"107\" y2=\"55\" />\n",
       "  <line x1=\"69\" y1=\"59\" x2=\"110\" y2=\"59\" />\n",
       "  <line x1=\"73\" y1=\"63\" x2=\"114\" y2=\"63\" />\n",
       "  <line x1=\"76\" y1=\"66\" x2=\"118\" y2=\"66\" />\n",
       "  <line x1=\"80\" y1=\"70\" x2=\"121\" y2=\"70\" style=\"stroke-width:2\" />\n",
       "\n",
       "  <!-- Vertical lines -->\n",
       "  <line x1=\"10\" y1=\"0\" x2=\"80\" y2=\"70\" style=\"stroke-width:2\" />\n",
       "  <line x1=\"51\" y1=\"0\" x2=\"121\" y2=\"70\" style=\"stroke-width:2\" />\n",
       "\n",
       "  <!-- Colored Rectangle -->\n",
       "  <polygon points=\"10.0,0.0 51.31265953768261,0.0 121.90089483180026,70.58823529411765 80.58823529411765,70.58823529411765\" style=\"fill:#8B4903A0;stroke-width:0\"/>\n",
       "\n",
       "  <!-- Horizontal lines -->\n",
       "  <line x1=\"80\" y1=\"70\" x2=\"121\" y2=\"70\" style=\"stroke-width:2\" />\n",
       "  <line x1=\"80\" y1=\"111\" x2=\"121\" y2=\"111\" style=\"stroke-width:2\" />\n",
       "\n",
       "  <!-- Vertical lines -->\n",
       "  <line x1=\"80\" y1=\"70\" x2=\"80\" y2=\"111\" style=\"stroke-width:2\" />\n",
       "  <line x1=\"121\" y1=\"70\" x2=\"121\" y2=\"111\" style=\"stroke-width:2\" />\n",
       "\n",
       "  <!-- Colored Rectangle -->\n",
       "  <polygon points=\"80.58823529411765,70.58823529411765 121.90089483180026,70.58823529411765 121.90089483180026,111.90089483180026 80.58823529411765,111.90089483180026\" style=\"fill:#ECB172A0;stroke-width:0\"/>\n",
       "\n",
       "  <!-- Text -->\n",
       "  <text x=\"101.244565\" y=\"131.900895\" font-size=\"1.0rem\" font-weight=\"100\" text-anchor=\"middle\" >512</text>\n",
       "  <text x=\"141.900895\" y=\"91.244565\" font-size=\"1.0rem\" font-weight=\"100\" text-anchor=\"middle\" transform=\"rotate(-90,141.900895,91.244565)\">512</text>\n",
       "  <text x=\"35.294118\" y=\"96.606777\" font-size=\"1.0rem\" font-weight=\"100\" text-anchor=\"middle\" transform=\"rotate(45,35.294118,96.606777)\">3000</text>\n",
       "</svg>\n",
       "        </td>\n",
       "    </tr>\n",
       "</table>"
      ],
      "text/plain": [
       "dask.array<_map_read_frame, shape=(3000, 512, 512), dtype=float16, chunksize=(1, 512, 512), chunktype=numpy.ndarray>"
      ]
     },
     "execution_count": 3,
     "metadata": {},
     "output_type": "execute_result"
    }
   ],
   "source": [
    "ddmData.data"
   ]
  },
  {
   "cell_type": "markdown",
   "id": "de8509f5",
   "metadata": {},
   "source": [
    "**Running the DDM Function**<br/>\n",
    "This part will determine the full DDM matrix as the square of the difference between Fourier transformed frames"
   ]
  },
  {
   "cell_type": "code",
   "execution_count": 4,
   "id": "425f30d3",
   "metadata": {},
   "outputs": [],
   "source": [
    "ddmData = ddmData.data\n",
    "ddmData = np.asarray(ddmData)"
   ]
  },
  {
   "cell_type": "code",
   "execution_count": 5,
   "id": "866215e0",
   "metadata": {},
   "outputs": [
    {
     "name": "stderr",
     "output_type": "stream",
     "text": [
      "100%|██████████| 1500/1500 [9:34:58<00:00, 23.00s/it]  \n"
     ]
    }
   ],
   "source": [
    "intTaus = np.arange(len(ddmData)//2)\n",
    "# ddmMatrix = np.array([None for j in range(len(intTaus))])\n",
    "ddmMatrix = []\n",
    "for tau in tqdm(intTaus):\n",
    "    # ddmMatrix[tau] = ddm_numpy(ddmData, tau) #at this point we have the 0th axis as taus and the 1st axis as qs\n",
    "    ddmMatrix.append(ddm_numpy(ddmData, tau))\n",
    "ddmMatrix = np.asarray(ddmMatrix)"
   ]
  },
  {
   "cell_type": "markdown",
   "id": "fed51aa8",
   "metadata": {},
   "source": [
    "**Determining A and B**"
   ]
  },
  {
   "cell_type": "code",
   "execution_count": 6,
   "id": "0bef1d35",
   "metadata": {},
   "outputs": [],
   "source": [
    "meanSqFFT = findMeanSqFFT_np(ddmData)\n",
    "A, B = computeAB(meanSqFFT)"
   ]
  },
  {
   "cell_type": "code",
   "execution_count": 7,
   "id": "a05e841a",
   "metadata": {},
   "outputs": [
    {
     "data": {
      "text/plain": [
       "<matplotlib.lines.Line2D at 0x2a6b86a0ac0>"
      ]
     },
     "execution_count": 7,
     "metadata": {},
     "output_type": "execute_result"
    },
    {
     "data": {
      "image/png": "[encoded data removed]",
      "text/plain": [
       "<Figure size 432x288 with 1 Axes>"
      ]
     },
     "metadata": {
      "needs_background": "light"
     },
     "output_type": "display_data"
    }
   ],
   "source": [
    "pl.plot(A[10:])\n",
    "pl.axhline(B)"
   ]
  },
  {
   "cell_type": "markdown",
   "id": "af2c9e9f",
   "metadata": {},
   "source": [
    "**Calculating the ISF**"
   ]
  },
  {
   "cell_type": "code",
   "execution_count": 8,
   "id": "703b9686",
   "metadata": {},
   "outputs": [],
   "source": [
    "isf = 1. - (ddmMatrix - B)/A\n",
    "\n",
    "isf = np.transpose(isf)"
   ]
  },
  {
   "cell_type": "markdown",
   "id": "f3f25e27",
   "metadata": {},
   "source": [
    "To access a specific q value (in units of 1/pixels) one can use regular indexing of the 0th axis of the ISF"
   ]
  },
  {
   "cell_type": "markdown",
   "id": "a54d8c30",
   "metadata": {},
   "source": [
    "**Fitting/Plotting**<br/>\n",
    "An example to fit and plot to a single exponential. Supported fitting functions are double exponential and the Schultz model"
   ]
  },
  {
   "cell_type": "code",
   "execution_count": 13,
   "id": "d5e82a1c",
   "metadata": {},
   "outputs": [
    {
     "data": {
      "image/png": "[encoded data removed]",
      "text/plain": [
       "<Figure size 432x288 with 1 Axes>"
      ]
     },
     "metadata": {
      "needs_background": "light"
     },
     "output_type": "display_data"
    }
   ],
   "source": [
    "# taus = intTaus*ddmData.tScale #taus in milliseconds\n",
    "taus = intTaus\n",
    "isf[:,0] = 1.\n",
    "plotISF(isf[:,:], taus[:], q = len(isf)//2)\n",
    "pl.loglog()\n",
    "pl.show()"
   ]
  }
 ],
 "metadata": {
  "kernelspec": {
   "display_name": "Python 3.8.13 ('ddm_env')",
   "language": "python",
   "name": "python3"
  },
  "language_info": {
   "codemirror_mode": {
    "name": "ipython",
    "version": 3
   },
   "file_extension": ".py",
   "mimetype": "text/x-python",
   "name": "python",
   "nbconvert_exporter": "python",
   "pygments_lexer": "ipython3",
   "version": "3.8.13"
  },
  "vscode": {
   "interpreter": {
    "hash": "54781e1d95c618726b59401bd82fbf1ea12a9e252ba5d23f32100ab6ec567232"
   }
  }
 },
 "nbformat": 4,
 "nbformat_minor": 5
}
