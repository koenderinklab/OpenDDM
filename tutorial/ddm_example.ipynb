{
 "cells": [
  {
   "cell_type": "code",
   "execution_count": null,
   "id": "630619cf",
   "metadata": {},
   "outputs": [],
   "source": [
    "from ddm.data_handling import read_file\n",
    "from ddm.processing import ddm_numpy #need to make sure we use the proper ddm function with dask functionality\n",
    "from ddm.fitting import findMeanSqFFT_np, computeAB\n",
    "from ddm.plotting import plotSingleExpFit, plotISF\n",
    "import numpy as np\n",
    "import matplotlib.pyplot as pl\n",
    "from tqdm.notebook import tqdm"
   ]
  },
  {
   "cell_type": "markdown",
   "id": "daa8589f",
   "metadata": {},
   "source": [
    "Begin by loading in data<br/>\n",
    "Run the ddm function on the loaded dataset<br/>\n",
    "From the resultant g(q, tau), determine A and B using findMeanSqFFT and computeAB - at this point move away from dask arrays.<br/>\n",
    "Determine the ISF for various q values<br/>\n",
    "Run fitting procedures on these with a few models and show the output<br/>\n",
    "\n",
    "Compare to traditional particle tracking algorithms"
   ]
  },
  {
   "cell_type": "markdown",
   "id": "e081eae2",
   "metadata": {},
   "source": [
    "**Loading in Data**<br/>\n",
    "At this point a user input may be required if the programme detects a multi-experiment file"
   ]
  },
  {
   "cell_type": "code",
   "execution_count": null,
   "id": "da48c3e2",
   "metadata": {},
   "outputs": [],
   "source": [
    "filename = '../data/test_dataset.tif'\n",
    "\n",
    "ddmData = read_file(filename)"
   ]
  },
  {
   "cell_type": "code",
   "execution_count": null,
   "id": "089ad0eb",
   "metadata": {},
   "outputs": [],
   "source": [
    "ddmData.data"
   ]
  },
  {
   "cell_type": "markdown",
   "id": "de8509f5",
   "metadata": {},
   "source": [
    "**Running the DDM Function**<br/>\n",
    "This part will determine the full DDM matrix as the square of the difference between Fourier transformed frames"
   ]
  },
  {
   "cell_type": "code",
   "execution_count": null,
   "id": "425f30d3",
   "metadata": {},
   "outputs": [],
   "source": [
    "ddmData = ddmData.data[0:500,:,:]\n",
    "ddmData = np.asarray(ddmData)\n"
   ]
  },
  {
   "cell_type": "code",
   "execution_count": null,
   "id": "a19e4488",
   "metadata": {},
   "outputs": [],
   "source": [
    "ddmData.shape"
   ]
  },
  {
   "cell_type": "code",
   "execution_count": null,
   "id": "b4fff648",
   "metadata": {},
   "outputs": [],
   "source": [
    "ddmMatrix = ddm_numpy(ddmData, 1)"
   ]
  },
  {
   "cell_type": "code",
   "execution_count": null,
   "id": "ea525d00",
   "metadata": {},
   "outputs": [],
   "source": [
    "ddmMatrix.shape"
   ]
  },
  {
   "cell_type": "code",
   "execution_count": null,
   "id": "866215e0",
   "metadata": {},
   "outputs": [],
   "source": [
    "intTaus = np.arange(len(ddmData)//2)\n",
    "# ddmMatrix = np.array([None for j in range(len(intTaus))])\n",
    "ddmMatrix = []\n",
    "for tau in tqdm(intTaus):\n",
    "    # ddmMatrix[tau] = ddm_numpy(ddmData, tau) #at this point we have the 0th axis as taus and the 1st axis as qs\n",
    "    ddmMatrix.append(ddm_numpy(ddmData, tau))\n",
    "ddmMatrix = np.asarray(ddmMatrix)"
   ]
  },
  {
   "cell_type": "code",
   "execution_count": null,
   "id": "2a6bcaa7",
   "metadata": {},
   "outputs": [],
   "source": [
    "pl.plot(ddmMatrix[10,:])\n",
    "pl.plot(ddmMatrix[25,:])\n",
    "pl.plot(ddmMatrix[49,:])\n",
    "pl.xlim(0, 80)"
   ]
  },
  {
   "cell_type": "markdown",
   "id": "fed51aa8",
   "metadata": {},
   "source": [
    "**Determining A and B**"
   ]
  },
  {
   "cell_type": "code",
   "execution_count": null,
   "id": "0bef1d35",
   "metadata": {},
   "outputs": [],
   "source": [
    "meanSqFFT = findMeanSqFFT_np(ddmData)\n",
    "A, B = computeAB(meanSqFFT)"
   ]
  },
  {
   "cell_type": "code",
   "execution_count": null,
   "id": "a05e841a",
   "metadata": {},
   "outputs": [],
   "source": [
    "pl.plot(A[10:])\n",
    "pl.axhline(B)"
   ]
  },
  {
   "cell_type": "markdown",
   "id": "af2c9e9f",
   "metadata": {},
   "source": [
    "**Calculating the ISF**"
   ]
  },
  {
   "cell_type": "code",
   "execution_count": null,
   "id": "703b9686",
   "metadata": {},
   "outputs": [],
   "source": [
    "isf = 1. - (ddmMatrix - B)/A\n",
    "\n",
    "isf = np.transpose(isf)"
   ]
  },
  {
   "cell_type": "markdown",
   "id": "f3f25e27",
   "metadata": {},
   "source": [
    "To access a specific q value (in units of 1/pixels) one can use regular indexing of the 0th axis of the ISF"
   ]
  },
  {
   "cell_type": "code",
   "execution_count": null,
   "id": "c83180d6",
   "metadata": {},
   "outputs": [],
   "source": [
    "#zero q\n",
    "isf[0]\n",
    "\n",
    "#medium q\n",
    "print(isf[len(isf)//2])\n",
    "\n",
    "#last q\n",
    "isf[len(isf)-1]"
   ]
  },
  {
   "cell_type": "markdown",
   "id": "a54d8c30",
   "metadata": {},
   "source": [
    "**Fitting/Plotting**<br/>\n",
    "An example to fit and plot to a single exponential. Supported fitting functions are double exponential and the Schultz model"
   ]
  },
  {
   "cell_type": "code",
   "execution_count": null,
   "id": "d5e82a1c",
   "metadata": {},
   "outputs": [],
   "source": [
    "# taus = intTaus*ddmData.tScale #taus in milliseconds\n",
    "taus = intTaus\n",
    "plotISF(isf[:,1:], taus[1:], q = len(isf)//2)\n",
    "pl.show()"
   ]
  },
  {
   "cell_type": "code",
   "execution_count": null,
   "id": "15a12f57",
   "metadata": {},
   "outputs": [],
   "source": [
    "isf.shape"
   ]
  },
  {
   "cell_type": "code",
   "execution_count": null,
   "id": "f48956d0",
   "metadata": {},
   "outputs": [],
   "source": []
  }
 ],
 "metadata": {
  "kernelspec": {
   "display_name": "Python 3.8.13 ('ddm_env')",
   "language": "python",
   "name": "python3"
  },
  "language_info": {
   "codemirror_mode": {
    "name": "ipython",
    "version": 3
   },
   "file_extension": ".py",
   "mimetype": "text/x-python",
   "name": "python",
   "nbconvert_exporter": "python",
   "pygments_lexer": "ipython3",
   "version": "3.8.13"
  },
  "vscode": {
   "interpreter": {
    "hash": "683584f1dfa387d13346b6ef2515f86bf9d1a1f881018b0cc1bd7386ea26c61e"
   }
  }
 },
 "nbformat": 4,
 "nbformat_minor": 5
}
