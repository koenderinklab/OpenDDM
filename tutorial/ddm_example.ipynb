{
 "cells": [
  {
   "cell_type": "code",
   "execution_count": 5,
   "id": "630619cf",
   "metadata": {},
   "outputs": [
    {
     "ename": "ImportError",
     "evalue": "cannot import name 'findMeanSqFFT' from 'ddm.fitting' (/home/tud258930/gitProjects/ddmPilotCode/ddm/fitting.py)",
     "output_type": "error",
     "traceback": [
      "\u001b[0;31m---------------------------------------------------------------------------\u001b[0m",
      "\u001b[0;31mImportError\u001b[0m                               Traceback (most recent call last)",
      "Input \u001b[0;32mIn [5]\u001b[0m, in \u001b[0;36m<cell line: 3>\u001b[0;34m()\u001b[0m\n\u001b[1;32m      1\u001b[0m \u001b[38;5;28;01mfrom\u001b[39;00m \u001b[38;5;21;01mddm\u001b[39;00m\u001b[38;5;21;01m.\u001b[39;00m\u001b[38;5;21;01mdata_handling\u001b[39;00m \u001b[38;5;28;01mimport\u001b[39;00m read_file\n\u001b[1;32m      2\u001b[0m \u001b[38;5;28;01mfrom\u001b[39;00m \u001b[38;5;21;01mddm\u001b[39;00m\u001b[38;5;21;01m.\u001b[39;00m\u001b[38;5;21;01mprocessing\u001b[39;00m \u001b[38;5;28;01mimport\u001b[39;00m ddm \u001b[38;5;66;03m#need to make sure we use the proper ddm function with dask functionality\u001b[39;00m\n\u001b[0;32m----> 3\u001b[0m \u001b[38;5;28;01mfrom\u001b[39;00m \u001b[38;5;21;01mddm\u001b[39;00m\u001b[38;5;21;01m.\u001b[39;00m\u001b[38;5;21;01mfitting\u001b[39;00m \u001b[38;5;28;01mimport\u001b[39;00m findMeanSqFFT, computeAB\n\u001b[1;32m      4\u001b[0m \u001b[38;5;28;01mfrom\u001b[39;00m \u001b[38;5;21;01mddm\u001b[39;00m\u001b[38;5;21;01m.\u001b[39;00m\u001b[38;5;21;01mplotting\u001b[39;00m \u001b[38;5;28;01mimport\u001b[39;00m plotSingleExpFit\n\u001b[1;32m      5\u001b[0m \u001b[38;5;28;01mimport\u001b[39;00m \u001b[38;5;21;01mnumpy\u001b[39;00m \u001b[38;5;28;01mas\u001b[39;00m \u001b[38;5;21;01mnp\u001b[39;00m\n",
      "\u001b[0;31mImportError\u001b[0m: cannot import name 'findMeanSqFFT' from 'ddm.fitting' (/home/tud258930/gitProjects/ddmPilotCode/ddm/fitting.py)"
     ]
    }
   ],
   "source": [
    "from ddm.data_handling import read_file\n",
    "from ddm.processing import ddm #need to make sure we use the proper ddm function with dask functionality\n",
    "from ddm.fitting import findMeanSqFFT, computeAB\n",
    "from ddm.plotting import plotSingleExpFit\n",
    "import numpy as np\n",
    "import matplotlib.pyplot as pl"
   ]
  },
  {
   "cell_type": "markdown",
   "id": "daa8589f",
   "metadata": {},
   "source": [
    "Begin by loading in data<br/>\n",
    "Run the ddm function on the loaded dataset<br/>\n",
    "From the resultant g(q, tau), determine A and B using findMeanSqFFT and computeAB - at this point move away from dask arrays.<br/>\n",
    "Determine the ISF for various q values<br/>\n",
    "Run fitting procedures on these with a few models and show the output<br/>\n",
    "\n",
    "Compare to traditional particle tracking algorithms"
   ]
  },
  {
   "cell_type": "markdown",
   "id": "e081eae2",
   "metadata": {},
   "source": [
    "**Loading in Data**<br/>\n",
    "At this point a user input may be required if the programme detects a multi-experiment file"
   ]
  },
  {
   "cell_type": "code",
   "execution_count": null,
   "id": "da48c3e2",
   "metadata": {},
   "outputs": [],
   "source": [
    "filename = 'foo.tif'\n",
    "\n",
    "ddmData = read_file(filename)"
   ]
  },
  {
   "cell_type": "markdown",
   "id": "de8509f5",
   "metadata": {},
   "source": [
    "**Running the DDM Function**<br/>\n",
    "This part will determine the full DDM matrix as the square of the difference between Fourier transformed frames"
   ]
  },
  {
   "cell_type": "code",
   "execution_count": null,
   "id": "866215e0",
   "metadata": {},
   "outputs": [],
   "source": [
    "intTaus = np.arange(len(ddmData)//2)\n",
    "ddmMatrix = np.array([None for j in range(len(taus))])\n",
    "for tau in taus:\n",
    "    ddmMatrix[tau] = ddm(ddmData, tau) #at this point we have the 0th axis as taus and the 1st axis as qs"
   ]
  },
  {
   "cell_type": "markdown",
   "id": "fed51aa8",
   "metadata": {},
   "source": [
    "**Determining A and B**"
   ]
  },
  {
   "cell_type": "code",
   "execution_count": null,
   "id": "0bef1d35",
   "metadata": {},
   "outputs": [],
   "source": [
    "meanSqFFT = findMeanSqFFT(ddmData)\n",
    "A, B = computeAB(meanSqFFT)"
   ]
  },
  {
   "cell_type": "markdown",
   "id": "af2c9e9f",
   "metadata": {},
   "source": [
    "**Calculating the ISF**"
   ]
  },
  {
   "cell_type": "code",
   "execution_count": null,
   "id": "703b9686",
   "metadata": {},
   "outputs": [],
   "source": [
    "isf = 1. - (ddmMatrix - B)/A\n",
    "\n",
    "isf = np.transpose(isf)"
   ]
  },
  {
   "cell_type": "markdown",
   "id": "f3f25e27",
   "metadata": {},
   "source": [
    "To access a specific q value (in units of 1/pixels) one can use regular indexing of the 0th axis of the ISF"
   ]
  },
  {
   "cell_type": "code",
   "execution_count": null,
   "id": "c83180d6",
   "metadata": {},
   "outputs": [],
   "source": [
    "#zero q\n",
    "isf[0]\n",
    "\n",
    "#medium q\n",
    "isf[len(isf)//2]\n",
    "\n",
    "#last q\n",
    "isf[len(isf)-1]"
   ]
  },
  {
   "cell_type": "markdown",
   "id": "a54d8c30",
   "metadata": {},
   "source": [
    "**Fitting/Plotting**<br/>\n",
    "An example to fit and plot to a single exponential. Supported fitting functions are double exponential and the Schultz model"
   ]
  },
  {
   "cell_type": "code",
   "execution_count": null,
   "id": "d5e82a1c",
   "metadata": {},
   "outputs": [],
   "source": [
    "taus = intTaus*ddmData.tScale #taus in milliseconds\n",
    "\n",
    "plotSingleExpFit(isf, taus, q = len(isf)//2)\n",
    "pl.show()"
   ]
  }
 ],
 "metadata": {
  "kernelspec": {
   "display_name": "Python 3 (ipykernel)",
   "language": "python",
   "name": "python3"
  },
  "language_info": {
   "codemirror_mode": {
    "name": "ipython",
    "version": 3
   },
   "file_extension": ".py",
   "mimetype": "text/x-python",
   "name": "python",
   "nbconvert_exporter": "python",
   "pygments_lexer": "ipython3",
   "version": "3.8.13"
  }
 },
 "nbformat": 4,
 "nbformat_minor": 5
}
