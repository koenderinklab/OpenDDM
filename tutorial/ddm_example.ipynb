{
 "cells": [
  {
   "cell_type": "code",
   "execution_count": null,
   "id": "630619cf",
   "metadata": {},
   "outputs": [],
   "source": [
    "import numpy as np\n",
    "import matplotlib.pyplot as plt\n",
    "import xarray as xr\n",
    "\n",
    "# Import ddm functions\n",
    "from ddm.data_handling import read_file, export_data\n",
    "from ddm.processing import ddm\n",
    "from ddm.fitting import compute_AB, compute_ISF\n",
    "from ddm.plotting import plotSingleExpFit, plotISF"
   ]
  },
  {
   "cell_type": "markdown",
   "id": "daa8589f",
   "metadata": {},
   "source": [
    "### Steps\n",
    "\n",
    "1. Load dataset. Supported formats are .tif, .nd2, and .lif.\n",
    "1. From the resultant g(q, tau), determine A and B using `compute_AB` - at this point move away from dask arrays.\n",
    "1. Run the ddm function on the loaded dataset\n",
    "1. Determine the ISF for various q values\n",
    "1. Run fitting procedures on these with a few models and show the output\n",
    "1. TODO: Compare to traditional particle tracking algorithms"
   ]
  },
  {
   "cell_type": "markdown",
   "id": "e081eae2",
   "metadata": {},
   "source": [
    "### Loading in Data\n"
   ]
  },
  {
   "cell_type": "code",
   "execution_count": null,
   "id": "da48c3e2",
   "metadata": {},
   "outputs": [],
   "source": [
    "data_file = \"../data/test_dataset_drift.tif\"\n",
    "output_path = \"../results/\""
   ]
  },
  {
   "cell_type": "markdown",
   "id": "88498a18",
   "metadata": {},
   "source": [
    "At this point additional user input may be required if the programme detects a multi-experiment file"
   ]
  },
  {
   "cell_type": "code",
   "execution_count": null,
   "id": "6f0982b1",
   "metadata": {},
   "outputs": [],
   "source": [
    "ddmData = read_file(data_file, delayed=True, chunk_size=5)"
   ]
  },
  {
   "cell_type": "markdown",
   "id": "fed51aa8",
   "metadata": {},
   "source": [
    "### Determining A and B"
   ]
  },
  {
   "cell_type": "code",
   "execution_count": null,
   "id": "0bef1d35",
   "metadata": {},
   "outputs": [],
   "source": [
    "# Calculation on the CPU using dask (GPU not yet supported)\n",
    "A, B = compute_AB(ddmData)"
   ]
  },
  {
   "cell_type": "code",
   "execution_count": null,
   "id": "a05e841a",
   "metadata": {},
   "outputs": [],
   "source": [
    "plt.plot(A[10:])\n",
    "plt.axhline(B, color='r', linestyle='--')\n",
    "plt.show()"
   ]
  },
  {
   "cell_type": "code",
   "execution_count": null,
   "id": "93750f25",
   "metadata": {},
   "outputs": [],
   "source": [
    "#TODO Save A,B"
   ]
  },
  {
   "cell_type": "markdown",
   "id": "de8509f5",
   "metadata": {},
   "source": [
    "### Running the DDM Function\n",
    "This part will determine the full DDM matrix as the square of the difference between Fourier transformed frames.\n",
    "\n",
    "_This calculation can be performed on a CPU or a GPU. If a GPU is detected and CUDA and cupy are installed, the GPU will be selected._"
   ]
  },
  {
   "cell_type": "code",
   "execution_count": null,
   "id": "ab5aae48",
   "metadata": {},
   "outputs": [],
   "source": [
    "taus = np.arange(1,50)\n",
    "ddmMatrix = ddm(ddmData, taus)"
   ]
  },
  {
   "cell_type": "code",
   "execution_count": null,
   "id": "2a6bcaa7",
   "metadata": {},
   "outputs": [],
   "source": [
    "for result in ddmMatrix:\n",
    "    plt.plot(result, 'k', alpha=0.1)\n",
    "plt.xlim(0, 100)\n",
    "plt.show()"
   ]
  },
  {
   "cell_type": "markdown",
   "id": "76dcd09f",
   "metadata": {},
   "source": [
    "### Export ddmMatrix\n",
    "If an output file already exists, an attempt is made to combine the datasets. This allows for the iterative calculation of (monotonically) increasing lag times."
   ]
  },
  {
   "cell_type": "code",
   "execution_count": null,
   "id": "129d4bd1",
   "metadata": {},
   "outputs": [],
   "source": [
    "# Export ddm matrix\n",
    "ddmMatrix = export_data(output_path, ddmMatrix, taus, data_file)"
   ]
  },
  {
   "cell_type": "markdown",
   "id": "af2c9e9f",
   "metadata": {},
   "source": [
    "### Calculating the ISF"
   ]
  },
  {
   "cell_type": "code",
   "execution_count": null,
   "id": "dbdb0d02",
   "metadata": {},
   "outputs": [],
   "source": [
    "isf = compute_ISF(ddmMatrix.data, A, B)"
   ]
  },
  {
   "cell_type": "markdown",
   "id": "f3f25e27",
   "metadata": {},
   "source": [
    "To access a specific q value (in units of 1/pixels) one can use regular indexing of the 0th axis of the ISF"
   ]
  },
  {
   "cell_type": "code",
   "execution_count": null,
   "id": "c83180d6",
   "metadata": {},
   "outputs": [],
   "source": [
    "#zero q\n",
    "isf[0]\n",
    "\n",
    "#medium q\n",
    "isf[len(isf)//2]\n",
    "\n",
    "#last q\n",
    "isf[len(isf)-1]"
   ]
  },
  {
   "cell_type": "markdown",
   "id": "a54d8c30",
   "metadata": {},
   "source": [
    "### Fitting/Plotting\n",
    "An example to fit and plot to a single exponential. Supported fitting functions are double exponential and the Schultz model"
   ]
  },
  {
   "cell_type": "code",
   "execution_count": null,
   "id": "d5e82a1c",
   "metadata": {},
   "outputs": [],
   "source": [
    "taus = ddmMatrix[\"tau\"]\n",
    "plotISF(isf, taus, q = len(isf)//2)\n",
    "plotSingleExpFit(isf, taus)\n",
    "plt.ylim(None, 1)\n",
    "plt.show()"
   ]
  }
 ],
 "metadata": {
  "kernelspec": {
   "display_name": "Python 3.8.13 ('ddm_env')",
   "language": "python",
   "name": "python3"
  },
  "language_info": {
   "codemirror_mode": {
    "name": "ipython",
    "version": 3
   },
   "file_extension": ".py",
   "mimetype": "text/x-python",
   "name": "python",
   "nbconvert_exporter": "python",
   "pygments_lexer": "ipython3",
   "version": "3.8.13"
  },
  "vscode": {
   "interpreter": {
    "hash": "5d3ba36e63629f58b0b91fca6dd69f41cc067643cf698e645db0540ff966b8cd"
   }
  }
 },
 "nbformat": 4,
 "nbformat_minor": 5
}
