{
 "cells": [
  {
   "cell_type": "code",
   "execution_count": null,
   "metadata": {},
   "outputs": [],
   "source": [
    "import numpy as np\n",
    "import matplotlib.pyplot as plt\n",
    "\n",
    "from ddm.simulation import (\n",
    "    generate_tracks, \n",
    "    get_diffusion_coefficient, \n",
    "    generate_images,\n",
    "    save_stack\n",
    "    )"
   ]
  },
  {
   "cell_type": "markdown",
   "metadata": {},
   "source": [
    "### Set diffusion coefficient"
   ]
  },
  {
   "cell_type": "code",
   "execution_count": null,
   "metadata": {},
   "outputs": [],
   "source": [
    "# Set parameters\n",
    "particle_size = 1e-6 # in meters\n",
    "eta = 1e-3 # viscosity of water in Pascal-seconds\n",
    "T = 293 # temperature in Kelvin\n",
    "\n",
    "D = get_diffusion_coefficient(particle_size, eta, T)\n",
    "print(f\"The calculated diffusion coefficient is {D}\")"
   ]
  },
  {
   "cell_type": "markdown",
   "metadata": {},
   "source": [
    "### Create particle trajectory in 2D"
   ]
  },
  {
   "cell_type": "code",
   "execution_count": null,
   "metadata": {},
   "outputs": [],
   "source": [
    "# Set parameters\n",
    "n_particles = 500\n",
    "steps = 1000 # time steps in frames\n",
    "tau = 0.01 # time delta between steps in seconds\n",
    "drift = (0.0, 0.0) # sample drift in (x,y) in fraction of steps size\n",
    "window = (512, 512) # image size in pixels (x,y)\n",
    "pixel_size = 1e-7 # image pixel size in meters\n",
    "\n",
    "tracks = generate_tracks(n_particles, steps, tau, drift, window, pixel_size, D)\n",
    "tracks.shape"
   ]
  },
  {
   "cell_type": "markdown",
   "metadata": {},
   "source": [
    "#### Evaluate diffusion coefficient from simulated tracks"
   ]
  },
  {
   "cell_type": "code",
   "execution_count": null,
   "metadata": {},
   "outputs": [],
   "source": [
    "# Calculate diffusion from all tracks\n",
    "dx = np.diff(tracks[:,0,:]) * pixel_size\n",
    "dy = np.diff(tracks[:,1,:]) * pixel_size\n",
    "dsquare = dx**2 + dy**2\n",
    "D_sim = np.mean(dsquare) / (2 * 2 * tau)\n",
    "print(f\"Expected diffusion coefficient = {D} \\nSimulated diffusion coefficient = {D_sim}\")"
   ]
  },
  {
   "cell_type": "markdown",
   "metadata": {},
   "source": [
    "#### Particle motion"
   ]
  },
  {
   "cell_type": "code",
   "execution_count": null,
   "metadata": {},
   "outputs": [],
   "source": [
    "# Single particle movement\n",
    "x = tracks[0,0,:]\n",
    "y = tracks[0,1,:]\n",
    "plt.plot(x, y)\n",
    "plt.show()"
   ]
  },
  {
   "cell_type": "markdown",
   "metadata": {},
   "source": [
    "#### Particle displacement"
   ]
  },
  {
   "cell_type": "code",
   "execution_count": null,
   "metadata": {},
   "outputs": [],
   "source": [
    "dsquared = []\n",
    "for particle in range(n_particles):\n",
    "    x = (tracks[particle,0,:] - tracks[particle,0,0]) * pixel_size\n",
    "    y = (tracks[particle,1,:] - tracks[particle,1,0]) * pixel_size\n",
    "    dsquared.append(x**2 + y**2)\n",
    "    time = np.arange(0, steps*tau, tau)\n",
    "    plt.plot(time, dsquared[-1], 'k', linewidth=0.04)\n",
    "\n",
    "# Theoretical displacement without drift\n",
    "k = np.sqrt(2*D*tau)\n",
    "z = np.arange(steps) * 2 * k**2\n",
    "plt.plot(time, z, 'r--', linewidth=2)\n",
    "\n",
    "# Plot mean displacement of particles\n",
    "dsquared_mean = np.asarray(dsquared).mean(axis=0)\n",
    "plt.plot(time, dsquared_mean, 'b--', linewidth=2)\n",
    "plt.show()"
   ]
  },
  {
   "cell_type": "markdown",
   "metadata": {},
   "source": [
    "### Generate microscopy images"
   ]
  },
  {
   "cell_type": "code",
   "execution_count": null,
   "metadata": {},
   "outputs": [],
   "source": [
    "stack = generate_images(tracks)"
   ]
  },
  {
   "cell_type": "code",
   "execution_count": null,
   "metadata": {},
   "outputs": [],
   "source": [
    "type(stack)"
   ]
  },
  {
   "cell_type": "code",
   "execution_count": null,
   "metadata": {},
   "outputs": [],
   "source": [
    "# Inspect frame\n",
    "plt.imshow(stack[0], cmap=\"gray\")\n",
    "plt.show()"
   ]
  },
  {
   "cell_type": "markdown",
   "metadata": {},
   "source": [
    "### Save images as .tif"
   ]
  },
  {
   "cell_type": "code",
   "execution_count": null,
   "metadata": {},
   "outputs": [],
   "source": [
    "file_path = \"../data/sim_diffusion.tif\"\n",
    "save_stack(file_path, stack)"
   ]
  }
 ],
 "metadata": {
  "kernelspec": {
   "display_name": "Python 3.8.13 ('ddm_env')",
   "language": "python",
   "name": "python3"
  },
  "language_info": {
   "codemirror_mode": {
    "name": "ipython",
    "version": 3
   },
   "file_extension": ".py",
   "mimetype": "text/x-python",
   "name": "python",
   "nbconvert_exporter": "python",
   "pygments_lexer": "ipython3",
   "version": "3.8.13"
  },
  "orig_nbformat": 4,
  "vscode": {
   "interpreter": {
    "hash": "5d3ba36e63629f58b0b91fca6dd69f41cc067643cf698e645db0540ff966b8cd"
   }
  }
 },
 "nbformat": 4,
 "nbformat_minor": 2
}
