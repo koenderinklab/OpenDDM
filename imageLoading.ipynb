{
 "cells": [
  {
   "cell_type": "code",
   "execution_count": 1,
   "id": "9e542b0c",
   "metadata": {},
   "outputs": [],
   "source": [
    "import numpy as np\n",
    "import nd2reader\n",
    "import readlif\n",
    "import xarray\n",
    "import matplotlib\n",
    "import matplotlib.pyplot as pl"
   ]
  },
  {
   "cell_type": "code",
   "execution_count": 2,
   "id": "36da15a3",
   "metadata": {},
   "outputs": [],
   "source": [
    "import pims"
   ]
  },
  {
   "cell_type": "code",
   "execution_count": null,
   "id": "f024dc66",
   "metadata": {},
   "outputs": [],
   "source": [
    "ims = pims.open('data/BF_beads_water.nd2')"
   ]
  },
  {
   "cell_type": "code",
   "execution_count": null,
   "id": "ae486d36",
   "metadata": {},
   "outputs": [],
   "source": [
    "ims"
   ]
  },
  {
   "cell_type": "code",
   "execution_count": null,
   "id": "9af552f1",
   "metadata": {},
   "outputs": [],
   "source": [
    "ims.metadata"
   ]
  },
  {
   "cell_type": "code",
   "execution_count": null,
   "id": "bc9583bb",
   "metadata": {},
   "outputs": [],
   "source": [
    "ims.metadata['pixel_microns']"
   ]
  },
  {
   "cell_type": "code",
   "execution_count": null,
   "id": "de830875",
   "metadata": {},
   "outputs": [],
   "source": [
    "ims.metadata['experiment']['loops']"
   ]
  },
  {
   "cell_type": "code",
   "execution_count": null,
   "id": "410bd7c0",
   "metadata": {},
   "outputs": [],
   "source": [
    "nd2images = nd2reader.ND2Reader('data/A1_s3001.nd2')"
   ]
  },
  {
   "cell_type": "markdown",
   "id": "b31bfdc0",
   "metadata": {},
   "source": [
    "I had to run this on installation\n",
    "\n",
    "pims.bioformats.download_jar(version='6.5')"
   ]
  },
  {
   "cell_type": "code",
   "execution_count": 3,
   "id": "8934d194",
   "metadata": {},
   "outputs": [
    {
     "ename": "JVMNotFoundException",
     "evalue": "No JVM shared library file (jvm.dll) found. Try setting up the JAVA_HOME environment variable properly.",
     "output_type": "error",
     "traceback": [
      "\u001b[1;31m---------------------------------------------------------------------------\u001b[0m",
      "\u001b[1;31mJVMNotFoundException\u001b[0m                      Traceback (most recent call last)",
      "Input \u001b[1;32mIn [3]\u001b[0m, in \u001b[0;36m<cell line: 1>\u001b[1;34m()\u001b[0m\n\u001b[1;32m----> 1\u001b[0m \u001b[43mpims\u001b[49m\u001b[38;5;241;43m.\u001b[39;49m\u001b[43mBioformats\u001b[49m\u001b[43m(\u001b[49m\u001b[38;5;124;43m'\u001b[39;49m\u001b[38;5;124;43mdata/21-03-31_ddm.lif\u001b[39;49m\u001b[38;5;124;43m'\u001b[39;49m\u001b[43m)\u001b[49m\n",
      "File \u001b[1;32mC:\\Programs\\Anaconda3\\envs\\ddm_env\\lib\\site-packages\\pims\\bioformats.py:342\u001b[0m, in \u001b[0;36mBioformatsReader.__init__\u001b[1;34m(self, filename, meta, java_memory, read_mode, series)\u001b[0m\n\u001b[0;32m    340\u001b[0m \u001b[38;5;28;01melse\u001b[39;00m:\n\u001b[0;32m    341\u001b[0m     startJVM_kwargs \u001b[38;5;241m=\u001b[39m {}  \u001b[38;5;66;03m# convertStrings kwarg not supported for earlier jpype versions\u001b[39;00m\n\u001b[1;32m--> 342\u001b[0m jpype\u001b[38;5;241m.\u001b[39mstartJVM(\u001b[43mjpype\u001b[49m\u001b[38;5;241;43m.\u001b[39;49m\u001b[43mgetDefaultJVMPath\u001b[49m\u001b[43m(\u001b[49m\u001b[43m)\u001b[49m, \u001b[38;5;124m'\u001b[39m\u001b[38;5;124m-ea\u001b[39m\u001b[38;5;124m'\u001b[39m,\n\u001b[0;32m    343\u001b[0m                \u001b[38;5;124m'\u001b[39m\u001b[38;5;124m-Djava.class.path=\u001b[39m\u001b[38;5;124m'\u001b[39m \u001b[38;5;241m+\u001b[39m loci_path,\n\u001b[0;32m    344\u001b[0m                \u001b[38;5;124m'\u001b[39m\u001b[38;5;124m-Xmx\u001b[39m\u001b[38;5;124m'\u001b[39m \u001b[38;5;241m+\u001b[39m java_memory, \u001b[38;5;241m*\u001b[39m\u001b[38;5;241m*\u001b[39mstartJVM_kwargs)\n\u001b[0;32m    345\u001b[0m log4j \u001b[38;5;241m=\u001b[39m jpype\u001b[38;5;241m.\u001b[39mJPackage(\u001b[38;5;124m'\u001b[39m\u001b[38;5;124morg.apache.log4j\u001b[39m\u001b[38;5;124m'\u001b[39m)\n\u001b[0;32m    346\u001b[0m log4j\u001b[38;5;241m.\u001b[39mBasicConfigurator\u001b[38;5;241m.\u001b[39mconfigure()\n",
      "File \u001b[1;32mC:\\Programs\\Anaconda3\\envs\\ddm_env\\lib\\site-packages\\jpype\\_jvmfinder.py:74\u001b[0m, in \u001b[0;36mgetDefaultJVMPath\u001b[1;34m()\u001b[0m\n\u001b[0;32m     72\u001b[0m \u001b[38;5;28;01melse\u001b[39;00m:\n\u001b[0;32m     73\u001b[0m     finder \u001b[38;5;241m=\u001b[39m LinuxJVMFinder()\n\u001b[1;32m---> 74\u001b[0m \u001b[38;5;28;01mreturn\u001b[39;00m \u001b[43mfinder\u001b[49m\u001b[38;5;241;43m.\u001b[39;49m\u001b[43mget_jvm_path\u001b[49m\u001b[43m(\u001b[49m\u001b[43m)\u001b[49m\n",
      "File \u001b[1;32mC:\\Programs\\Anaconda3\\envs\\ddm_env\\lib\\site-packages\\jpype\\_jvmfinder.py:212\u001b[0m, in \u001b[0;36mJVMFinder.get_jvm_path\u001b[1;34m(self)\u001b[0m\n\u001b[0;32m    210\u001b[0m \u001b[38;5;28;01mif\u001b[39;00m jvm_notsupport_ext \u001b[38;5;129;01mis\u001b[39;00m \u001b[38;5;129;01mnot\u001b[39;00m \u001b[38;5;28;01mNone\u001b[39;00m:\n\u001b[0;32m    211\u001b[0m     \u001b[38;5;28;01mraise\u001b[39;00m jvm_notsupport_ext\n\u001b[1;32m--> 212\u001b[0m \u001b[38;5;28;01mraise\u001b[39;00m JVMNotFoundException(\u001b[38;5;124m\"\u001b[39m\u001b[38;5;124mNo JVM shared library file (\u001b[39m\u001b[38;5;132;01m{0}\u001b[39;00m\u001b[38;5;124m) \u001b[39m\u001b[38;5;124m\"\u001b[39m\n\u001b[0;32m    213\u001b[0m                            \u001b[38;5;124m\"\u001b[39m\u001b[38;5;124mfound. Try setting up the JAVA_HOME \u001b[39m\u001b[38;5;124m\"\u001b[39m\n\u001b[0;32m    214\u001b[0m                            \u001b[38;5;124m\"\u001b[39m\u001b[38;5;124menvironment variable properly.\u001b[39m\u001b[38;5;124m\"\u001b[39m\n\u001b[0;32m    215\u001b[0m                            \u001b[38;5;241m.\u001b[39mformat(\u001b[38;5;28mself\u001b[39m\u001b[38;5;241m.\u001b[39m_libfile))\n",
      "\u001b[1;31mJVMNotFoundException\u001b[0m: No JVM shared library file (jvm.dll) found. Try setting up the JAVA_HOME environment variable properly."
     ]
    }
   ],
   "source": [
    "pims.Bioformats('data/21-03-31_ddm.lif')"
   ]
  },
  {
   "cell_type": "code",
   "execution_count": null,
   "id": "c520e740",
   "metadata": {},
   "outputs": [],
   "source": []
  }
 ],
 "metadata": {
  "kernelspec": {
   "display_name": "Python 3 (ipykernel)",
   "language": "python",
   "name": "python3"
  },
  "language_info": {
   "codemirror_mode": {
    "name": "ipython",
    "version": 3
   },
   "file_extension": ".py",
   "mimetype": "text/x-python",
   "name": "python",
   "nbconvert_exporter": "python",
   "pygments_lexer": "ipython3",
   "version": "3.8.13"
  }
 },
 "nbformat": 4,
 "nbformat_minor": 5
}
