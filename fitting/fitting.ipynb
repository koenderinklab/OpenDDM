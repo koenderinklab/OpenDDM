{
 "cells": [
  {
   "cell_type": "code",
   "execution_count": 4,
   "id": "6b382fa6",
   "metadata": {},
   "outputs": [],
   "source": [
    "import numpy as np\n",
    "from scipy.optimize import curve_fit"
   ]
  },
  {
   "cell_type": "code",
   "execution_count": 6,
   "id": "2e98c9f4",
   "metadata": {},
   "outputs": [],
   "source": [
    "def singleExp(t, tau, S):\n",
    "    \"\"\"\n",
    "    Function for single exponential DDM fits\n",
    "\n",
    "    Parameters\n",
    "    ----------\n",
    "    t : array_like\n",
    "        array of the lag times\n",
    "    tau : float\n",
    "        decay time\n",
    "    S: float\n",
    "        stretching exponent\n",
    "\n",
    "    Returns\n",
    "    -------\n",
    "    theoretical single exponential ISF for given parameters\n",
    "    \"\"\"\n",
    "    return np.exp(-1 * (t/tau)**S)"
   ]
  },
  {
   "cell_type": "code",
   "execution_count": 2,
   "id": "ae37de35",
   "metadata": {},
   "outputs": [],
   "source": [
    "def doubleExp(t, tau1, tau2, n, B, S1, S2):\n",
    "    \"\"\"\n",
    "    Function for single exponential DDM fits\n",
    "\n",
    "    Parameters\n",
    "    ----------\n",
    "    t : array_like\n",
    "        array of the lag times\n",
    "    tau1 : float\n",
    "        decay time for first exponential\n",
    "    tau2 : float\n",
    "        decay time for second exponential\n",
    "    n: float\n",
    "        fraction of dynamics for first exponential\n",
    "    S1: float\n",
    "        stretching exponent for first exponential\n",
    "    S2: float\n",
    "        stretching exponent for second exponential\n",
    "\n",
    "    Returns\n",
    "    -------\n",
    "    theoretical double exponential ISF for given parameters\n",
    "    \"\"\"\n",
    "    return n * np.exp(-1 * (t/tau1)**S1) + (1 - n) * np.exp(-1 * (t/tau2)**S2) "
   ]
  },
  {
   "cell_type": "code",
   "execution_count": 7,
   "id": "6c2696f7",
   "metadata": {},
   "outputs": [],
   "source": [
    "def schultz(t, tau1, tau2, n, S, Z):\n",
    "    \"\"\"\n",
    "    Function for the so called Schultz model for fitting to DDM data containing\n",
    "    both diffusive and actively directed motion\n",
    "\n",
    "    Parameters\n",
    "    ----------\n",
    "    t : array_like\n",
    "        array of the lag times\n",
    "    tau1 : float\n",
    "        decay time for the exponential part of ISF\n",
    "    tau2 : floar\n",
    "        decay time for directed motion part of ISF\n",
    "    n : float\n",
    "        fraction of dynamics undergoing ballistic motion\n",
    "    S: float\n",
    "        stretching exponent\n",
    "    Z : float\n",
    "        Schultz distribution number\n",
    "\n",
    "    Returns\n",
    "    -------\n",
    "    theoretical ISF for schultz distribution for given values\n",
    "    \"\"\"\n",
    "    \n",
    "    theta = (t / tau2)/(Z + 1.0)\n",
    "    VDist = ((Z + 1.0)/((Z * lagtime)/tau2)) * np.sin(Z * np.arctan(theta))/((1.0 + theta**2.0)**(Z/2.0))\n",
    "    return np.exp(-1.0 * (lagtime/tau1)**S) * ((1.0 - n) + n*VDist)"
   ]
  },
  {
   "cell_type": "code",
   "execution_count": 8,
   "id": "04236111",
   "metadata": {},
   "outputs": [],
   "source": [
    "def DDM_Matix(ISF, A, B):\n",
    "    \"\"\"\n",
    "    Function to calculate the DDM matrix from a given ISF\n",
    "\n",
    "    Parameters\n",
    "    ----------\n",
    "    ISF : array_like\n",
    "        array containing the ISF\n",
    "    A : float\n",
    "        scaling amplitude factor\n",
    "    B : float\n",
    "        background term\n",
    "\n",
    "    Returns\n",
    "    -------\n",
    "    theoretical DDM matrix for given ISF\n",
    "    \"\"\"\n",
    "    \n",
    "    return A * (1 - ISF) + B"
   ]
  },
  {
   "cell_type": "code",
   "execution_count": null,
   "id": "e2267825",
   "metadata": {},
   "outputs": [],
   "source": []
  }
 ],
 "metadata": {
  "kernelspec": {
   "display_name": "Python 3 (ipykernel)",
   "language": "python",
   "name": "python3"
  },
  "language_info": {
   "codemirror_mode": {
    "name": "ipython",
    "version": 3
   },
   "file_extension": ".py",
   "mimetype": "text/x-python",
   "name": "python",
   "nbconvert_exporter": "python",
   "pygments_lexer": "ipython3",
   "version": "3.8.10"
  }
 },
 "nbformat": 4,
 "nbformat_minor": 5
}
